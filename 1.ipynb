{
 "cells": [
  {
   "cell_type": "code",
   "execution_count": 70,
   "metadata": {},
   "outputs": [],
   "source": [
    "import pandas as pd\n",
    "import numpy as np\n",
    "import matplotlib.pyplot as plt\n",
    "from scipy.stats import norm\n",
    "# import scipy.stats as stats \n",
    "# import seaborn as sns\n",
    "pd.options.mode.chained_assignment = None  # default='warn'"
   ]
  },
  {
   "cell_type": "markdown",
   "metadata": {},
   "source": [
    "# DATA DESCRIPTION"
   ]
  },
  {
   "cell_type": "code",
   "execution_count": 71,
   "metadata": {},
   "outputs": [
    {
     "data": {
      "text/html": [
       "<div>\n",
       "<style scoped>\n",
       "    .dataframe tbody tr th:only-of-type {\n",
       "        vertical-align: middle;\n",
       "    }\n",
       "\n",
       "    .dataframe tbody tr th {\n",
       "        vertical-align: top;\n",
       "    }\n",
       "\n",
       "    .dataframe thead th {\n",
       "        text-align: right;\n",
       "    }\n",
       "</style>\n",
       "<table border=\"1\" class=\"dataframe\">\n",
       "  <thead>\n",
       "    <tr style=\"text-align: right;\">\n",
       "      <th></th>\n",
       "      <th>Unnamed: 0</th>\n",
       "      <th>Age</th>\n",
       "      <th>Income</th>\n",
       "      <th>Gender</th>\n",
       "      <th>Education</th>\n",
       "      <th>Stress_Level</th>\n",
       "      <th>Exercise_Hours_Per_Week</th>\n",
       "      <th>Cholesterol_Level</th>\n",
       "      <th>Weight</th>\n",
       "      <th>Height</th>\n",
       "      <th>Blood_Pressure</th>\n",
       "      <th>Health_Status</th>\n",
       "    </tr>\n",
       "  </thead>\n",
       "  <tbody>\n",
       "    <tr>\n",
       "      <th>0</th>\n",
       "      <td>0</td>\n",
       "      <td>50</td>\n",
       "      <td>3.093457e+06</td>\n",
       "      <td>Male</td>\n",
       "      <td>Bachelor's Degree</td>\n",
       "      <td>4.967887</td>\n",
       "      <td>16.632494</td>\n",
       "      <td>200.419036</td>\n",
       "      <td>70.917032</td>\n",
       "      <td>150.401537</td>\n",
       "      <td>125.568820</td>\n",
       "      <td>Excellent</td>\n",
       "    </tr>\n",
       "    <tr>\n",
       "      <th>1</th>\n",
       "      <td>1</td>\n",
       "      <td>44</td>\n",
       "      <td>5.545445e+06</td>\n",
       "      <td>Male</td>\n",
       "      <td>Bachelor's Degree</td>\n",
       "      <td>5.833649</td>\n",
       "      <td>13.255988</td>\n",
       "      <td>201.010046</td>\n",
       "      <td>70.669576</td>\n",
       "      <td>149.285349</td>\n",
       "      <td>125.603505</td>\n",
       "      <td>Fair</td>\n",
       "    </tr>\n",
       "    <tr>\n",
       "      <th>2</th>\n",
       "      <td>2</td>\n",
       "      <td>25</td>\n",
       "      <td>4.401808e+06</td>\n",
       "      <td>Male</td>\n",
       "      <td>Master's Degree</td>\n",
       "      <td>5.587946</td>\n",
       "      <td>11.144370</td>\n",
       "      <td>200.105258</td>\n",
       "      <td>67.464506</td>\n",
       "      <td>150.020695</td>\n",
       "      <td>127.093163</td>\n",
       "      <td>Excellent</td>\n",
       "    </tr>\n",
       "    <tr>\n",
       "      <th>3</th>\n",
       "      <td>3</td>\n",
       "      <td>41</td>\n",
       "      <td>4.606865e+06</td>\n",
       "      <td>Female</td>\n",
       "      <td>High School</td>\n",
       "      <td>6.271119</td>\n",
       "      <td>9.140268</td>\n",
       "      <td>199.648701</td>\n",
       "      <td>67.566598</td>\n",
       "      <td>150.360963</td>\n",
       "      <td>117.388100</td>\n",
       "      <td>Poor</td>\n",
       "    </tr>\n",
       "    <tr>\n",
       "      <th>4</th>\n",
       "      <td>4</td>\n",
       "      <td>24</td>\n",
       "      <td>6.956049e+06</td>\n",
       "      <td>Male</td>\n",
       "      <td>Bachelor's Degree</td>\n",
       "      <td>5.895226</td>\n",
       "      <td>9.775610</td>\n",
       "      <td>199.330152</td>\n",
       "      <td>79.601530</td>\n",
       "      <td>149.730525</td>\n",
       "      <td>114.163706</td>\n",
       "      <td>Fair</td>\n",
       "    </tr>\n",
       "  </tbody>\n",
       "</table>\n",
       "</div>"
      ],
      "text/plain": [
       "   Unnamed: 0  Age        Income  Gender          Education  Stress_Level  \\\n",
       "0           0   50  3.093457e+06    Male  Bachelor's Degree      4.967887   \n",
       "1           1   44  5.545445e+06    Male  Bachelor's Degree      5.833649   \n",
       "2           2   25  4.401808e+06    Male    Master's Degree      5.587946   \n",
       "3           3   41  4.606865e+06  Female        High School      6.271119   \n",
       "4           4   24  6.956049e+06    Male  Bachelor's Degree      5.895226   \n",
       "\n",
       "   Exercise_Hours_Per_Week  Cholesterol_Level     Weight      Height  \\\n",
       "0                16.632494         200.419036  70.917032  150.401537   \n",
       "1                13.255988         201.010046  70.669576  149.285349   \n",
       "2                11.144370         200.105258  67.464506  150.020695   \n",
       "3                 9.140268         199.648701  67.566598  150.360963   \n",
       "4                 9.775610         199.330152  79.601530  149.730525   \n",
       "\n",
       "   Blood_Pressure Health_Status  \n",
       "0      125.568820     Excellent  \n",
       "1      125.603505          Fair  \n",
       "2      127.093163     Excellent  \n",
       "3      117.388100          Poor  \n",
       "4      114.163706          Fair  "
      ]
     },
     "execution_count": 71,
     "metadata": {},
     "output_type": "execute_result"
    }
   ],
   "source": [
    "# Read data\n",
    "data = pd.read_csv(\"health.csv\")\n",
    "data.head()"
   ]
  },
  {
   "cell_type": "code",
   "execution_count": 72,
   "metadata": {},
   "outputs": [
    {
     "name": "stdout",
     "output_type": "stream",
     "text": [
      "<class 'pandas.core.frame.DataFrame'>\n",
      "RangeIndex: 2000 entries, 0 to 1999\n",
      "Data columns (total 12 columns):\n",
      " #   Column                   Non-Null Count  Dtype  \n",
      "---  ------                   --------------  -----  \n",
      " 0   Unnamed: 0               2000 non-null   int64  \n",
      " 1   Age                      2000 non-null   int64  \n",
      " 2   Income                   2000 non-null   float64\n",
      " 3   Gender                   2000 non-null   object \n",
      " 4   Education                2000 non-null   object \n",
      " 5   Stress_Level             2000 non-null   float64\n",
      " 6   Exercise_Hours_Per_Week  2000 non-null   float64\n",
      " 7   Cholesterol_Level        2000 non-null   float64\n",
      " 8   Weight                   2000 non-null   float64\n",
      " 9   Height                   2000 non-null   float64\n",
      " 10  Blood_Pressure           2000 non-null   float64\n",
      " 11  Health_Status            2000 non-null   object \n",
      "dtypes: float64(7), int64(2), object(3)\n",
      "memory usage: 187.6+ KB\n"
     ]
    }
   ],
   "source": [
    "# Data information\n",
    "data.info()"
   ]
  },
  {
   "cell_type": "code",
   "execution_count": 73,
   "metadata": {},
   "outputs": [
    {
     "data": {
      "text/html": [
       "<div>\n",
       "<style scoped>\n",
       "    .dataframe tbody tr th:only-of-type {\n",
       "        vertical-align: middle;\n",
       "    }\n",
       "\n",
       "    .dataframe tbody tr th {\n",
       "        vertical-align: top;\n",
       "    }\n",
       "\n",
       "    .dataframe thead th {\n",
       "        text-align: right;\n",
       "    }\n",
       "</style>\n",
       "<table border=\"1\" class=\"dataframe\">\n",
       "  <thead>\n",
       "    <tr style=\"text-align: right;\">\n",
       "      <th></th>\n",
       "      <th>Unnamed: 0</th>\n",
       "      <th>Age</th>\n",
       "      <th>Income</th>\n",
       "      <th>Stress_Level</th>\n",
       "      <th>Exercise_Hours_Per_Week</th>\n",
       "      <th>Cholesterol_Level</th>\n",
       "      <th>Weight</th>\n",
       "      <th>Height</th>\n",
       "      <th>Blood_Pressure</th>\n",
       "    </tr>\n",
       "  </thead>\n",
       "  <tbody>\n",
       "    <tr>\n",
       "      <th>count</th>\n",
       "      <td>2000.000000</td>\n",
       "      <td>2000.000000</td>\n",
       "      <td>2.000000e+03</td>\n",
       "      <td>2000.000000</td>\n",
       "      <td>2000.000000</td>\n",
       "      <td>2000.000000</td>\n",
       "      <td>2000.000000</td>\n",
       "      <td>2000.000000</td>\n",
       "      <td>2000.000000</td>\n",
       "    </tr>\n",
       "    <tr>\n",
       "      <th>mean</th>\n",
       "      <td>999.500000</td>\n",
       "      <td>39.417500</td>\n",
       "      <td>4.889928e+06</td>\n",
       "      <td>5.356912</td>\n",
       "      <td>9.951842</td>\n",
       "      <td>200.223191</td>\n",
       "      <td>70.234359</td>\n",
       "      <td>150.730565</td>\n",
       "      <td>119.682437</td>\n",
       "    </tr>\n",
       "    <tr>\n",
       "      <th>std</th>\n",
       "      <td>577.494589</td>\n",
       "      <td>11.560753</td>\n",
       "      <td>2.010795e+06</td>\n",
       "      <td>0.917069</td>\n",
       "      <td>4.909573</td>\n",
       "      <td>0.972594</td>\n",
       "      <td>10.174343</td>\n",
       "      <td>0.680443</td>\n",
       "      <td>11.201412</td>\n",
       "    </tr>\n",
       "    <tr>\n",
       "      <th>min</th>\n",
       "      <td>0.000000</td>\n",
       "      <td>20.000000</td>\n",
       "      <td>-1.088987e+06</td>\n",
       "      <td>2.528057</td>\n",
       "      <td>-4.499310</td>\n",
       "      <td>196.914948</td>\n",
       "      <td>32.581758</td>\n",
       "      <td>149.124594</td>\n",
       "      <td>0.000000</td>\n",
       "    </tr>\n",
       "    <tr>\n",
       "      <th>25%</th>\n",
       "      <td>499.750000</td>\n",
       "      <td>30.000000</td>\n",
       "      <td>3.580714e+06</td>\n",
       "      <td>4.737650</td>\n",
       "      <td>6.654951</td>\n",
       "      <td>199.581975</td>\n",
       "      <td>63.654894</td>\n",
       "      <td>150.240019</td>\n",
       "      <td>113.048602</td>\n",
       "    </tr>\n",
       "    <tr>\n",
       "      <th>50%</th>\n",
       "      <td>999.500000</td>\n",
       "      <td>39.000000</td>\n",
       "      <td>4.898901e+06</td>\n",
       "      <td>5.351795</td>\n",
       "      <td>9.927028</td>\n",
       "      <td>200.221522</td>\n",
       "      <td>70.392125</td>\n",
       "      <td>150.663619</td>\n",
       "      <td>119.937396</td>\n",
       "    </tr>\n",
       "    <tr>\n",
       "      <th>75%</th>\n",
       "      <td>1499.250000</td>\n",
       "      <td>49.250000</td>\n",
       "      <td>6.271595e+06</td>\n",
       "      <td>6.003014</td>\n",
       "      <td>13.232218</td>\n",
       "      <td>200.873647</td>\n",
       "      <td>76.894512</td>\n",
       "      <td>151.140489</td>\n",
       "      <td>126.608781</td>\n",
       "    </tr>\n",
       "    <tr>\n",
       "      <th>max</th>\n",
       "      <td>1999.000000</td>\n",
       "      <td>59.000000</td>\n",
       "      <td>1.222749e+07</td>\n",
       "      <td>8.581327</td>\n",
       "      <td>26.816358</td>\n",
       "      <td>203.162335</td>\n",
       "      <td>109.609562</td>\n",
       "      <td>153.870469</td>\n",
       "      <td>200.950000</td>\n",
       "    </tr>\n",
       "  </tbody>\n",
       "</table>\n",
       "</div>"
      ],
      "text/plain": [
       "        Unnamed: 0          Age        Income  Stress_Level  \\\n",
       "count  2000.000000  2000.000000  2.000000e+03   2000.000000   \n",
       "mean    999.500000    39.417500  4.889928e+06      5.356912   \n",
       "std     577.494589    11.560753  2.010795e+06      0.917069   \n",
       "min       0.000000    20.000000 -1.088987e+06      2.528057   \n",
       "25%     499.750000    30.000000  3.580714e+06      4.737650   \n",
       "50%     999.500000    39.000000  4.898901e+06      5.351795   \n",
       "75%    1499.250000    49.250000  6.271595e+06      6.003014   \n",
       "max    1999.000000    59.000000  1.222749e+07      8.581327   \n",
       "\n",
       "       Exercise_Hours_Per_Week  Cholesterol_Level       Weight       Height  \\\n",
       "count              2000.000000        2000.000000  2000.000000  2000.000000   \n",
       "mean                  9.951842         200.223191    70.234359   150.730565   \n",
       "std                   4.909573           0.972594    10.174343     0.680443   \n",
       "min                  -4.499310         196.914948    32.581758   149.124594   \n",
       "25%                   6.654951         199.581975    63.654894   150.240019   \n",
       "50%                   9.927028         200.221522    70.392125   150.663619   \n",
       "75%                  13.232218         200.873647    76.894512   151.140489   \n",
       "max                  26.816358         203.162335   109.609562   153.870469   \n",
       "\n",
       "       Blood_Pressure  \n",
       "count     2000.000000  \n",
       "mean       119.682437  \n",
       "std         11.201412  \n",
       "min          0.000000  \n",
       "25%        113.048602  \n",
       "50%        119.937396  \n",
       "75%        126.608781  \n",
       "max        200.950000  "
      ]
     },
     "execution_count": 73,
     "metadata": {},
     "output_type": "execute_result"
    }
   ],
   "source": [
    "# Data description\n",
    "data.describe()"
   ]
  },
  {
   "cell_type": "code",
   "execution_count": 74,
   "metadata": {},
   "outputs": [],
   "source": [
    "numeric_data = data.select_dtypes(include=[int, float]) "
   ]
  },
  {
   "cell_type": "code",
   "execution_count": 75,
   "metadata": {},
   "outputs": [
    {
     "data": {
      "text/plain": [
       "Unnamed: 0                                 0\n",
       "Age                                     53.0\n",
       "Income                       -1088986.526405\n",
       "Gender                                Female\n",
       "Education                  Bachelor's Degree\n",
       "Stress_Level                        2.528057\n",
       "Exercise_Hours_Per_Week             -4.49931\n",
       "Cholesterol_Level                 196.914948\n",
       "Weight                             32.581758\n",
       "Height                            149.124594\n",
       "Blood_Pressure                           0.0\n",
       "Health_Status                           Fair\n",
       "Name: 0, dtype: object"
      ]
     },
     "execution_count": 75,
     "metadata": {},
     "output_type": "execute_result"
    }
   ],
   "source": [
    "# Additional data information (mode). only return the first value of the mode\n",
    "modus = data.mode().loc[0]\n",
    "modus"
   ]
  },
  {
   "cell_type": "code",
   "execution_count": 76,
   "metadata": {},
   "outputs": [
    {
     "data": {
      "text/plain": [
       "Unnamed: 0                 3.335000e+05\n",
       "Age                        1.336510e+02\n",
       "Income                     4.043297e+12\n",
       "Stress_Level               8.410157e-01\n",
       "Exercise_Hours_Per_Week    2.410391e+01\n",
       "Cholesterol_Level          9.459387e-01\n",
       "Weight                     1.035173e+02\n",
       "Height                     4.630029e-01\n",
       "Blood_Pressure             1.254716e+02\n",
       "dtype: float64"
      ]
     },
     "execution_count": 76,
     "metadata": {},
     "output_type": "execute_result"
    }
   ],
   "source": [
    "# Additional data description (Variance)\n",
    "numeric_data.var()"
   ]
  },
  {
   "cell_type": "code",
   "execution_count": 77,
   "metadata": {},
   "outputs": [
    {
     "name": "stdout",
     "output_type": "stream",
     "text": [
      "Unnamed: 0                 1.999000e+03\n",
      "Age                        3.900000e+01\n",
      "Income                     1.331648e+07\n",
      "Stress_Level               6.053271e+00\n",
      "Exercise_Hours_Per_Week    3.131567e+01\n",
      "Cholesterol_Level          6.247387e+00\n",
      "Weight                     7.702780e+01\n",
      "Height                     4.745875e+00\n",
      "Blood_Pressure             2.009500e+02\n",
      "dtype: float64\n"
     ]
    }
   ],
   "source": [
    "# Additional data description (Range)\n",
    "print(numeric_data.max() - numeric_data.min())"
   ]
  },
  {
   "cell_type": "code",
   "execution_count": 78,
   "metadata": {},
   "outputs": [
    {
     "data": {
      "text/plain": [
       "Unnamed: 0                 9.995000e+02\n",
       "Age                        1.925000e+01\n",
       "Income                     2.690882e+06\n",
       "Stress_Level               1.265364e+00\n",
       "Exercise_Hours_Per_Week    6.577267e+00\n",
       "Cholesterol_Level          1.291672e+00\n",
       "Weight                     1.323962e+01\n",
       "Height                     9.004696e-01\n",
       "Blood_Pressure             1.356018e+01\n",
       "dtype: float64"
      ]
     },
     "execution_count": 78,
     "metadata": {},
     "output_type": "execute_result"
    }
   ],
   "source": [
    "# Additional data description (Interquartile Range)\n",
    "Q1 = numeric_data.quantile(0.25)\n",
    "Q3 = numeric_data.quantile(0.75)\n",
    "IQR = Q3 - Q1\n",
    "IQR"
   ]
  },
  {
   "cell_type": "code",
   "execution_count": 79,
   "metadata": {},
   "outputs": [
    {
     "data": {
      "text/plain": [
       "Unnamed: 0                 0.000000\n",
       "Age                       -0.005292\n",
       "Income                    -0.006351\n",
       "Stress_Level              -0.012588\n",
       "Exercise_Hours_Per_Week    0.061026\n",
       "Cholesterol_Level         -0.072125\n",
       "Weight                    -0.057605\n",
       "Height                     0.657076\n",
       "Blood_Pressure            -1.626737\n",
       "dtype: float64"
      ]
     },
     "execution_count": 79,
     "metadata": {},
     "output_type": "execute_result"
    }
   ],
   "source": [
    "# Additional data description (Skewness)\n",
    "# The closer the value is to 0, the more symmetrical the data is\n",
    "numeric_data.skew()"
   ]
  },
  {
   "cell_type": "code",
   "execution_count": 80,
   "metadata": {},
   "outputs": [
    {
     "data": {
      "text/plain": [
       "Unnamed: 0                 -1.200000\n",
       "Age                        -1.203392\n",
       "Income                     -0.031562\n",
       "Stress_Level               -0.129817\n",
       "Exercise_Hours_Per_Week     0.018318\n",
       "Cholesterol_Level           0.005758\n",
       "Weight                      0.124732\n",
       "Height                      0.708111\n",
       "Blood_Pressure             18.838494\n",
       "dtype: float64"
      ]
     },
     "execution_count": 80,
     "metadata": {},
     "output_type": "execute_result"
    }
   ],
   "source": [
    "# Additional data description (Kurtosis)\n",
    "# Describes the shape of the distribution, the higher the value, the more peaked the data is\n",
    "numeric_data.kurtosis()"
   ]
  },
  {
   "cell_type": "code",
   "execution_count": 81,
   "metadata": {},
   "outputs": [
    {
     "name": "stdout",
     "output_type": "stream",
     "text": [
      "Unique Values:\n",
      " Gender           2\n",
      "Education        6\n",
      "Health_Status    4\n",
      "dtype: int64\n",
      "\n",
      "Proportions:\n",
      " Gender  Education          Health_Status\n",
      "Male    Bachelor's Degree  Good             134\n",
      "Female  Bachelor's Degree  Excellent        129\n",
      "Male    Bachelor's Degree  Excellent        126\n",
      "                           Fair             124\n",
      "Female  Bachelor's Degree  Poor             112\n",
      "                           Fair             108\n",
      "                           Good             106\n",
      "Male    Bachelor's Degree  Poor             101\n",
      "Female  Master's Degree    Fair              77\n",
      "                           Poor              67\n",
      "Male    Master's Degree    Poor              66\n",
      "Female  Master's Degree    Excellent         62\n",
      "Male    Master's Degree    Good              59\n",
      "                           Fair              53\n",
      "                           Excellent         50\n",
      "Female  Master's Degree    Good              48\n",
      "        PhD                Poor              39\n",
      "        High School        Fair              39\n",
      "Male    High School        Fair              39\n",
      "Female  High School        Poor              38\n",
      "Male    PhD                Poor              36\n",
      "Female  High School        Excellent         35\n",
      "                           Good              34\n",
      "        PhD                Excellent         33\n",
      "Male    High School        Excellent         31\n",
      "                           Poor              30\n",
      "        PhD                Good              29\n",
      "Female  PhD                Good              28\n",
      "Male    PhD                Excellent         28\n",
      "                           Fair              28\n",
      "Female  PhD                Fair              26\n",
      "Male    High School        Good              25\n",
      "        Other              Fair              12\n",
      "Female  Other              Fair              12\n",
      "                           Poor               9\n",
      "Male    Other              Excellent          6\n",
      "Female  Other              Good               5\n",
      "Male    Other              Good               5\n",
      "                           Poor               5\n",
      "Female  Other              Excellent          3\n",
      "Male    undefined          Fair               1\n",
      "Female  undefined          Good               1\n",
      "Male    undefined          Poor               1\n",
      "Name: count, dtype: int64\n"
     ]
    }
   ],
   "source": [
    "# Additional data description for non numeric data\n",
    "string_data = data.select_dtypes(include=[object])\n",
    "\n",
    "print(\"Unique Values:\\n\", string_data.nunique())\n",
    "print(\"\\nProportions:\\n\", string_data.value_counts(normalize=False))"
   ]
  },
  {
   "cell_type": "code",
   "execution_count": 82,
   "metadata": {},
   "outputs": [
    {
     "name": "stdout",
     "output_type": "stream",
     "text": [
      "[\"Bachelor's Degree\" \"Master's Degree\" 'High School' 'PhD' 'Other'\n",
      " 'undefined']\n"
     ]
    }
   ],
   "source": [
    "print (data[\"Education\"].unique())"
   ]
  },
  {
   "cell_type": "markdown",
   "metadata": {},
   "source": [
    "# FINDING AND HANDLING OUTLIERS"
   ]
  },
  {
   "cell_type": "markdown",
   "metadata": {},
   "source": [
    "### Disini, kita akan menganggap data yang berada diluar rentang Q1 - 1.5IQR dan Q3 + 1.5IQR adalah outliers, kita akan menggunakan bantuan boxplot untuk mencarinya, titik-titik yang berada diluar whiskers (garis yang keluar dari box) adalah outliers."
   ]
  },
  {
   "cell_type": "code",
   "execution_count": 83,
   "metadata": {},
   "outputs": [
    {
     "data": {
      "image/png": "[encoded data removed]",
      "text/plain": [
       "<Figure size 640x480 with 1 Axes>"
      ]
     },
     "metadata": {},
     "output_type": "display_data"
    }
   ],
   "source": [
    "# Blood_Pressure\n",
    "blood_pressure_data = data[\"Blood_Pressure\"]\n",
    "plt.boxplot(blood_pressure_data, vert=False, patch_artist=True) \n",
    "plt.show()"
   ]
  },
  {
   "cell_type": "code",
   "execution_count": 84,
   "metadata": {},
   "outputs": [
    {
     "data": {
      "text/plain": [
       "43       90.027285\n",
       "117      85.650116\n",
       "192      91.953005\n",
       "230     150.635116\n",
       "249     148.131915\n",
       "316       0.000000\n",
       "323     148.158032\n",
       "417      92.692620\n",
       "526     149.568502\n",
       "617      10.780000\n",
       "715     149.463928\n",
       "924      88.578819\n",
       "1123    147.048143\n",
       "1223     88.665138\n",
       "1230    152.643476\n",
       "1421     92.479926\n",
       "1507     92.114951\n",
       "1551      0.000000\n",
       "1643     44.450000\n",
       "1696    154.427656\n",
       "1807     92.561036\n",
       "1920    200.950000\n",
       "Name: Blood_Pressure, dtype: float64"
      ]
     },
     "execution_count": 84,
     "metadata": {},
     "output_type": "execute_result"
    }
   ],
   "source": [
    "# Check for outliers\n",
    "outliers_blood_pressure = blood_pressure_data[(blood_pressure_data < Q1[\"Blood_Pressure\"] - 1.5 * IQR[\"Blood_Pressure\"]) | (blood_pressure_data > Q3[\"Blood_Pressure\"] + 1.5 * IQR[\"Blood_Pressure\"])]\n",
    "outliers_blood_pressure"
   ]
  },
  {
   "cell_type": "markdown",
   "metadata": {},
   "source": [
    "Disini terlihat bahwa kolom Blood Pressure juga memiliki outliers sehingga perlu diteliti lebih lanjut."
   ]
  },
  {
   "cell_type": "code",
   "execution_count": 85,
   "metadata": {},
   "outputs": [],
   "source": [
    "# Remove outliers\n",
    "data = data.drop(outliers_blood_pressure.index)"
   ]
  },
  {
   "cell_type": "code",
   "execution_count": 86,
   "metadata": {},
   "outputs": [
    {
     "data": {
      "image/png": "[encoded data removed]",
      "text/plain": [
       "<Figure size 640x480 with 1 Axes>"
      ]
     },
     "metadata": {},
     "output_type": "display_data"
    }
   ],
   "source": [
    "plt.boxplot(data[\"Blood_Pressure\"], vert=False, patch_artist=True)\n",
    "plt.show()"
   ]
  },
  {
   "cell_type": "markdown",
   "metadata": {},
   "source": [
    "Berdasarkan data pada https://www.heart.org/en/health-topics/high-blood-pressure/understanding-blood-pressure-readings, walaupun masih ada outliers, tetapi outliers tersebut masih dalam batas wajar sehingga tidak perlu ditangani lebih lanjut."
   ]
  },
  {
   "cell_type": "code",
   "execution_count": 87,
   "metadata": {},
   "outputs": [
    {
     "data": {
      "image/png": "[encoded data removed]",
      "text/plain": [
       "<Figure size 640x480 with 1 Axes>"
      ]
     },
     "metadata": {},
     "output_type": "display_data"
    }
   ],
   "source": [
    "# Age\n",
    "age_data = data[\"Age\"]\n",
    "plt.boxplot(age_data, vert=False, patch_artist=True) \n",
    "plt.show()"
   ]
  },
  {
   "cell_type": "markdown",
   "metadata": {},
   "source": [
    "Karena tidak ada titik titik diluar whiskers, maka kolom age aman dari outliers"
   ]
  },
  {
   "cell_type": "code",
   "execution_count": 88,
   "metadata": {},
   "outputs": [
    {
     "data": {
      "image/png": "[encoded data removed]",
      "text/plain": [
       "<Figure size 640x480 with 1 Axes>"
      ]
     },
     "metadata": {},
     "output_type": "display_data"
    }
   ],
   "source": [
    "# Income\n",
    "income_data = data[\"Income\"]\n",
    "plt.boxplot(income_data, vert=False, patch_artist=True) \n",
    "plt.show()"
   ]
  },
  {
   "cell_type": "markdown",
   "metadata": {},
   "source": [
    "Disini terlihat kolom data income memiliki banyak outlier sehingga data tersebut perlu di cek lebih lanjut.\n",
    "\n",
    "Dari boxplot tersebut, ada income yang bernilai negatif yang jelas hal ini tidak masuk akal sehingga untuk menangani ini, kita perlu membatasi income minimum adalah 0."
   ]
  },
  {
   "cell_type": "code",
   "execution_count": 89,
   "metadata": {},
   "outputs": [
    {
     "data": {
      "text/plain": [
       "102    -5.235745e+05\n",
       "453    -6.372663e+05\n",
       "514    -4.944103e+05\n",
       "579     1.044300e+07\n",
       "673     1.060307e+07\n",
       "835    -4.719274e+05\n",
       "892    -9.677291e+05\n",
       "1328    1.222749e+07\n",
       "1460    1.036827e+07\n",
       "1686    1.198891e+07\n",
       "1697   -1.088987e+06\n",
       "1947    1.073412e+07\n",
       "1948    1.034308e+07\n",
       "Name: Income, dtype: float64"
      ]
     },
     "execution_count": 89,
     "metadata": {},
     "output_type": "execute_result"
    }
   ],
   "source": [
    "outliers_income = income_data[(income_data < Q1[\"Income\"] - 1.5 * IQR[\"Income\"]) | (income_data > Q3[\"Income\"] + 1.5 * IQR[\"Income\"])]\n",
    "outliers_income"
   ]
  },
  {
   "cell_type": "code",
   "execution_count": 90,
   "metadata": {},
   "outputs": [
    {
     "data": {
      "text/plain": [
       "102    -5.235745e+05\n",
       "453    -6.372663e+05\n",
       "514    -4.944103e+05\n",
       "835    -4.719274e+05\n",
       "892    -9.677291e+05\n",
       "1697   -1.088987e+06\n",
       "Name: Income, dtype: float64"
      ]
     },
     "execution_count": 90,
     "metadata": {},
     "output_type": "execute_result"
    }
   ],
   "source": [
    "# Tampilkan data yang memiliki nilai income negatif\n",
    "outliers_income_negatif = outliers_income[outliers_income < 0]\n",
    "outliers_income_negatif "
   ]
  },
  {
   "cell_type": "code",
   "execution_count": 91,
   "metadata": {},
   "outputs": [],
   "source": [
    "# Replace negative income with 0, use loc to avoid warning message\n",
    "data.loc[data[\"Income\"] < 0, \"Income\"] = 0"
   ]
  },
  {
   "cell_type": "code",
   "execution_count": 92,
   "metadata": {},
   "outputs": [
    {
     "data": {
      "text/html": [
       "<div>\n",
       "<style scoped>\n",
       "    .dataframe tbody tr th:only-of-type {\n",
       "        vertical-align: middle;\n",
       "    }\n",
       "\n",
       "    .dataframe tbody tr th {\n",
       "        vertical-align: top;\n",
       "    }\n",
       "\n",
       "    .dataframe thead th {\n",
       "        text-align: right;\n",
       "    }\n",
       "</style>\n",
       "<table border=\"1\" class=\"dataframe\">\n",
       "  <thead>\n",
       "    <tr style=\"text-align: right;\">\n",
       "      <th></th>\n",
       "      <th>Unnamed: 0</th>\n",
       "      <th>Age</th>\n",
       "      <th>Income</th>\n",
       "      <th>Gender</th>\n",
       "      <th>Education</th>\n",
       "      <th>Stress_Level</th>\n",
       "      <th>Exercise_Hours_Per_Week</th>\n",
       "      <th>Cholesterol_Level</th>\n",
       "      <th>Weight</th>\n",
       "      <th>Height</th>\n",
       "      <th>Blood_Pressure</th>\n",
       "      <th>Health_Status</th>\n",
       "    </tr>\n",
       "  </thead>\n",
       "  <tbody>\n",
       "  </tbody>\n",
       "</table>\n",
       "</div>"
      ],
      "text/plain": [
       "Empty DataFrame\n",
       "Columns: [Unnamed: 0, Age, Income, Gender, Education, Stress_Level, Exercise_Hours_Per_Week, Cholesterol_Level, Weight, Height, Blood_Pressure, Health_Status]\n",
       "Index: []"
      ]
     },
     "execution_count": 92,
     "metadata": {},
     "output_type": "execute_result"
    }
   ],
   "source": [
    "data[data[\"Income\"] < 0]"
   ]
  },
  {
   "cell_type": "code",
   "execution_count": 93,
   "metadata": {},
   "outputs": [
    {
     "data": {
      "text/plain": [
       "{'whiskers': [<matplotlib.lines.Line2D at 0x21a90229f10>,\n",
       "  <matplotlib.lines.Line2D at 0x21a9273e870>],\n",
       " 'caps': [<matplotlib.lines.Line2D at 0x21a9273ec00>,\n",
       "  <matplotlib.lines.Line2D at 0x21a9273de80>],\n",
       " 'boxes': [<matplotlib.patches.PathPatch at 0x21a9022bd10>],\n",
       " 'medians': [<matplotlib.lines.Line2D at 0x21a9273c680>],\n",
       " 'fliers': [<matplotlib.lines.Line2D at 0x21a9273cfe0>],\n",
       " 'means': []}"
      ]
     },
     "execution_count": 93,
     "metadata": {},
     "output_type": "execute_result"
    },
    {
     "data": {
      "image/png": "[encoded data removed]",
      "text/plain": [
       "<Figure size 640x480 with 1 Axes>"
      ]
     },
     "metadata": {},
     "output_type": "display_data"
    }
   ],
   "source": [
    "plt.boxplot(income_data, vert=False, patch_artist=True)"
   ]
  },
  {
   "cell_type": "markdown",
   "metadata": {},
   "source": [
    "Disini, income yang negatif sudah di set ke 0. Untuk income yang melebihi Q3 + 1.5IQR, hal tersebut mungkin saja terjadi sehingga tidak diperlukan perubahan untuk outliers yang bernilai > Q3 +1.5IQR."
   ]
  },
  {
   "cell_type": "code",
   "execution_count": 94,
   "metadata": {},
   "outputs": [
    {
     "data": {
      "image/png": "[encoded data removed]",
      "text/plain": [
       "<Figure size 640x480 with 1 Axes>"
      ]
     },
     "metadata": {},
     "output_type": "display_data"
    }
   ],
   "source": [
    "# Stress level\n",
    "stress_level_data = data[\"Stress_Level\"]\n",
    "plt.boxplot(stress_level_data, vert=False, patch_artist=True) \n",
    "plt.show()"
   ]
  },
  {
   "cell_type": "markdown",
   "metadata": {},
   "source": [
    "Disini terlihat bahwa kolom stress level juga memiliki outliers sehingga perlu diteliti lebih lanjut."
   ]
  },
  {
   "cell_type": "code",
   "execution_count": 95,
   "metadata": {},
   "outputs": [
    {
     "data": {
      "text/plain": [
       "13      2.528057\n",
       "170     8.191571\n",
       "201     7.908383\n",
       "240     2.661764\n",
       "306     7.916607\n",
       "393     7.927514\n",
       "1089    2.782488\n",
       "1196    8.168885\n",
       "1210    2.728318\n",
       "1433    8.581327\n",
       "1519    2.745202\n",
       "1640    2.686308\n",
       "Name: Stress_Level, dtype: float64"
      ]
     },
     "execution_count": 95,
     "metadata": {},
     "output_type": "execute_result"
    }
   ],
   "source": [
    "outliers_stress_level = stress_level_data[(stress_level_data < Q1[\"Stress_Level\"] - 1.5 * IQR[\"Stress_Level\"]) | (stress_level_data > Q3[\"Stress_Level\"] + 1.5 * IQR[\"Stress_Level\"])]\n",
    "outliers_stress_level"
   ]
  },
  {
   "cell_type": "markdown",
   "metadata": {},
   "source": [
    "Dengan asumsi bahwa stress level berada pada interval 1-10, maka data diatas masih masuk dalam kategori wajar sehingga tidak perlu ditangani lebih lanjut"
   ]
  },
  {
   "cell_type": "code",
   "execution_count": 96,
   "metadata": {},
   "outputs": [
    {
     "data": {
      "image/png": "[encoded data removed]",
      "text/plain": [
       "<Figure size 640x480 with 1 Axes>"
      ]
     },
     "metadata": {},
     "output_type": "display_data"
    }
   ],
   "source": [
    "# Exercise_Hours_Per_Week\n",
    "exercise_hours_per_week_data = data[\"Exercise_Hours_Per_Week\"]\n",
    "plt.boxplot(exercise_hours_per_week_data, vert=False, patch_artist=True) \n",
    "plt.show()"
   ]
  },
  {
   "cell_type": "markdown",
   "metadata": {},
   "source": [
    "Disini terlihat bahwa kolom Exercise Hours Per Week juga memiliki outliers sehingga perlu diteliti lebih lanjut."
   ]
  },
  {
   "cell_type": "code",
   "execution_count": 97,
   "metadata": {},
   "outputs": [
    {
     "data": {
      "text/plain": [
       "48      24.033132\n",
       "180     25.530543\n",
       "278     -3.632656\n",
       "330     -4.499310\n",
       "452     23.463102\n",
       "479     23.506893\n",
       "580     -4.247733\n",
       "644     23.269785\n",
       "893     23.103693\n",
       "1056    -3.645436\n",
       "1147    23.883280\n",
       "1284    26.816358\n",
       "1599    -3.343693\n",
       "1677    26.795926\n",
       "1706    -4.298969\n",
       "1784    23.432592\n",
       "1788    25.146327\n",
       "1853    23.794101\n",
       "Name: Exercise_Hours_Per_Week, dtype: float64"
      ]
     },
     "execution_count": 97,
     "metadata": {},
     "output_type": "execute_result"
    }
   ],
   "source": [
    "# Check outliers\n",
    "outliers_exercise = exercise_hours_per_week_data[(exercise_hours_per_week_data < Q1[\"Exercise_Hours_Per_Week\"] - 1.5 * IQR[\"Exercise_Hours_Per_Week\"]) | (exercise_hours_per_week_data > Q3[\"Exercise_Hours_Per_Week\"] + 1.5 * IQR[\"Exercise_Hours_Per_Week\"])]\n",
    "outliers_exercise"
   ]
  },
  {
   "cell_type": "code",
   "execution_count": 98,
   "metadata": {},
   "outputs": [
    {
     "data": {
      "text/plain": [
       "35     -1.927087\n",
       "53     -0.432964\n",
       "75     -0.309098\n",
       "101    -0.950271\n",
       "162    -3.063739\n",
       "193    -1.552585\n",
       "235    -0.064111\n",
       "258    -0.273152\n",
       "264    -0.392170\n",
       "273    -0.764312\n",
       "276    -0.352699\n",
       "278    -3.632656\n",
       "291    -0.342537\n",
       "328    -2.077250\n",
       "330    -4.499310\n",
       "339    -0.757945\n",
       "366    -1.905777\n",
       "580    -4.247733\n",
       "660    -1.218878\n",
       "742    -0.490524\n",
       "1056   -3.645436\n",
       "1068   -0.950923\n",
       "1143   -1.271801\n",
       "1176   -1.300274\n",
       "1207   -1.442528\n",
       "1211   -0.942582\n",
       "1250   -2.636253\n",
       "1293   -2.501845\n",
       "1319   -0.141838\n",
       "1544   -1.669836\n",
       "1545   -0.379740\n",
       "1599   -3.343693\n",
       "1623   -2.688027\n",
       "1671   -1.207635\n",
       "1699   -0.804646\n",
       "1706   -4.298969\n",
       "1708   -0.325989\n",
       "1760   -1.326430\n",
       "1835   -2.636172\n",
       "1992   -0.954750\n",
       "1993   -2.087057\n",
       "Name: Exercise_Hours_Per_Week, dtype: float64"
      ]
     },
     "execution_count": 98,
     "metadata": {},
     "output_type": "execute_result"
    }
   ],
   "source": [
    "# Check for negative values\n",
    "negatif_exercise = exercise_hours_per_week_data[exercise_hours_per_week_data < 0]\n",
    "negatif_exercise"
   ]
  },
  {
   "cell_type": "code",
   "execution_count": 99,
   "metadata": {},
   "outputs": [],
   "source": [
    "# Change negative values to 0\n",
    "data.loc[data[\"Exercise_Hours_Per_Week\"] < 0, \"Exercise_Hours_Per_Week\"] = 0"
   ]
  },
  {
   "cell_type": "code",
   "execution_count": 100,
   "metadata": {},
   "outputs": [
    {
     "data": {
      "text/html": [
       "<div>\n",
       "<style scoped>\n",
       "    .dataframe tbody tr th:only-of-type {\n",
       "        vertical-align: middle;\n",
       "    }\n",
       "\n",
       "    .dataframe tbody tr th {\n",
       "        vertical-align: top;\n",
       "    }\n",
       "\n",
       "    .dataframe thead th {\n",
       "        text-align: right;\n",
       "    }\n",
       "</style>\n",
       "<table border=\"1\" class=\"dataframe\">\n",
       "  <thead>\n",
       "    <tr style=\"text-align: right;\">\n",
       "      <th></th>\n",
       "      <th>Unnamed: 0</th>\n",
       "      <th>Age</th>\n",
       "      <th>Income</th>\n",
       "      <th>Gender</th>\n",
       "      <th>Education</th>\n",
       "      <th>Stress_Level</th>\n",
       "      <th>Exercise_Hours_Per_Week</th>\n",
       "      <th>Cholesterol_Level</th>\n",
       "      <th>Weight</th>\n",
       "      <th>Height</th>\n",
       "      <th>Blood_Pressure</th>\n",
       "      <th>Health_Status</th>\n",
       "    </tr>\n",
       "  </thead>\n",
       "  <tbody>\n",
       "  </tbody>\n",
       "</table>\n",
       "</div>"
      ],
      "text/plain": [
       "Empty DataFrame\n",
       "Columns: [Unnamed: 0, Age, Income, Gender, Education, Stress_Level, Exercise_Hours_Per_Week, Cholesterol_Level, Weight, Height, Blood_Pressure, Health_Status]\n",
       "Index: []"
      ]
     },
     "execution_count": 100,
     "metadata": {},
     "output_type": "execute_result"
    }
   ],
   "source": [
    "data[data[\"Exercise_Hours_Per_Week\"] < 0]"
   ]
  },
  {
   "cell_type": "code",
   "execution_count": 101,
   "metadata": {},
   "outputs": [
    {
     "data": {
      "text/plain": [
       "{'whiskers': [<matplotlib.lines.Line2D at 0x21a92597ce0>,\n",
       "  <matplotlib.lines.Line2D at 0x21a923913a0>],\n",
       " 'caps': [<matplotlib.lines.Line2D at 0x21a938fa1e0>,\n",
       "  <matplotlib.lines.Line2D at 0x21a938fb320>],\n",
       " 'boxes': [<matplotlib.patches.PathPatch at 0x21a924ce690>],\n",
       " 'medians': [<matplotlib.lines.Line2D at 0x21a938fbd70>],\n",
       " 'fliers': [<matplotlib.lines.Line2D at 0x21a9392c8c0>],\n",
       " 'means': []}"
      ]
     },
     "execution_count": 101,
     "metadata": {},
     "output_type": "execute_result"
    },
    {
     "data": {
      "image/png": "[encoded data removed]",
      "text/plain": [
       "<Figure size 640x480 with 1 Axes>"
      ]
     },
     "metadata": {},
     "output_type": "display_data"
    }
   ],
   "source": [
    "plt.boxplot(exercise_hours_per_week_data, vert=False, patch_artist=True)"
   ]
  },
  {
   "cell_type": "markdown",
   "metadata": {},
   "source": [
    "Disini, exercise hour per week yang negatif sudah di set ke 0. Untuk exercise hour per week yang melebihi Q3 + 1.5IQR, hal tersebut mungkin saja terjadi (masih masuk akal dalam seminggu) sehingga tidak diperlukan perubahan untuk outliers yang bernilai > Q3 +1.5IQR."
   ]
  },
  {
   "cell_type": "code",
   "execution_count": 102,
   "metadata": {},
   "outputs": [
    {
     "data": {
      "image/png": "[encoded data removed]",
      "text/plain": [
       "<Figure size 640x480 with 1 Axes>"
      ]
     },
     "metadata": {},
     "output_type": "display_data"
    }
   ],
   "source": [
    "# Cholesterol_Level\n",
    "cholesterol_level_data = data[\"Cholesterol_Level\"]\n",
    "plt.boxplot(cholesterol_level_data, vert=False, patch_artist=True) \n",
    "plt.show()"
   ]
  },
  {
   "cell_type": "markdown",
   "metadata": {},
   "source": [
    "Disini terlihat bahwa kolom Cholesterol level juga memiliki outliers sehingga perlu diteliti lebih lanjut. Namun, berdasarkan artikel pada https://www.healthline.com/health/high-cholesterol/levels-by-age#:~:text=Recommended%20total%20cholesterol%20levels%20are%20under%20200%20milligrams,of%20the%20cholesterol%20that%20it%20needs%20to%20function, level normal kolesterol adalah < 200 sehingga semua outlier diatas masih bisa dibilang data yang wajar."
   ]
  },
  {
   "cell_type": "code",
   "execution_count": 103,
   "metadata": {},
   "outputs": [
    {
     "data": {
      "image/png": "[encoded data removed]",
      "text/plain": [
       "<Figure size 640x480 with 1 Axes>"
      ]
     },
     "metadata": {},
     "output_type": "display_data"
    }
   ],
   "source": [
    "# Weight\n",
    "weight_data = data[\"Weight\"]\n",
    "plt.boxplot(weight_data, vert=False, patch_artist=True) \n",
    "plt.show()"
   ]
  },
  {
   "cell_type": "markdown",
   "metadata": {},
   "source": [
    "Disini terlihat bahwa kolom Weight juga memiliki outliers sehingga perlu diteliti lebih lanjut."
   ]
  },
  {
   "cell_type": "code",
   "execution_count": 104,
   "metadata": {},
   "outputs": [
    {
     "data": {
      "text/plain": [
       "236     109.609562\n",
       "305     103.488182\n",
       "397      43.210014\n",
       "506     102.708167\n",
       "711     100.333305\n",
       "747      40.210278\n",
       "779      42.428906\n",
       "818      42.271182\n",
       "887      97.577311\n",
       "986      43.381050\n",
       "1036     32.581758\n",
       "1053     97.444777\n",
       "1481     38.022481\n",
       "1555     38.666547\n",
       "1595     97.456489\n",
       "1626     97.474679\n",
       "1649    100.976404\n",
       "1904     41.274350\n",
       "1948     97.861295\n",
       "1991     42.931331\n",
       "Name: Weight, dtype: float64"
      ]
     },
     "execution_count": 104,
     "metadata": {},
     "output_type": "execute_result"
    }
   ],
   "source": [
    "outliers_weight = weight_data[(weight_data < Q1[\"Weight\"] - 1.5 * IQR[\"Weight\"]) | (weight_data > Q3[\"Weight\"] + 1.5 * IQR[\"Weight\"])]\n",
    "outliers_weight"
   ]
  },
  {
   "cell_type": "markdown",
   "metadata": {},
   "source": [
    "Karena berat badan pada bagian outlier masih merupakan berat badan yang mungkin bagi manusia, maka outliers tersebut tidak perlu ditangani lebih lanjut."
   ]
  },
  {
   "cell_type": "code",
   "execution_count": 105,
   "metadata": {},
   "outputs": [
    {
     "data": {
      "image/png": "[encoded data removed]",
      "text/plain": [
       "<Figure size 640x480 with 1 Axes>"
      ]
     },
     "metadata": {},
     "output_type": "display_data"
    }
   ],
   "source": [
    "# Height\n",
    "height_data = data[\"Height\"]\n",
    "plt.boxplot(height_data, vert=False, patch_artist=True) \n",
    "plt.show()"
   ]
  },
  {
   "cell_type": "markdown",
   "metadata": {},
   "source": [
    "Disini terlihat bahwa kolom Height juga memiliki outliers sehingga perlu diteliti lebih lanjut. Namun, outliers pada data tersebut masih terbilang wajar untuk menyatakan tinggi manuasia sehingga tidak diperlukan penanganan lebih lanjut."
   ]
  },
  {
   "cell_type": "markdown",
   "metadata": {},
   "source": [
    "## 1. Blood Pressure"
   ]
  },
  {
   "cell_type": "code",
   "execution_count": 106,
   "metadata": {},
   "outputs": [
    {
     "data": {
      "image/png": "[encoded data removed]",
      "text/plain": [
       "<Figure size 640x480 with 1 Axes>"
      ]
     },
     "metadata": {},
     "output_type": "display_data"
    }
   ],
   "source": [
    "plt.hist(data[\"Blood_Pressure\"], bins=100, rwidth=0.5)\n",
    "plt.show()"
   ]
  },
  {
   "cell_type": "markdown",
   "metadata": {},
   "source": [
    "### Data is normally distributed"
   ]
  },
  {
   "cell_type": "markdown",
   "metadata": {},
   "source": [
    "## 2. Gender "
   ]
  },
  {
   "cell_type": "code",
   "execution_count": 107,
   "metadata": {},
   "outputs": [
    {
     "data": {
      "image/png": "[encoded data removed]",
      "text/plain": [
       "<Figure size 640x480 with 1 Axes>"
      ]
     },
     "metadata": {},
     "output_type": "display_data"
    }
   ],
   "source": [
    "# Gender distribution\n",
    "gender_data = data['Gender']\n",
    "counts, bins, patches = plt.hist(gender_data, bins=2, rwidth=0.85)\n",
    "\n",
    "# Menentukan label untuk setiap bin\n",
    "bin_centers = 0.5 * np.diff(bins) + bins[:-1] # titik tengah bin\n",
    "labels = ['Male', 'Female'] # label untuk setiap bin\n",
    "\n",
    "plt.xticks(bin_centers, labels)  # menetapkan label pada titik tengah bin\n",
    "plt.show()"
   ]
  },
  {
   "cell_type": "markdown",
   "metadata": {},
   "source": [
    "## 3. Education "
   ]
  },
  {
   "cell_type": "code",
   "execution_count": 108,
   "metadata": {},
   "outputs": [
    {
     "data": {
      "image/png": "[encoded data removed]",
      "text/plain": [
       "<Figure size 640x480 with 1 Axes>"
      ]
     },
     "metadata": {},
     "output_type": "display_data"
    }
   ],
   "source": [
    "# Education distribution\n",
    "education_data = data['Education']\n",
    "counts, bins, patches = plt.hist(education_data, bins=6, rwidth=0.5)\n",
    "\n",
    "# Menentukan label untuk setiap bin\n",
    "bin_centers = 0.5 * np.diff(bins) + bins[:-1]  # titik tengah bin\n",
    "labels = ['Master\\'s Degree','Bachelor\\'s Degree', 'PhD', 'High School', 'unknown', 'Other']  # label untuk setiap bin\n",
    "\n",
    "plt.xticks(bin_centers, labels)  # menetapkan label pada titik tengah bin\n",
    "\n",
    "plt.show()"
   ]
  },
  {
   "cell_type": "markdown",
   "metadata": {},
   "source": [
    "## 4. Age"
   ]
  },
  {
   "cell_type": "code",
   "execution_count": 109,
   "metadata": {},
   "outputs": [
    {
     "data": {
      "image/png": "[encoded data removed]",
      "text/plain": [
       "<Figure size 640x480 with 1 Axes>"
      ]
     },
     "metadata": {},
     "output_type": "display_data"
    }
   ],
   "source": [
    "# Age distribution\n",
    "plt.hist(data[\"Age\"], bins=20, rwidth=0.5)\n",
    "plt.show()"
   ]
  },
  {
   "cell_type": "markdown",
   "metadata": {},
   "source": [
    "## 5. Income"
   ]
  },
  {
   "cell_type": "code",
   "execution_count": 110,
   "metadata": {},
   "outputs": [
    {
     "data": {
      "image/png": "[encoded data removed]",
      "text/plain": [
       "<Figure size 640x480 with 1 Axes>"
      ]
     },
     "metadata": {},
     "output_type": "display_data"
    }
   ],
   "source": [
    "# Income distribution\n",
    "plt.hist(data[\"Income\"], bins=20, rwidth=0.5)\n",
    "plt.show()"
   ]
  },
  {
   "cell_type": "markdown",
   "metadata": {},
   "source": [
    "## 6. Stress Level"
   ]
  },
  {
   "cell_type": "code",
   "execution_count": 111,
   "metadata": {},
   "outputs": [
    {
     "data": {
      "image/png": "[encoded data removed]",
      "text/plain": [
       "<Figure size 640x480 with 1 Axes>"
      ]
     },
     "metadata": {},
     "output_type": "display_data"
    }
   ],
   "source": [
    "# Stress level distribution\n",
    "plt.hist(data[\"Stress_Level\"], bins=20, rwidth=0.5)\n",
    "plt.show()  "
   ]
  },
  {
   "cell_type": "markdown",
   "metadata": {},
   "source": [
    "## 7. Exercise Hours per Week"
   ]
  },
  {
   "cell_type": "code",
   "execution_count": 112,
   "metadata": {},
   "outputs": [
    {
     "data": {
      "text/plain": [
       "(array([  3.,   6.,   6.,  25.,  37.,  58., 108., 170., 177., 243., 252.,\n",
       "        249., 219., 161., 104.,  79.,  39.,  29.,   7.,   6.]),\n",
       " array([196.91494771, 197.22731707, 197.53968644, 197.8520558 ,\n",
       "        198.16442517, 198.47679453, 198.78916389, 199.10153326,\n",
       "        199.41390262, 199.72627199, 200.03864135, 200.35101072,\n",
       "        200.66338008, 200.97574945, 201.28811881, 201.60048818,\n",
       "        201.91285754, 202.2252269 , 202.53759627, 202.84996563,\n",
       "        203.162335  ]),\n",
       " <BarContainer object of 20 artists>)"
      ]
     },
     "execution_count": 112,
     "metadata": {},
     "output_type": "execute_result"
    },
    {
     "data": {
      "image/png": "[encoded data removed]",
      "text/plain": [
       "<Figure size 640x480 with 1 Axes>"
      ]
     },
     "metadata": {},
     "output_type": "display_data"
    }
   ],
   "source": [
    "# Cholesterol level distribution\n",
    "plt.hist(cholesterol_level_data, bins=20, rwidth=0.5)"
   ]
  },
  {
   "cell_type": "markdown",
   "metadata": {},
   "source": [
    "## 8. Weight"
   ]
  },
  {
   "cell_type": "code",
   "execution_count": 113,
   "metadata": {},
   "outputs": [
    {
     "data": {
      "image/png": "[encoded data removed]",
      "text/plain": [
       "<Figure size 640x480 with 1 Axes>"
      ]
     },
     "metadata": {},
     "output_type": "display_data"
    }
   ],
   "source": [
    "# Weight distribution\n",
    "plt.hist(weight_data, bins=20, rwidth=0.5)\n",
    "plt.show()"
   ]
  },
  {
   "cell_type": "markdown",
   "metadata": {},
   "source": [
    "## 9. Height"
   ]
  },
  {
   "cell_type": "code",
   "execution_count": 114,
   "metadata": {},
   "outputs": [
    {
     "data": {
      "image/png": "[encoded data removed]",
      "text/plain": [
       "<Figure size 640x480 with 1 Axes>"
      ]
     },
     "metadata": {},
     "output_type": "display_data"
    }
   ],
   "source": [
    "# Height distribution\n",
    "plt.hist(height_data, bins=20, rwidth=0.5)\n",
    "plt.show()"
   ]
  },
  {
   "cell_type": "markdown",
   "metadata": {},
   "source": [
    "# One-Sample Hypotesis\n"
   ]
  },
  {
   "cell_type": "markdown",
   "metadata": {},
   "source": [
    "#### 1. Lembaga riset saat ini sedang mempertanyakan data berat badan individu yang disimpan untuk kepentingan riset lanjutan. Identifikasilah apakah rata-rata berat badan pasien diatas 65 kg?\n"
   ]
  },
  {
   "cell_type": "code",
   "execution_count": 115,
   "metadata": {},
   "outputs": [
    {
     "data": {
      "text/plain": [
       "-0.014116735786161494"
      ]
     },
     "execution_count": 115,
     "metadata": {},
     "output_type": "execute_result"
    }
   ],
   "source": [
    "# H0 : Mean of weight <= 65\n",
    "# H1 : Mean of weight > 65 \n",
    "# Significance level = 0.05\n",
    "# One-tailed test (greater than)\n",
    "\n",
    "# Find sample (take 100 samples), set random_state to 1 to get the same sample\n",
    "weight_sample = data[\"Weight\"].sample(n=100, random_state=1)\n",
    "\n",
    "weight_sample_mean = weight_sample.mean()\n",
    "\n",
    "# Find Z for sample\n",
    "weight_calculated_z_value = (weight_sample_mean - data[\"Weight\"].mean()) / data[\"Weight\"].std() / np.sqrt(100)\n",
    "weight_calculated_z_value  \n"
   ]
  },
  {
   "cell_type": "code",
   "execution_count": 116,
   "metadata": {},
   "outputs": [
    {
     "data": {
      "text/plain": [
       "1.64"
      ]
     },
     "execution_count": 116,
     "metadata": {},
     "output_type": "execute_result"
    }
   ],
   "source": [
    "# Find Z for population\n",
    "# Significance level = 0.05, Significance level/2 = 0.025\n",
    "weight_z_value = norm.ppf(0.95)\n",
    "weight_z_value.round(2)\n",
    "\n",
    "# Since this is a one-tailed test, we only need to check the right side"
   ]
  },
  {
   "cell_type": "code",
   "execution_count": 117,
   "metadata": {},
   "outputs": [
    {
     "name": "stdout",
     "output_type": "stream",
     "text": [
      "Fail to reject H0\n"
     ]
    }
   ],
   "source": [
    "# Compare Z value\n",
    "if weight_calculated_z_value > weight_z_value:\n",
    "    print(\"Reject H0\")\n",
    "else:\n",
    "    print(\"Fail to reject H0\")"
   ]
  },
  {
   "cell_type": "markdown",
   "metadata": {},
   "source": [
    "Karena H0 di gagal ditolak, maka berat badan rata-rata <= 65"
   ]
  },
  {
   "cell_type": "markdown",
   "metadata": {},
   "source": [
    "#### 2. Tekanan darah yang normal berada pada rentang 120 mmHg. Lembaga riset perlu untuk memastikan apakah data individu yang diukur cukup normal. Periksalah apakah rata-rata tekanan darah sistole bernilai 120 mmHg?"
   ]
  },
  {
   "cell_type": "code",
   "execution_count": 118,
   "metadata": {},
   "outputs": [
    {
     "data": {
      "text/plain": [
       "-0.008769211916170092"
      ]
     },
     "execution_count": 118,
     "metadata": {},
     "output_type": "execute_result"
    }
   ],
   "source": [
    "# H0 : Mean of blood pressure != 120\n",
    "# H1 : Mean of blood pressure = 120\n",
    "# Significance level = 0.05\n",
    "# Two-tailed test\n",
    "\n",
    "\n",
    "# Find Z for sample, take 100 samples, set random_state to 1 to get the same sample\n",
    "blodd_pressure_sample = data[\"Blood_Pressure\"].sample(n=100, random_state=1)\n",
    "blood_pressure_sample_mean = blodd_pressure_sample.mean()\n",
    "\n",
    "# Find Z for sample\n",
    "blood_pressure_calculated_z_value = (blood_pressure_sample_mean - data[\"Blood_Pressure\"].mean()) / data[\"Blood_Pressure\"].std() / np.sqrt(100)\n",
    "blood_pressure_calculated_z_value  \n"
   ]
  },
  {
   "cell_type": "code",
   "execution_count": 134,
   "metadata": {},
   "outputs": [
    {
     "data": {
      "text/plain": [
       "1.96"
      ]
     },
     "execution_count": 134,
     "metadata": {},
     "output_type": "execute_result"
    }
   ],
   "source": [
    "# Find Z for population\n",
    "# Significance level = 0.05, Significance level/2 = 0.025\n",
    "blood_pressure_z_value = norm.ppf(0.975)\n",
    "blood_pressure_z_value.round(3)"
   ]
  },
  {
   "cell_type": "code",
   "execution_count": 120,
   "metadata": {},
   "outputs": [
    {
     "name": "stdout",
     "output_type": "stream",
     "text": [
      "Fail to reject H0\n"
     ]
    }
   ],
   "source": [
    "# Since this is a two-tailed test, we need to check both sides\n",
    "if blood_pressure_calculated_z_value > blood_pressure_z_value or blood_pressure_calculated_z_value < -blood_pressure_z_value:\n",
    "    print(\"Reject H0\")\n",
    "else:\n",
    "    print(\"Fail to reject H0\")"
   ]
  },
  {
   "cell_type": "markdown",
   "metadata": {},
   "source": [
    "Karena H0 (average blood pressure != 120) gagal ditolak, maka average blood pressure tidak sama dengan 120 "
   ]
  },
  {
   "cell_type": "markdown",
   "metadata": {},
   "source": [
    "#### 3. Periksalah apakah data 200 individu pertama pengujian (baris teratas) memiliki rata-rata waktu olahraga per minggu tidak sama dengan 15 jam?"
   ]
  },
  {
   "cell_type": "code",
   "execution_count": 130,
   "metadata": {},
   "outputs": [
    {
     "data": {
      "text/plain": [
       "-0.0012108231452485842"
      ]
     },
     "execution_count": 130,
     "metadata": {},
     "output_type": "execute_result"
    }
   ],
   "source": [
    "# H0 : Mean of exercise hour per week = 15\n",
    "# H1 : Mean of exercise hour per week != 15\n",
    "# Significance level = 0.05\n",
    "# Two-tailed test\n",
    "\n",
    "\n",
    "# Find Z for sample, take 200 samples, take the first 200 data\n",
    "exercise_hours_per_week_sample = data[\"Exercise_Hours_Per_Week\"].head(200)\n",
    "exercise_hours_per_week_sample_mean = exercise_hours_per_week_sample.mean()\n",
    "\n",
    "# Find Z for sample\n",
    "exercise_hours_per_week_calculated_z_value = (exercise_hours_per_week_sample_mean - data[\"Exercise_Hours_Per_Week\"].mean()) / data[\"Exercise_Hours_Per_Week\"].std() / np.sqrt(200)\n",
    "exercise_hours_per_week_calculated_z_value  \n"
   ]
  },
  {
   "cell_type": "code",
   "execution_count": 133,
   "metadata": {},
   "outputs": [
    {
     "data": {
      "text/plain": [
       "1.96"
      ]
     },
     "execution_count": 133,
     "metadata": {},
     "output_type": "execute_result"
    }
   ],
   "source": [
    "# Find Z for population\n",
    "# Significance level = 0.05, Significance level/2 = 0.025\n",
    "exercise_hours_per_week_z_value = norm.ppf(0.975)\n",
    "exercise_hours_per_week_z_value.round(3)"
   ]
  },
  {
   "cell_type": "code",
   "execution_count": 136,
   "metadata": {},
   "outputs": [
    {
     "name": "stdout",
     "output_type": "stream",
     "text": [
      "Fail to reject H0\n"
     ]
    }
   ],
   "source": [
    "# Since this is a two-tailed test, we need to check both sides\n",
    "if exercise_hours_per_week_calculated_z_value > exercise_hours_per_week_z_value or exercise_hours_per_week_calculated_z_value < -exercise_hours_per_week_z_value:\n",
    "    print(\"Reject H0\")\n",
    "else:\n",
    "    print(\"Fail to reject H0\")"
   ]
  },
  {
   "cell_type": "markdown",
   "metadata": {},
   "source": [
    "Karena gagal menolak H0, maka H0 (average exercise hour per week = 15) benar."
   ]
  },
  {
   "cell_type": "markdown",
   "metadata": {},
   "source": [
    "#### 4. Apakah penduduk dengan pendapatan yang lebih besar dari Rp 7.500.000,00 tidak sama dengan 30% dari data keseluruhan individu? "
   ]
  },
  {
   "cell_type": "code",
   "execution_count": 158,
   "metadata": {},
   "outputs": [
    {
     "data": {
      "text/plain": [
       "-0.2064711830131446"
      ]
     },
     "execution_count": 158,
     "metadata": {},
     "output_type": "execute_result"
    }
   ],
   "source": [
    "# H0 : people with income > 7500000 is equal to 30% of the population\n",
    "# H1 : people with income > 7500000 is not equal to 30% of the population\n",
    "# Significance level = 0.05\n",
    "# Two-tailed test\n",
    "\n",
    "\n",
    "# Find the sample mean, take the people with income > 7500000\n",
    "income_more_than_75 = data[data[\"Income\"] > 7500000]\n",
    "\n",
    "# Find the p hat\n",
    "p_hat = len(income_more_than_75) / len(data)\n",
    "p = 0.3"
   ]
  },
  {
   "cell_type": "code",
   "execution_count": 167,
   "metadata": {},
   "outputs": [
    {
     "data": {
      "text/plain": [
       "nan"
      ]
     },
     "execution_count": 167,
     "metadata": {},
     "output_type": "execute_result"
    }
   ],
   "source": [
    "# Calculate the standard error under H0\n",
    "SE = np.sqrt(p * (1 - p) / len(data))\n",
    "\n",
    "# Calculate the Z statistic\n",
    "Z = (p_hat - p) / SE"
   ]
  },
  {
   "cell_type": "code",
   "execution_count": 161,
   "metadata": {},
   "outputs": [
    {
     "name": "stdout",
     "output_type": "stream",
     "text": [
      "Z statistic: -20.038395423663218\n",
      "p-value: 0.0\n"
     ]
    }
   ],
   "source": [
    "# Calculate the p-value\n",
    "p_value = 2 * (1 - norm.cdf(abs(Z)))  # two-tailed test\n",
    "\n",
    "print(f\"Z statistic: {Z}\")\n",
    "print(f\"p-value: {p_value}\")"
   ]
  },
  {
   "cell_type": "code",
   "execution_count": 168,
   "metadata": {},
   "outputs": [
    {
     "name": "stdout",
     "output_type": "stream",
     "text": [
      "Reject H0.\n"
     ]
    }
   ],
   "source": [
    "# Make a decision\n",
    "if p_value < 0.05:\n",
    "    print(\"Reject H0.\")\n",
    "else:\n",
    "    print(\"Fail to reject H0.\")"
   ]
  },
  {
   "cell_type": "code",
   "execution_count": null,
   "metadata": {},
   "outputs": [],
   "source": []
  }
 ],
 "metadata": {
  "kernelspec": {
   "display_name": "Python 3",
   "language": "python",
   "name": "python3"
  },
  "language_info": {
   "codemirror_mode": {
    "name": "ipython",
    "version": 3
   },
   "file_extension": ".py",
   "mimetype": "text/x-python",
   "name": "python",
   "nbconvert_exporter": "python",
   "pygments_lexer": "ipython3",
   "version": "3.12.2"
  }
 },
 "nbformat": 4,
 "nbformat_minor": 2
}
