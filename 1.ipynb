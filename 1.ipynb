{
 "cells": [
  {
   "cell_type": "code",
   "execution_count": 91,
   "metadata": {},
   "outputs": [],
   "source": [
    "import pandas as pd\n",
    "# import numpy as np\n",
    "import matplotlib.pyplot as plt"
   ]
  },
  {
   "cell_type": "code",
   "execution_count": 92,
   "metadata": {},
   "outputs": [
    {
     "data": {
      "text/html": [
       "<div>\n",
       "<style scoped>\n",
       "    .dataframe tbody tr th:only-of-type {\n",
       "        vertical-align: middle;\n",
       "    }\n",
       "\n",
       "    .dataframe tbody tr th {\n",
       "        vertical-align: top;\n",
       "    }\n",
       "\n",
       "    .dataframe thead th {\n",
       "        text-align: right;\n",
       "    }\n",
       "</style>\n",
       "<table border=\"1\" class=\"dataframe\">\n",
       "  <thead>\n",
       "    <tr style=\"text-align: right;\">\n",
       "      <th></th>\n",
       "      <th>Unnamed: 0</th>\n",
       "      <th>Age</th>\n",
       "      <th>Income</th>\n",
       "      <th>Gender</th>\n",
       "      <th>Education</th>\n",
       "      <th>Stress_Level</th>\n",
       "      <th>Exercise_Hours_Per_Week</th>\n",
       "      <th>Cholesterol_Level</th>\n",
       "      <th>Weight</th>\n",
       "      <th>Height</th>\n",
       "      <th>Blood_Pressure</th>\n",
       "      <th>Health_Status</th>\n",
       "    </tr>\n",
       "  </thead>\n",
       "  <tbody>\n",
       "    <tr>\n",
       "      <th>0</th>\n",
       "      <td>0</td>\n",
       "      <td>50</td>\n",
       "      <td>3.093457e+06</td>\n",
       "      <td>Male</td>\n",
       "      <td>Bachelor's Degree</td>\n",
       "      <td>4.967887</td>\n",
       "      <td>16.632494</td>\n",
       "      <td>200.419036</td>\n",
       "      <td>70.917032</td>\n",
       "      <td>150.401537</td>\n",
       "      <td>125.568820</td>\n",
       "      <td>Excellent</td>\n",
       "    </tr>\n",
       "    <tr>\n",
       "      <th>1</th>\n",
       "      <td>1</td>\n",
       "      <td>44</td>\n",
       "      <td>5.545445e+06</td>\n",
       "      <td>Male</td>\n",
       "      <td>Bachelor's Degree</td>\n",
       "      <td>5.833649</td>\n",
       "      <td>13.255988</td>\n",
       "      <td>201.010046</td>\n",
       "      <td>70.669576</td>\n",
       "      <td>149.285349</td>\n",
       "      <td>125.603505</td>\n",
       "      <td>Fair</td>\n",
       "    </tr>\n",
       "    <tr>\n",
       "      <th>2</th>\n",
       "      <td>2</td>\n",
       "      <td>25</td>\n",
       "      <td>4.401808e+06</td>\n",
       "      <td>Male</td>\n",
       "      <td>Master's Degree</td>\n",
       "      <td>5.587946</td>\n",
       "      <td>11.144370</td>\n",
       "      <td>200.105258</td>\n",
       "      <td>67.464506</td>\n",
       "      <td>150.020695</td>\n",
       "      <td>127.093163</td>\n",
       "      <td>Excellent</td>\n",
       "    </tr>\n",
       "    <tr>\n",
       "      <th>3</th>\n",
       "      <td>3</td>\n",
       "      <td>41</td>\n",
       "      <td>4.606865e+06</td>\n",
       "      <td>Female</td>\n",
       "      <td>High School</td>\n",
       "      <td>6.271119</td>\n",
       "      <td>9.140268</td>\n",
       "      <td>199.648701</td>\n",
       "      <td>67.566598</td>\n",
       "      <td>150.360963</td>\n",
       "      <td>117.388100</td>\n",
       "      <td>Poor</td>\n",
       "    </tr>\n",
       "    <tr>\n",
       "      <th>4</th>\n",
       "      <td>4</td>\n",
       "      <td>24</td>\n",
       "      <td>6.956049e+06</td>\n",
       "      <td>Male</td>\n",
       "      <td>Bachelor's Degree</td>\n",
       "      <td>5.895226</td>\n",
       "      <td>9.775610</td>\n",
       "      <td>199.330152</td>\n",
       "      <td>79.601530</td>\n",
       "      <td>149.730525</td>\n",
       "      <td>114.163706</td>\n",
       "      <td>Fair</td>\n",
       "    </tr>\n",
       "  </tbody>\n",
       "</table>\n",
       "</div>"
      ],
      "text/plain": [
       "   Unnamed: 0  Age        Income  Gender          Education  Stress_Level  \\\n",
       "0           0   50  3.093457e+06    Male  Bachelor's Degree      4.967887   \n",
       "1           1   44  5.545445e+06    Male  Bachelor's Degree      5.833649   \n",
       "2           2   25  4.401808e+06    Male    Master's Degree      5.587946   \n",
       "3           3   41  4.606865e+06  Female        High School      6.271119   \n",
       "4           4   24  6.956049e+06    Male  Bachelor's Degree      5.895226   \n",
       "\n",
       "   Exercise_Hours_Per_Week  Cholesterol_Level     Weight      Height  \\\n",
       "0                16.632494         200.419036  70.917032  150.401537   \n",
       "1                13.255988         201.010046  70.669576  149.285349   \n",
       "2                11.144370         200.105258  67.464506  150.020695   \n",
       "3                 9.140268         199.648701  67.566598  150.360963   \n",
       "4                 9.775610         199.330152  79.601530  149.730525   \n",
       "\n",
       "   Blood_Pressure Health_Status  \n",
       "0      125.568820     Excellent  \n",
       "1      125.603505          Fair  \n",
       "2      127.093163     Excellent  \n",
       "3      117.388100          Poor  \n",
       "4      114.163706          Fair  "
      ]
     },
     "execution_count": 92,
     "metadata": {},
     "output_type": "execute_result"
    }
   ],
   "source": [
    "# Read data\n",
    "data = pd.read_csv(\"health.csv\")\n",
    "data.head()"
   ]
  },
  {
   "cell_type": "code",
   "execution_count": 93,
   "metadata": {},
   "outputs": [
    {
     "name": "stdout",
     "output_type": "stream",
     "text": [
      "<class 'pandas.core.frame.DataFrame'>\n",
      "RangeIndex: 2000 entries, 0 to 1999\n",
      "Data columns (total 12 columns):\n",
      " #   Column                   Non-Null Count  Dtype  \n",
      "---  ------                   --------------  -----  \n",
      " 0   Unnamed: 0               2000 non-null   int64  \n",
      " 1   Age                      2000 non-null   int64  \n",
      " 2   Income                   2000 non-null   float64\n",
      " 3   Gender                   2000 non-null   object \n",
      " 4   Education                2000 non-null   object \n",
      " 5   Stress_Level             2000 non-null   float64\n",
      " 6   Exercise_Hours_Per_Week  2000 non-null   float64\n",
      " 7   Cholesterol_Level        2000 non-null   float64\n",
      " 8   Weight                   2000 non-null   float64\n",
      " 9   Height                   2000 non-null   float64\n",
      " 10  Blood_Pressure           2000 non-null   float64\n",
      " 11  Health_Status            2000 non-null   object \n",
      "dtypes: float64(7), int64(2), object(3)\n",
      "memory usage: 187.6+ KB\n"
     ]
    }
   ],
   "source": [
    "# Data information\n",
    "data.info()"
   ]
  },
  {
   "cell_type": "code",
   "execution_count": 94,
   "metadata": {},
   "outputs": [
    {
     "data": {
      "text/html": [
       "<div>\n",
       "<style scoped>\n",
       "    .dataframe tbody tr th:only-of-type {\n",
       "        vertical-align: middle;\n",
       "    }\n",
       "\n",
       "    .dataframe tbody tr th {\n",
       "        vertical-align: top;\n",
       "    }\n",
       "\n",
       "    .dataframe thead th {\n",
       "        text-align: right;\n",
       "    }\n",
       "</style>\n",
       "<table border=\"1\" class=\"dataframe\">\n",
       "  <thead>\n",
       "    <tr style=\"text-align: right;\">\n",
       "      <th></th>\n",
       "      <th>Unnamed: 0</th>\n",
       "      <th>Age</th>\n",
       "      <th>Income</th>\n",
       "      <th>Stress_Level</th>\n",
       "      <th>Exercise_Hours_Per_Week</th>\n",
       "      <th>Cholesterol_Level</th>\n",
       "      <th>Weight</th>\n",
       "      <th>Height</th>\n",
       "      <th>Blood_Pressure</th>\n",
       "    </tr>\n",
       "  </thead>\n",
       "  <tbody>\n",
       "    <tr>\n",
       "      <th>count</th>\n",
       "      <td>2000.000000</td>\n",
       "      <td>2000.000000</td>\n",
       "      <td>2.000000e+03</td>\n",
       "      <td>2000.000000</td>\n",
       "      <td>2000.000000</td>\n",
       "      <td>2000.000000</td>\n",
       "      <td>2000.000000</td>\n",
       "      <td>2000.000000</td>\n",
       "      <td>2000.000000</td>\n",
       "    </tr>\n",
       "    <tr>\n",
       "      <th>mean</th>\n",
       "      <td>999.500000</td>\n",
       "      <td>39.417500</td>\n",
       "      <td>4.889928e+06</td>\n",
       "      <td>5.356912</td>\n",
       "      <td>9.951842</td>\n",
       "      <td>200.223191</td>\n",
       "      <td>70.234359</td>\n",
       "      <td>150.730565</td>\n",
       "      <td>119.682437</td>\n",
       "    </tr>\n",
       "    <tr>\n",
       "      <th>std</th>\n",
       "      <td>577.494589</td>\n",
       "      <td>11.560753</td>\n",
       "      <td>2.010795e+06</td>\n",
       "      <td>0.917069</td>\n",
       "      <td>4.909573</td>\n",
       "      <td>0.972594</td>\n",
       "      <td>10.174343</td>\n",
       "      <td>0.680443</td>\n",
       "      <td>11.201412</td>\n",
       "    </tr>\n",
       "    <tr>\n",
       "      <th>min</th>\n",
       "      <td>0.000000</td>\n",
       "      <td>20.000000</td>\n",
       "      <td>-1.088987e+06</td>\n",
       "      <td>2.528057</td>\n",
       "      <td>-4.499310</td>\n",
       "      <td>196.914948</td>\n",
       "      <td>32.581758</td>\n",
       "      <td>149.124594</td>\n",
       "      <td>0.000000</td>\n",
       "    </tr>\n",
       "    <tr>\n",
       "      <th>25%</th>\n",
       "      <td>499.750000</td>\n",
       "      <td>30.000000</td>\n",
       "      <td>3.580714e+06</td>\n",
       "      <td>4.737650</td>\n",
       "      <td>6.654951</td>\n",
       "      <td>199.581975</td>\n",
       "      <td>63.654894</td>\n",
       "      <td>150.240019</td>\n",
       "      <td>113.048602</td>\n",
       "    </tr>\n",
       "    <tr>\n",
       "      <th>50%</th>\n",
       "      <td>999.500000</td>\n",
       "      <td>39.000000</td>\n",
       "      <td>4.898901e+06</td>\n",
       "      <td>5.351795</td>\n",
       "      <td>9.927028</td>\n",
       "      <td>200.221522</td>\n",
       "      <td>70.392125</td>\n",
       "      <td>150.663619</td>\n",
       "      <td>119.937396</td>\n",
       "    </tr>\n",
       "    <tr>\n",
       "      <th>75%</th>\n",
       "      <td>1499.250000</td>\n",
       "      <td>49.250000</td>\n",
       "      <td>6.271595e+06</td>\n",
       "      <td>6.003014</td>\n",
       "      <td>13.232218</td>\n",
       "      <td>200.873647</td>\n",
       "      <td>76.894512</td>\n",
       "      <td>151.140489</td>\n",
       "      <td>126.608781</td>\n",
       "    </tr>\n",
       "    <tr>\n",
       "      <th>max</th>\n",
       "      <td>1999.000000</td>\n",
       "      <td>59.000000</td>\n",
       "      <td>1.222749e+07</td>\n",
       "      <td>8.581327</td>\n",
       "      <td>26.816358</td>\n",
       "      <td>203.162335</td>\n",
       "      <td>109.609562</td>\n",
       "      <td>153.870469</td>\n",
       "      <td>200.950000</td>\n",
       "    </tr>\n",
       "  </tbody>\n",
       "</table>\n",
       "</div>"
      ],
      "text/plain": [
       "        Unnamed: 0          Age        Income  Stress_Level  \\\n",
       "count  2000.000000  2000.000000  2.000000e+03   2000.000000   \n",
       "mean    999.500000    39.417500  4.889928e+06      5.356912   \n",
       "std     577.494589    11.560753  2.010795e+06      0.917069   \n",
       "min       0.000000    20.000000 -1.088987e+06      2.528057   \n",
       "25%     499.750000    30.000000  3.580714e+06      4.737650   \n",
       "50%     999.500000    39.000000  4.898901e+06      5.351795   \n",
       "75%    1499.250000    49.250000  6.271595e+06      6.003014   \n",
       "max    1999.000000    59.000000  1.222749e+07      8.581327   \n",
       "\n",
       "       Exercise_Hours_Per_Week  Cholesterol_Level       Weight       Height  \\\n",
       "count              2000.000000        2000.000000  2000.000000  2000.000000   \n",
       "mean                  9.951842         200.223191    70.234359   150.730565   \n",
       "std                   4.909573           0.972594    10.174343     0.680443   \n",
       "min                  -4.499310         196.914948    32.581758   149.124594   \n",
       "25%                   6.654951         199.581975    63.654894   150.240019   \n",
       "50%                   9.927028         200.221522    70.392125   150.663619   \n",
       "75%                  13.232218         200.873647    76.894512   151.140489   \n",
       "max                  26.816358         203.162335   109.609562   153.870469   \n",
       "\n",
       "       Blood_Pressure  \n",
       "count     2000.000000  \n",
       "mean       119.682437  \n",
       "std         11.201412  \n",
       "min          0.000000  \n",
       "25%        113.048602  \n",
       "50%        119.937396  \n",
       "75%        126.608781  \n",
       "max        200.950000  "
      ]
     },
     "execution_count": 94,
     "metadata": {},
     "output_type": "execute_result"
    }
   ],
   "source": [
    "# Data description\n",
    "data.describe()"
   ]
  },
  {
   "cell_type": "code",
   "execution_count": 112,
   "metadata": {},
   "outputs": [],
   "source": [
    "numeric_data = data.select_dtypes(include=[int, float])"
   ]
  },
  {
   "cell_type": "code",
   "execution_count": 121,
   "metadata": {},
   "outputs": [
    {
     "data": {
      "text/plain": [
       "Unnamed: 0                                 0\n",
       "Age                                     53.0\n",
       "Income                       -1088986.526405\n",
       "Gender                                Female\n",
       "Education                  Bachelor's Degree\n",
       "Stress_Level                        2.528057\n",
       "Exercise_Hours_Per_Week             -4.49931\n",
       "Cholesterol_Level                 196.914948\n",
       "Weight                             32.581758\n",
       "Height                            149.124594\n",
       "Blood_Pressure                           0.0\n",
       "Health_Status                           Fair\n",
       "Name: 0, dtype: object"
      ]
     },
     "execution_count": 121,
     "metadata": {},
     "output_type": "execute_result"
    }
   ],
   "source": [
    "# Additional data information (mode). only return the first value of the mode\n",
    "modus = data.mode().loc[0]\n",
    "modus"
   ]
  },
  {
   "cell_type": "code",
   "execution_count": 97,
   "metadata": {},
   "outputs": [
    {
     "data": {
      "text/plain": [
       "Unnamed: 0                 3.335000e+05\n",
       "Age                        1.336510e+02\n",
       "Income                     4.043297e+12\n",
       "Stress_Level               8.410157e-01\n",
       "Exercise_Hours_Per_Week    2.410391e+01\n",
       "Cholesterol_Level          9.459387e-01\n",
       "Weight                     1.035173e+02\n",
       "Height                     4.630029e-01\n",
       "Blood_Pressure             1.254716e+02\n",
       "dtype: float64"
      ]
     },
     "execution_count": 97,
     "metadata": {},
     "output_type": "execute_result"
    }
   ],
   "source": [
    "# Additional data description (Variance)\n",
    "numeric_data.var()"
   ]
  },
  {
   "cell_type": "code",
   "execution_count": 98,
   "metadata": {},
   "outputs": [
    {
     "name": "stdout",
     "output_type": "stream",
     "text": [
      "Unnamed: 0                 1.999000e+03\n",
      "Age                        3.900000e+01\n",
      "Income                     1.331648e+07\n",
      "Stress_Level               6.053271e+00\n",
      "Exercise_Hours_Per_Week    3.131567e+01\n",
      "Cholesterol_Level          6.247387e+00\n",
      "Weight                     7.702780e+01\n",
      "Height                     4.745875e+00\n",
      "Blood_Pressure             2.009500e+02\n",
      "dtype: float64\n"
     ]
    }
   ],
   "source": [
    "# Additional data description (Range)\n",
    "print(numeric_data.max() - numeric_data.min())"
   ]
  },
  {
   "cell_type": "code",
   "execution_count": 108,
   "metadata": {},
   "outputs": [
    {
     "data": {
      "text/plain": [
       "Unnamed: 0                 9.995000e+02\n",
       "Age                        1.925000e+01\n",
       "Income                     2.690882e+06\n",
       "Stress_Level               1.265364e+00\n",
       "Exercise_Hours_Per_Week    6.577267e+00\n",
       "Cholesterol_Level          1.291672e+00\n",
       "Weight                     1.323962e+01\n",
       "Height                     9.004696e-01\n",
       "Blood_Pressure             1.356018e+01\n",
       "dtype: float64"
      ]
     },
     "execution_count": 108,
     "metadata": {},
     "output_type": "execute_result"
    }
   ],
   "source": [
    "# Additional data description (Interquartile Range)\n",
    "Q1 = numeric_data.quantile(0.25)\n",
    "Q3 = numeric_data.quantile(0.75)\n",
    "IQR = Q3 - Q1\n",
    "IQR"
   ]
  },
  {
   "cell_type": "code",
   "execution_count": 100,
   "metadata": {},
   "outputs": [
    {
     "data": {
      "text/plain": [
       "Unnamed: 0                 0.000000\n",
       "Age                       -0.005292\n",
       "Income                    -0.006351\n",
       "Stress_Level              -0.012588\n",
       "Exercise_Hours_Per_Week    0.061026\n",
       "Cholesterol_Level         -0.072125\n",
       "Weight                    -0.057605\n",
       "Height                     0.657076\n",
       "Blood_Pressure            -1.626737\n",
       "dtype: float64"
      ]
     },
     "execution_count": 100,
     "metadata": {},
     "output_type": "execute_result"
    }
   ],
   "source": [
    "# Additional data description (Skewness)\n",
    "numeric_data.skew()"
   ]
  },
  {
   "cell_type": "code",
   "execution_count": 101,
   "metadata": {},
   "outputs": [
    {
     "data": {
      "text/plain": [
       "Unnamed: 0                 -1.200000\n",
       "Age                        -1.203392\n",
       "Income                     -0.031562\n",
       "Stress_Level               -0.129817\n",
       "Exercise_Hours_Per_Week     0.018318\n",
       "Cholesterol_Level           0.005758\n",
       "Weight                      0.124732\n",
       "Height                      0.708111\n",
       "Blood_Pressure             18.838494\n",
       "dtype: float64"
      ]
     },
     "execution_count": 101,
     "metadata": {},
     "output_type": "execute_result"
    }
   ],
   "source": [
    "# Additional data description (Kurtosis)\n",
    "numeric_data.kurtosis()"
   ]
  },
  {
   "cell_type": "code",
   "execution_count": 107,
   "metadata": {},
   "outputs": [
    {
     "name": "stdout",
     "output_type": "stream",
     "text": [
      "Unique Values:\n",
      " Gender           2\n",
      "Education        6\n",
      "Health_Status    4\n",
      "dtype: int64\n",
      "\n",
      "Proportions:\n",
      " Gender  Education          Health_Status\n",
      "Male    Bachelor's Degree  Good             134\n",
      "Female  Bachelor's Degree  Excellent        129\n",
      "Male    Bachelor's Degree  Excellent        126\n",
      "                           Fair             124\n",
      "Female  Bachelor's Degree  Poor             112\n",
      "                           Fair             108\n",
      "                           Good             106\n",
      "Male    Bachelor's Degree  Poor             101\n",
      "Female  Master's Degree    Fair              77\n",
      "                           Poor              67\n",
      "Male    Master's Degree    Poor              66\n",
      "Female  Master's Degree    Excellent         62\n",
      "Male    Master's Degree    Good              59\n",
      "                           Fair              53\n",
      "                           Excellent         50\n",
      "Female  Master's Degree    Good              48\n",
      "        PhD                Poor              39\n",
      "        High School        Fair              39\n",
      "Male    High School        Fair              39\n",
      "Female  High School        Poor              38\n",
      "Male    PhD                Poor              36\n",
      "Female  High School        Excellent         35\n",
      "                           Good              34\n",
      "        PhD                Excellent         33\n",
      "Male    High School        Excellent         31\n",
      "                           Poor              30\n",
      "        PhD                Good              29\n",
      "Female  PhD                Good              28\n",
      "Male    PhD                Excellent         28\n",
      "                           Fair              28\n",
      "Female  PhD                Fair              26\n",
      "Male    High School        Good              25\n",
      "        Other              Fair              12\n",
      "Female  Other              Fair              12\n",
      "                           Poor               9\n",
      "Male    Other              Excellent          6\n",
      "Female  Other              Good               5\n",
      "Male    Other              Good               5\n",
      "                           Poor               5\n",
      "Female  Other              Excellent          3\n",
      "Male    undefined          Fair               1\n",
      "Female  undefined          Good               1\n",
      "Male    undefined          Poor               1\n",
      "Name: count, dtype: int64\n"
     ]
    }
   ],
   "source": [
    "# Additional data description for non numeric data\n",
    "string_data = data.select_dtypes(include=[object])\n",
    "\n",
    "print(\"Unique Values:\\n\", string_data.nunique())\n",
    "print(\"\\nProportions:\\n\", string_data.value_counts(normalize=False))"
   ]
  },
  {
   "cell_type": "markdown",
   "metadata": {},
   "source": [
    "Disini, kita akan menganggap data yang berada diluar rentang Q1 - 1.5IQR dan Q3 + 1.5IQR adalah outliers, kita akan menggunakan bantuan boxplot untuk mencarinya"
   ]
  },
  {
   "cell_type": "code",
   "execution_count": 109,
   "metadata": {},
   "outputs": [
    {
     "data": {
      "image/png": "[encoded data removed]",
      "text/plain": [
       "<Figure size 640x480 with 1 Axes>"
      ]
     },
     "metadata": {},
     "output_type": "display_data"
    }
   ],
   "source": [
    "# Age\n",
    "age_data = data[\"Age\"]\n",
    "plt.boxplot(age_data, vert=False, patch_artist=True) \n",
    "plt.show()"
   ]
  },
  {
   "cell_type": "code",
   "execution_count": null,
   "metadata": {},
   "outputs": [],
   "source": []
  }
 ],
 "metadata": {
  "kernelspec": {
   "display_name": "Python 3",
   "language": "python",
   "name": "python3"
  },
  "language_info": {
   "codemirror_mode": {
    "name": "ipython",
    "version": 3
   },
   "file_extension": ".py",
   "mimetype": "text/x-python",
   "name": "python",
   "nbconvert_exporter": "python",
   "pygments_lexer": "ipython3",
   "version": "3.12.2"
  }
 },
 "nbformat": 4,
 "nbformat_minor": 2
}
