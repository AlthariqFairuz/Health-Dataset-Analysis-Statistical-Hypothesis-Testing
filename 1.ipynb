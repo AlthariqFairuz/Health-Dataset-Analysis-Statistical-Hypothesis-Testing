{
 "cells": [
  {
   "cell_type": "code",
<<<<<<< HEAD
   "execution_count": 336,
=======
   "execution_count": 112,
>>>>>>> 28dd123a72d21f09c142884442fae56538445726
   "metadata": {},
   "outputs": [],
   "source": [
    "import pandas as pd\n",
    "import numpy as np\n",
    "import matplotlib.pyplot as plt\n",
<<<<<<< HEAD
    "from scipy.stats import norm\n",
    "import seaborn as sns\n",
    "pd.options.mode.chained_assignment = None  # default='warn'"
   ]
  },
  {
   "cell_type": "markdown",
   "metadata": {},
   "source": [
    "# DATA DESCRIPTION"
=======
    "import utils"
>>>>>>> 28dd123a72d21f09c142884442fae56538445726
   ]
  },
  {
   "cell_type": "code",
<<<<<<< HEAD
   "execution_count": 337,
=======
   "execution_count": 113,
>>>>>>> 28dd123a72d21f09c142884442fae56538445726
   "metadata": {},
   "outputs": [
    {
     "data": {
      "text/html": [
       "<div>\n",
       "<style scoped>\n",
       "    .dataframe tbody tr th:only-of-type {\n",
       "        vertical-align: middle;\n",
       "    }\n",
       "\n",
       "    .dataframe tbody tr th {\n",
       "        vertical-align: top;\n",
       "    }\n",
       "\n",
       "    .dataframe thead th {\n",
       "        text-align: right;\n",
       "    }\n",
       "</style>\n",
       "<table border=\"1\" class=\"dataframe\">\n",
       "  <thead>\n",
       "    <tr style=\"text-align: right;\">\n",
       "      <th></th>\n",
       "      <th>Unnamed: 0</th>\n",
       "      <th>Age</th>\n",
       "      <th>Income</th>\n",
       "      <th>Gender</th>\n",
       "      <th>Education</th>\n",
       "      <th>Stress_Level</th>\n",
       "      <th>Exercise_Hours_Per_Week</th>\n",
       "      <th>Cholesterol_Level</th>\n",
       "      <th>Weight</th>\n",
       "      <th>Height</th>\n",
       "      <th>Blood_Pressure</th>\n",
       "      <th>Health_Status</th>\n",
       "    </tr>\n",
       "  </thead>\n",
       "  <tbody>\n",
       "    <tr>\n",
       "      <th>0</th>\n",
       "      <td>0</td>\n",
       "      <td>50</td>\n",
       "      <td>3.093457e+06</td>\n",
       "      <td>Male</td>\n",
       "      <td>Bachelor's Degree</td>\n",
       "      <td>4.967887</td>\n",
       "      <td>16.632494</td>\n",
       "      <td>200.419036</td>\n",
       "      <td>70.917032</td>\n",
       "      <td>150.401537</td>\n",
       "      <td>125.568820</td>\n",
       "      <td>Excellent</td>\n",
       "    </tr>\n",
       "    <tr>\n",
       "      <th>1</th>\n",
       "      <td>1</td>\n",
       "      <td>44</td>\n",
       "      <td>5.545445e+06</td>\n",
       "      <td>Male</td>\n",
       "      <td>Bachelor's Degree</td>\n",
       "      <td>5.833649</td>\n",
       "      <td>13.255988</td>\n",
       "      <td>201.010046</td>\n",
       "      <td>70.669576</td>\n",
       "      <td>149.285349</td>\n",
       "      <td>125.603505</td>\n",
       "      <td>Fair</td>\n",
       "    </tr>\n",
       "    <tr>\n",
       "      <th>2</th>\n",
       "      <td>2</td>\n",
       "      <td>25</td>\n",
       "      <td>4.401808e+06</td>\n",
       "      <td>Male</td>\n",
       "      <td>Master's Degree</td>\n",
       "      <td>5.587946</td>\n",
       "      <td>11.144370</td>\n",
       "      <td>200.105258</td>\n",
       "      <td>67.464506</td>\n",
       "      <td>150.020695</td>\n",
       "      <td>127.093163</td>\n",
       "      <td>Excellent</td>\n",
       "    </tr>\n",
       "    <tr>\n",
       "      <th>3</th>\n",
       "      <td>3</td>\n",
       "      <td>41</td>\n",
       "      <td>4.606865e+06</td>\n",
       "      <td>Female</td>\n",
       "      <td>High School</td>\n",
       "      <td>6.271119</td>\n",
       "      <td>9.140268</td>\n",
       "      <td>199.648701</td>\n",
       "      <td>67.566598</td>\n",
       "      <td>150.360963</td>\n",
       "      <td>117.388100</td>\n",
       "      <td>Poor</td>\n",
       "    </tr>\n",
       "    <tr>\n",
       "      <th>4</th>\n",
       "      <td>4</td>\n",
       "      <td>24</td>\n",
       "      <td>6.956049e+06</td>\n",
       "      <td>Male</td>\n",
       "      <td>Bachelor's Degree</td>\n",
       "      <td>5.895226</td>\n",
       "      <td>9.775610</td>\n",
       "      <td>199.330152</td>\n",
       "      <td>79.601530</td>\n",
       "      <td>149.730525</td>\n",
       "      <td>114.163706</td>\n",
       "      <td>Fair</td>\n",
       "    </tr>\n",
       "  </tbody>\n",
       "</table>\n",
       "</div>"
      ],
      "text/plain": [
       "   Unnamed: 0  Age        Income  Gender          Education  Stress_Level  \\\n",
       "0           0   50  3.093457e+06    Male  Bachelor's Degree      4.967887   \n",
       "1           1   44  5.545445e+06    Male  Bachelor's Degree      5.833649   \n",
       "2           2   25  4.401808e+06    Male    Master's Degree      5.587946   \n",
       "3           3   41  4.606865e+06  Female        High School      6.271119   \n",
       "4           4   24  6.956049e+06    Male  Bachelor's Degree      5.895226   \n",
       "\n",
       "   Exercise_Hours_Per_Week  Cholesterol_Level     Weight      Height  \\\n",
       "0                16.632494         200.419036  70.917032  150.401537   \n",
       "1                13.255988         201.010046  70.669576  149.285349   \n",
       "2                11.144370         200.105258  67.464506  150.020695   \n",
       "3                 9.140268         199.648701  67.566598  150.360963   \n",
       "4                 9.775610         199.330152  79.601530  149.730525   \n",
       "\n",
       "   Blood_Pressure Health_Status  \n",
       "0      125.568820     Excellent  \n",
       "1      125.603505          Fair  \n",
       "2      127.093163     Excellent  \n",
       "3      117.388100          Poor  \n",
       "4      114.163706          Fair  "
      ]
     },
<<<<<<< HEAD
     "execution_count": 337,
=======
     "execution_count": 113,
>>>>>>> 28dd123a72d21f09c142884442fae56538445726
     "metadata": {},
     "output_type": "execute_result"
    }
   ],
   "source": [
    "# Read data\n",
    "data = pd.read_csv(\"health.csv\")\n",
    "data.head()"
   ]
  },
  {
   "cell_type": "code",
<<<<<<< HEAD
   "execution_count": 338,
=======
   "execution_count": 114,
>>>>>>> 28dd123a72d21f09c142884442fae56538445726
   "metadata": {},
   "outputs": [
    {
     "name": "stdout",
     "output_type": "stream",
     "text": [
      "<class 'pandas.core.frame.DataFrame'>\n",
      "RangeIndex: 2000 entries, 0 to 1999\n",
      "Data columns (total 12 columns):\n",
      " #   Column                   Non-Null Count  Dtype  \n",
      "---  ------                   --------------  -----  \n",
      " 0   Unnamed: 0               2000 non-null   int64  \n",
      " 1   Age                      2000 non-null   int64  \n",
      " 2   Income                   2000 non-null   float64\n",
      " 3   Gender                   2000 non-null   object \n",
      " 4   Education                2000 non-null   object \n",
      " 5   Stress_Level             2000 non-null   float64\n",
      " 6   Exercise_Hours_Per_Week  2000 non-null   float64\n",
      " 7   Cholesterol_Level        2000 non-null   float64\n",
      " 8   Weight                   2000 non-null   float64\n",
      " 9   Height                   2000 non-null   float64\n",
      " 10  Blood_Pressure           2000 non-null   float64\n",
      " 11  Health_Status            2000 non-null   object \n",
      "dtypes: float64(7), int64(2), object(3)\n",
      "memory usage: 187.6+ KB\n"
     ]
    }
   ],
   "source": [
    "# Data information\n",
    "data.info()"
   ]
  },
  {
   "cell_type": "code",
<<<<<<< HEAD
   "execution_count": 339,
=======
   "execution_count": 115,
>>>>>>> 28dd123a72d21f09c142884442fae56538445726
   "metadata": {},
   "outputs": [
    {
     "data": {
      "text/html": [
       "<div>\n",
       "<style scoped>\n",
       "    .dataframe tbody tr th:only-of-type {\n",
       "        vertical-align: middle;\n",
       "    }\n",
       "\n",
       "    .dataframe tbody tr th {\n",
       "        vertical-align: top;\n",
       "    }\n",
       "\n",
       "    .dataframe thead th {\n",
       "        text-align: right;\n",
       "    }\n",
       "</style>\n",
       "<table border=\"1\" class=\"dataframe\">\n",
       "  <thead>\n",
       "    <tr style=\"text-align: right;\">\n",
       "      <th></th>\n",
       "      <th>Unnamed: 0</th>\n",
       "      <th>Age</th>\n",
       "      <th>Income</th>\n",
       "      <th>Stress_Level</th>\n",
       "      <th>Exercise_Hours_Per_Week</th>\n",
       "      <th>Cholesterol_Level</th>\n",
       "      <th>Weight</th>\n",
       "      <th>Height</th>\n",
       "      <th>Blood_Pressure</th>\n",
       "    </tr>\n",
       "  </thead>\n",
       "  <tbody>\n",
       "    <tr>\n",
       "      <th>count</th>\n",
       "      <td>2000.000000</td>\n",
       "      <td>2000.000000</td>\n",
       "      <td>2.000000e+03</td>\n",
       "      <td>2000.000000</td>\n",
       "      <td>2000.000000</td>\n",
       "      <td>2000.000000</td>\n",
       "      <td>2000.000000</td>\n",
       "      <td>2000.000000</td>\n",
       "      <td>2000.000000</td>\n",
       "    </tr>\n",
       "    <tr>\n",
       "      <th>mean</th>\n",
       "      <td>999.500000</td>\n",
       "      <td>39.417500</td>\n",
       "      <td>4.889928e+06</td>\n",
       "      <td>5.356912</td>\n",
       "      <td>9.951842</td>\n",
       "      <td>200.223191</td>\n",
       "      <td>70.234359</td>\n",
       "      <td>150.730565</td>\n",
       "      <td>119.682437</td>\n",
       "    </tr>\n",
       "    <tr>\n",
       "      <th>std</th>\n",
       "      <td>577.494589</td>\n",
       "      <td>11.560753</td>\n",
       "      <td>2.010795e+06</td>\n",
       "      <td>0.917069</td>\n",
       "      <td>4.909573</td>\n",
       "      <td>0.972594</td>\n",
       "      <td>10.174343</td>\n",
       "      <td>0.680443</td>\n",
       "      <td>11.201412</td>\n",
       "    </tr>\n",
       "    <tr>\n",
       "      <th>min</th>\n",
       "      <td>0.000000</td>\n",
       "      <td>20.000000</td>\n",
       "      <td>-1.088987e+06</td>\n",
       "      <td>2.528057</td>\n",
       "      <td>-4.499310</td>\n",
       "      <td>196.914948</td>\n",
       "      <td>32.581758</td>\n",
       "      <td>149.124594</td>\n",
       "      <td>0.000000</td>\n",
       "    </tr>\n",
       "    <tr>\n",
       "      <th>25%</th>\n",
       "      <td>499.750000</td>\n",
       "      <td>30.000000</td>\n",
       "      <td>3.580714e+06</td>\n",
       "      <td>4.737650</td>\n",
       "      <td>6.654951</td>\n",
       "      <td>199.581975</td>\n",
       "      <td>63.654894</td>\n",
       "      <td>150.240019</td>\n",
       "      <td>113.048602</td>\n",
       "    </tr>\n",
       "    <tr>\n",
       "      <th>50%</th>\n",
       "      <td>999.500000</td>\n",
       "      <td>39.000000</td>\n",
       "      <td>4.898901e+06</td>\n",
       "      <td>5.351795</td>\n",
       "      <td>9.927028</td>\n",
       "      <td>200.221522</td>\n",
       "      <td>70.392125</td>\n",
       "      <td>150.663619</td>\n",
       "      <td>119.937396</td>\n",
       "    </tr>\n",
       "    <tr>\n",
       "      <th>75%</th>\n",
       "      <td>1499.250000</td>\n",
       "      <td>49.250000</td>\n",
       "      <td>6.271595e+06</td>\n",
       "      <td>6.003014</td>\n",
       "      <td>13.232218</td>\n",
       "      <td>200.873647</td>\n",
       "      <td>76.894512</td>\n",
       "      <td>151.140489</td>\n",
       "      <td>126.608781</td>\n",
       "    </tr>\n",
       "    <tr>\n",
       "      <th>max</th>\n",
       "      <td>1999.000000</td>\n",
       "      <td>59.000000</td>\n",
       "      <td>1.222749e+07</td>\n",
       "      <td>8.581327</td>\n",
       "      <td>26.816358</td>\n",
       "      <td>203.162335</td>\n",
       "      <td>109.609562</td>\n",
       "      <td>153.870469</td>\n",
       "      <td>200.950000</td>\n",
       "    </tr>\n",
       "  </tbody>\n",
       "</table>\n",
       "</div>"
      ],
      "text/plain": [
       "        Unnamed: 0          Age        Income  Stress_Level  \\\n",
       "count  2000.000000  2000.000000  2.000000e+03   2000.000000   \n",
       "mean    999.500000    39.417500  4.889928e+06      5.356912   \n",
       "std     577.494589    11.560753  2.010795e+06      0.917069   \n",
       "min       0.000000    20.000000 -1.088987e+06      2.528057   \n",
       "25%     499.750000    30.000000  3.580714e+06      4.737650   \n",
       "50%     999.500000    39.000000  4.898901e+06      5.351795   \n",
       "75%    1499.250000    49.250000  6.271595e+06      6.003014   \n",
       "max    1999.000000    59.000000  1.222749e+07      8.581327   \n",
       "\n",
       "       Exercise_Hours_Per_Week  Cholesterol_Level       Weight       Height  \\\n",
       "count              2000.000000        2000.000000  2000.000000  2000.000000   \n",
       "mean                  9.951842         200.223191    70.234359   150.730565   \n",
       "std                   4.909573           0.972594    10.174343     0.680443   \n",
       "min                  -4.499310         196.914948    32.581758   149.124594   \n",
       "25%                   6.654951         199.581975    63.654894   150.240019   \n",
       "50%                   9.927028         200.221522    70.392125   150.663619   \n",
       "75%                  13.232218         200.873647    76.894512   151.140489   \n",
       "max                  26.816358         203.162335   109.609562   153.870469   \n",
       "\n",
       "       Blood_Pressure  \n",
       "count     2000.000000  \n",
       "mean       119.682437  \n",
       "std         11.201412  \n",
       "min          0.000000  \n",
       "25%        113.048602  \n",
       "50%        119.937396  \n",
       "75%        126.608781  \n",
       "max        200.950000  "
      ]
     },
<<<<<<< HEAD
     "execution_count": 339,
=======
     "execution_count": 115,
>>>>>>> 28dd123a72d21f09c142884442fae56538445726
     "metadata": {},
     "output_type": "execute_result"
    }
   ],
   "source": [
    "# Data description\n",
    "data.describe()"
   ]
  },
  {
   "cell_type": "code",
<<<<<<< HEAD
   "execution_count": 340,
=======
   "execution_count": 116,
   "metadata": {},
   "outputs": [
    {
     "name": "stdout",
     "output_type": "stream",
     "text": [
      "Gender\n",
      "['Male' 'Female']\n",
      "{'Male': 0.4945, 'Female': 0.5055}\n",
      "\n",
      "Education\n",
      "[\"Bachelor's Degree\" \"Master's Degree\" 'High School' 'PhD' 'Other'\n",
      " 'undefined']\n",
      "{\"Bachelor's Degree\": 0.47, \"Master's Degree\": 0.241, 'High School': 0.1355, 'PhD': 0.1235, 'Other': 0.0285, 'undefined': 0.0015}\n",
      "\n",
      "Health_Status\n",
      "['Excellent' 'Fair' 'Poor' 'Good']\n",
      "{'Excellent': 0.2515, 'Fair': 0.2595, 'Poor': 0.252, 'Good': 0.237}\n",
      "\n"
     ]
    }
   ],
   "source": [
    "string_columns = data.select_dtypes(include=['object']).columns\n",
    "\n",
    "for x in string_columns:\n",
    "    print(x)\n",
    "    print(data[x].unique())\n",
    "    print(utils.getProportion(data[x]))\n",
    "    print()"
   ]
  },
  {
   "cell_type": "code",
   "execution_count": 117,
>>>>>>> 28dd123a72d21f09c142884442fae56538445726
   "metadata": {},
   "outputs": [],
   "source": [
    "numeric_data = data.select_dtypes(include=[int, float]) "
   ]
  },
  {
   "cell_type": "code",
<<<<<<< HEAD
   "execution_count": 341,
=======
   "execution_count": 118,
>>>>>>> 28dd123a72d21f09c142884442fae56538445726
   "metadata": {},
   "outputs": [
    {
     "data": {
      "text/plain": [
       "Unnamed: 0                                 0\n",
       "Age                                     53.0\n",
       "Income                       -1088986.526405\n",
       "Gender                                Female\n",
       "Education                  Bachelor's Degree\n",
       "Stress_Level                        2.528057\n",
       "Exercise_Hours_Per_Week             -4.49931\n",
       "Cholesterol_Level                 196.914948\n",
       "Weight                             32.581758\n",
       "Height                            149.124594\n",
       "Blood_Pressure                           0.0\n",
       "Health_Status                           Fair\n",
       "Name: 0, dtype: object"
      ]
     },
<<<<<<< HEAD
     "execution_count": 341,
=======
     "execution_count": 118,
>>>>>>> 28dd123a72d21f09c142884442fae56538445726
     "metadata": {},
     "output_type": "execute_result"
    }
   ],
   "source": [
    "# Additional data information (mode). only return the first value of the mode\n",
    "modus = data.mode().loc[0]\n",
    "modus"
   ]
  },
  {
   "cell_type": "code",
<<<<<<< HEAD
   "execution_count": 342,
=======
   "execution_count": 119,
>>>>>>> 28dd123a72d21f09c142884442fae56538445726
   "metadata": {},
   "outputs": [
    {
     "data": {
      "text/plain": [
       "Unnamed: 0                 3.335000e+05\n",
       "Age                        1.336510e+02\n",
       "Income                     4.043297e+12\n",
       "Stress_Level               8.410157e-01\n",
       "Exercise_Hours_Per_Week    2.410391e+01\n",
       "Cholesterol_Level          9.459387e-01\n",
       "Weight                     1.035173e+02\n",
       "Height                     4.630029e-01\n",
       "Blood_Pressure             1.254716e+02\n",
       "dtype: float64"
      ]
     },
<<<<<<< HEAD
     "execution_count": 342,
=======
     "execution_count": 119,
>>>>>>> 28dd123a72d21f09c142884442fae56538445726
     "metadata": {},
     "output_type": "execute_result"
    }
   ],
   "source": [
    "# Additional data description (Variance)\n",
    "numeric_data.var()"
   ]
  },
  {
   "cell_type": "code",
<<<<<<< HEAD
   "execution_count": 343,
=======
   "execution_count": 120,
>>>>>>> 28dd123a72d21f09c142884442fae56538445726
   "metadata": {},
   "outputs": [
    {
     "name": "stdout",
     "output_type": "stream",
     "text": [
      "Unnamed: 0                 1.999000e+03\n",
      "Age                        3.900000e+01\n",
      "Income                     1.331648e+07\n",
      "Stress_Level               6.053271e+00\n",
      "Exercise_Hours_Per_Week    3.131567e+01\n",
      "Cholesterol_Level          6.247387e+00\n",
      "Weight                     7.702780e+01\n",
      "Height                     4.745875e+00\n",
      "Blood_Pressure             2.009500e+02\n",
      "dtype: float64\n"
     ]
    }
   ],
   "source": [
    "# Additional data description (Range)\n",
    "print(numeric_data.max() - numeric_data.min())"
   ]
  },
  {
   "cell_type": "code",
<<<<<<< HEAD
   "execution_count": 344,
=======
   "execution_count": 121,
>>>>>>> 28dd123a72d21f09c142884442fae56538445726
   "metadata": {},
   "outputs": [
    {
     "data": {
      "text/plain": [
       "Unnamed: 0                 9.995000e+02\n",
       "Age                        1.925000e+01\n",
       "Income                     2.690882e+06\n",
       "Stress_Level               1.265364e+00\n",
       "Exercise_Hours_Per_Week    6.577267e+00\n",
       "Cholesterol_Level          1.291672e+00\n",
       "Weight                     1.323962e+01\n",
       "Height                     9.004696e-01\n",
       "Blood_Pressure             1.356018e+01\n",
       "dtype: float64"
      ]
     },
<<<<<<< HEAD
     "execution_count": 344,
=======
     "execution_count": 121,
>>>>>>> 28dd123a72d21f09c142884442fae56538445726
     "metadata": {},
     "output_type": "execute_result"
    }
   ],
   "source": [
    "# Additional data description (Interquartile Range)\n",
    "Q1 = numeric_data.quantile(0.25)\n",
    "Q3 = numeric_data.quantile(0.75)\n",
    "IQR = Q3 - Q1\n",
    "IQR"
   ]
  },
  {
   "cell_type": "code",
<<<<<<< HEAD
   "execution_count": 345,
=======
   "execution_count": 122,
>>>>>>> 28dd123a72d21f09c142884442fae56538445726
   "metadata": {},
   "outputs": [
    {
     "data": {
      "text/plain": [
       "Unnamed: 0                 0.000000\n",
       "Age                       -0.005292\n",
       "Income                    -0.006351\n",
       "Stress_Level              -0.012588\n",
       "Exercise_Hours_Per_Week    0.061026\n",
       "Cholesterol_Level         -0.072125\n",
       "Weight                    -0.057605\n",
       "Height                     0.657076\n",
       "Blood_Pressure            -1.626737\n",
       "dtype: float64"
      ]
     },
<<<<<<< HEAD
     "execution_count": 345,
=======
     "execution_count": 122,
>>>>>>> 28dd123a72d21f09c142884442fae56538445726
     "metadata": {},
     "output_type": "execute_result"
    }
   ],
   "source": [
    "# Additional data description (Skewness)\n",
    "# The closer the value is to 0, the more symmetrical the data is\n",
    "numeric_data.skew()"
   ]
  },
  {
   "cell_type": "code",
<<<<<<< HEAD
   "execution_count": 346,
=======
   "execution_count": 123,
>>>>>>> 28dd123a72d21f09c142884442fae56538445726
   "metadata": {},
   "outputs": [
    {
     "data": {
      "text/plain": [
       "Unnamed: 0                 -1.200000\n",
       "Age                        -1.203392\n",
       "Income                     -0.031562\n",
       "Stress_Level               -0.129817\n",
       "Exercise_Hours_Per_Week     0.018318\n",
       "Cholesterol_Level           0.005758\n",
       "Weight                      0.124732\n",
       "Height                      0.708111\n",
       "Blood_Pressure             18.838494\n",
       "dtype: float64"
      ]
     },
<<<<<<< HEAD
     "execution_count": 346,
=======
     "execution_count": 123,
>>>>>>> 28dd123a72d21f09c142884442fae56538445726
     "metadata": {},
     "output_type": "execute_result"
    }
   ],
   "source": [
    "# Additional data description (Kurtosis)\n",
    "# Describes the shape of the distribution, the higher the value, the more peaked the data is\n",
    "numeric_data.kurtosis()"
   ]
  },
  {
   "cell_type": "code",
<<<<<<< HEAD
   "execution_count": 347,
=======
   "execution_count": 124,
>>>>>>> 28dd123a72d21f09c142884442fae56538445726
   "metadata": {},
   "outputs": [
    {
     "name": "stdout",
     "output_type": "stream",
     "text": [
      "Unique Values:\n",
      " Gender           2\n",
      "Education        6\n",
      "Health_Status    4\n",
      "dtype: int64\n",
      "\n",
      "Proportions:\n",
      " Gender  Education          Health_Status\n",
      "Male    Bachelor's Degree  Good             134\n",
      "Female  Bachelor's Degree  Excellent        129\n",
      "Male    Bachelor's Degree  Excellent        126\n",
      "                           Fair             124\n",
      "Female  Bachelor's Degree  Poor             112\n",
      "                           Fair             108\n",
      "                           Good             106\n",
      "Male    Bachelor's Degree  Poor             101\n",
      "Female  Master's Degree    Fair              77\n",
      "                           Poor              67\n",
      "Male    Master's Degree    Poor              66\n",
      "Female  Master's Degree    Excellent         62\n",
      "Male    Master's Degree    Good              59\n",
      "                           Fair              53\n",
      "                           Excellent         50\n",
      "Female  Master's Degree    Good              48\n",
      "        PhD                Poor              39\n",
      "        High School        Fair              39\n",
      "Male    High School        Fair              39\n",
      "Female  High School        Poor              38\n",
      "Male    PhD                Poor              36\n",
      "Female  High School        Excellent         35\n",
      "                           Good              34\n",
      "        PhD                Excellent         33\n",
      "Male    High School        Excellent         31\n",
      "                           Poor              30\n",
      "        PhD                Good              29\n",
      "Female  PhD                Good              28\n",
      "Male    PhD                Excellent         28\n",
      "                           Fair              28\n",
      "Female  PhD                Fair              26\n",
      "Male    High School        Good              25\n",
      "        Other              Fair              12\n",
      "Female  Other              Fair              12\n",
      "                           Poor               9\n",
      "Male    Other              Excellent          6\n",
      "Female  Other              Good               5\n",
      "Male    Other              Good               5\n",
      "                           Poor               5\n",
      "Female  Other              Excellent          3\n",
      "Male    undefined          Fair               1\n",
      "Female  undefined          Good               1\n",
      "Male    undefined          Poor               1\n",
      "Name: count, dtype: int64\n"
     ]
    }
   ],
   "source": [
    "# Additional data description for non numeric data\n",
    "string_data = data.select_dtypes(include=[object])\n",
    "\n",
    "print(\"Unique Values:\\n\", string_data.nunique())\n",
    "print(\"\\nProportions:\\n\", string_data.value_counts(normalize=False))"
   ]
  },
  {
   "cell_type": "code",
   "execution_count": 348,
   "metadata": {},
   "outputs": [
    {
     "name": "stdout",
     "output_type": "stream",
     "text": [
      "[\"Bachelor's Degree\" \"Master's Degree\" 'High School' 'PhD' 'Other'\n",
      " 'undefined']\n"
     ]
    }
   ],
   "source": [
    "print (data[\"Education\"].unique())"
   ]
  },
  {
   "cell_type": "markdown",
   "metadata": {},
   "source": [
    "# FINDING AND HANDLING OUTLIERS"
   ]
  },
  {
   "cell_type": "markdown",
   "metadata": {},
   "source": [
    "### Disini, kita akan menganggap data yang berada diluar rentang Q1 - 1.5IQR dan Q3 + 1.5IQR adalah outliers, kita akan menggunakan bantuan boxplot untuk mencarinya, titik-titik yang berada diluar whiskers (garis yang keluar dari box) adalah outliers."
   ]
  },
  {
   "cell_type": "code",
<<<<<<< HEAD
   "execution_count": 349,
=======
   "execution_count": 125,
>>>>>>> 28dd123a72d21f09c142884442fae56538445726
   "metadata": {},
   "outputs": [
    {
     "data": {
      "image/png": "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",
      "text/plain": [
       "<Figure size 640x480 with 1 Axes>"
      ]
     },
     "metadata": {},
     "output_type": "display_data"
    }
   ],
   "source": [
    "# Blood_Pressure\n",
    "blood_pressure_data = data[\"Blood_Pressure\"]\n",
    "plt.boxplot(blood_pressure_data, vert=False, patch_artist=True) \n",
    "plt.show()"
   ]
  },
  {
   "cell_type": "code",
   "execution_count": 350,
   "metadata": {},
   "outputs": [
    {
     "data": {
      "text/plain": [
       "43       90.027285\n",
       "117      85.650116\n",
       "192      91.953005\n",
       "230     150.635116\n",
       "249     148.131915\n",
       "316       0.000000\n",
       "323     148.158032\n",
       "417      92.692620\n",
       "526     149.568502\n",
       "617      10.780000\n",
       "715     149.463928\n",
       "924      88.578819\n",
       "1123    147.048143\n",
       "1223     88.665138\n",
       "1230    152.643476\n",
       "1421     92.479926\n",
       "1507     92.114951\n",
       "1551      0.000000\n",
       "1643     44.450000\n",
       "1696    154.427656\n",
       "1807     92.561036\n",
       "1920    200.950000\n",
       "Name: Blood_Pressure, dtype: float64"
      ]
     },
     "execution_count": 350,
     "metadata": {},
     "output_type": "execute_result"
    }
   ],
   "source": [
    "# Check for outliers\n",
    "outliers_blood_pressure = blood_pressure_data[(blood_pressure_data < Q1[\"Blood_Pressure\"] - 1.5 * IQR[\"Blood_Pressure\"]) | (blood_pressure_data > Q3[\"Blood_Pressure\"] + 1.5 * IQR[\"Blood_Pressure\"])]\n",
    "outliers_blood_pressure"
   ]
  },
  {
   "cell_type": "markdown",
   "metadata": {},
   "source": [
    "Disini terlihat bahwa kolom Blood Pressure juga memiliki outliers sehingga perlu diteliti lebih lanjut."
   ]
  },
  {
   "cell_type": "code",
   "execution_count": 351,
   "metadata": {},
   "outputs": [],
   "source": [
    "# Remove outliers\n",
    "data = data.drop(outliers_blood_pressure.index)"
   ]
  },
  {
   "cell_type": "code",
   "execution_count": 381,
   "metadata": {},
   "outputs": [
    {
     "data": {
      "image/png": "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",
      "text/plain": [
       "<Figure size 640x480 with 1 Axes>"
      ]
     },
     "metadata": {},
     "output_type": "display_data"
    }
   ],
   "source": [
    "plt.boxplot(data[\"Blood_Pressure\"], vert=False, patch_artist=True)\n",
    "plt.show()"
   ]
  },
  {
   "cell_type": "markdown",
   "metadata": {},
   "source": [
    "Berdasarkan data pada https://www.heart.org/en/health-topics/high-blood-pressure/understanding-blood-pressure-readings, walaupun masih ada outliers, tetapi outliers tersebut masih dalam batas wajar sehingga tidak perlu ditangani lebih lanjut."
   ]
  },
  {
   "cell_type": "code",
   "execution_count": 353,
   "metadata": {},
   "outputs": [
    {
     "data": {
      "image/png": "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",
      "text/plain": [
       "<Figure size 640x480 with 1 Axes>"
      ]
     },
     "metadata": {},
     "output_type": "display_data"
    }
   ],
   "source": [
    "# Age\n",
    "age_data = data[\"Age\"]\n",
    "plt.boxplot(age_data, vert=False, patch_artist=True) \n",
    "plt.show()"
   ]
  },
  {
   "cell_type": "markdown",
   "metadata": {},
   "source": [
    "Karena tidak ada titik titik diluar whiskers, maka kolom age aman dari outliers"
   ]
  },
  {
   "cell_type": "code",
<<<<<<< HEAD
   "execution_count": 354,
=======
   "execution_count": 126,
>>>>>>> 28dd123a72d21f09c142884442fae56538445726
   "metadata": {},
   "outputs": [
    {
     "data": {
      "image/png": "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",
      "text/plain": [
       "<Figure size 640x480 with 1 Axes>"
      ]
     },
     "metadata": {},
     "output_type": "display_data"
    }
   ],
   "source": [
    "# Income\n",
    "income_data = data[\"Income\"]\n",
    "plt.boxplot(income_data, vert=False, patch_artist=True) \n",
    "plt.show()"
   ]
  },
  {
   "cell_type": "markdown",
   "metadata": {},
   "source": [
    "Disini terlihat kolom data income memiliki banyak outlier sehingga data tersebut perlu di cek lebih lanjut.\n",
    "\n",
    "Dari boxplot tersebut, ada income yang bernilai negatif yang jelas hal ini tidak masuk akal sehingga untuk menangani ini, kita perlu membatasi income minimum adalah 0."
   ]
  },
  {
   "cell_type": "code",
<<<<<<< HEAD
   "execution_count": 355,
=======
   "execution_count": 127,
>>>>>>> 28dd123a72d21f09c142884442fae56538445726
   "metadata": {},
   "outputs": [
    {
     "data": {
      "text/plain": [
       "102    -5.235745e+05\n",
       "453    -6.372663e+05\n",
       "514    -4.944103e+05\n",
       "579     1.044300e+07\n",
       "673     1.060307e+07\n",
       "835    -4.719274e+05\n",
       "892    -9.677291e+05\n",
       "1328    1.222749e+07\n",
       "1460    1.036827e+07\n",
       "1686    1.198891e+07\n",
       "1697   -1.088987e+06\n",
       "1947    1.073412e+07\n",
       "1948    1.034308e+07\n",
       "Name: Income, dtype: float64"
      ]
     },
<<<<<<< HEAD
     "execution_count": 355,
=======
     "execution_count": 127,
>>>>>>> 28dd123a72d21f09c142884442fae56538445726
     "metadata": {},
     "output_type": "execute_result"
    }
   ],
   "source": [
    "outliers_income = income_data[(income_data < Q1[\"Income\"] - 1.5 * IQR[\"Income\"]) | (income_data > Q3[\"Income\"] + 1.5 * IQR[\"Income\"])]\n",
    "outliers_income"
   ]
  },
  {
   "cell_type": "code",
<<<<<<< HEAD
   "execution_count": 356,
=======
   "execution_count": 128,
>>>>>>> 28dd123a72d21f09c142884442fae56538445726
   "metadata": {},
   "outputs": [
    {
     "data": {
      "text/plain": [
       "102    -5.235745e+05\n",
       "453    -6.372663e+05\n",
       "514    -4.944103e+05\n",
       "835    -4.719274e+05\n",
       "892    -9.677291e+05\n",
       "1697   -1.088987e+06\n",
       "Name: Income, dtype: float64"
      ]
     },
<<<<<<< HEAD
     "execution_count": 356,
=======
     "execution_count": 128,
>>>>>>> 28dd123a72d21f09c142884442fae56538445726
     "metadata": {},
     "output_type": "execute_result"
    }
   ],
   "source": [
    "# Tampilkan data yang memiliki nilai income negatif\n",
    "outliers_income_negatif = outliers_income[outliers_income < 0]\n",
    "outliers_income_negatif "
   ]
  },
  {
   "cell_type": "code",
<<<<<<< HEAD
   "execution_count": 382,
   "metadata": {},
   "outputs": [],
   "source": [
    "# Replace negative income with 0, use loc to avoid warning message\n",
    "data.loc[data[\"Income\"] < 0, \"Income\"] = 0"
   ]
  },
  {
   "cell_type": "code",
   "execution_count": 383,
   "metadata": {},
   "outputs": [
    {
=======
   "execution_count": 129,
   "metadata": {},
   "outputs": [
    {
     "name": "stderr",
     "output_type": "stream",
     "text": [
      "C:\\Users\\Randy Verdian\\AppData\\Local\\Temp\\ipykernel_18156\\1114229266.py:2: SettingWithCopyWarning: \n",
      "A value is trying to be set on a copy of a slice from a DataFrame\n",
      "\n",
      "See the caveats in the documentation: https://pandas.pydata.org/pandas-docs/stable/user_guide/indexing.html#returning-a-view-versus-a-copy\n",
      "  income_data[income_data < 0] = 0\n"
     ]
    },
    {
>>>>>>> 28dd123a72d21f09c142884442fae56538445726
     "data": {
      "text/html": [
       "<div>\n",
       "<style scoped>\n",
       "    .dataframe tbody tr th:only-of-type {\n",
       "        vertical-align: middle;\n",
       "    }\n",
       "\n",
       "    .dataframe tbody tr th {\n",
       "        vertical-align: top;\n",
       "    }\n",
       "\n",
       "    .dataframe thead th {\n",
       "        text-align: right;\n",
       "    }\n",
       "</style>\n",
       "<table border=\"1\" class=\"dataframe\">\n",
       "  <thead>\n",
       "    <tr style=\"text-align: right;\">\n",
       "      <th></th>\n",
       "      <th>Unnamed: 0</th>\n",
       "      <th>Age</th>\n",
       "      <th>Income</th>\n",
       "      <th>Gender</th>\n",
       "      <th>Education</th>\n",
       "      <th>Stress_Level</th>\n",
       "      <th>Exercise_Hours_Per_Week</th>\n",
       "      <th>Cholesterol_Level</th>\n",
       "      <th>Weight</th>\n",
       "      <th>Height</th>\n",
       "      <th>Blood_Pressure</th>\n",
       "      <th>Health_Status</th>\n",
       "    </tr>\n",
       "  </thead>\n",
       "  <tbody>\n",
       "  </tbody>\n",
       "</table>\n",
       "</div>"
      ],
      "text/plain": [
       "Empty DataFrame\n",
       "Columns: [Unnamed: 0, Age, Income, Gender, Education, Stress_Level, Exercise_Hours_Per_Week, Cholesterol_Level, Weight, Height, Blood_Pressure, Health_Status]\n",
       "Index: []"
      ]
     },
<<<<<<< HEAD
     "execution_count": 383,
=======
     "execution_count": 129,
>>>>>>> 28dd123a72d21f09c142884442fae56538445726
     "metadata": {},
     "output_type": "execute_result"
    }
   ],
   "source": [
    "data[data[\"Income\"] < 0]"
   ]
  },
  {
   "cell_type": "code",
<<<<<<< HEAD
   "execution_count": 358,
=======
   "execution_count": 130,
>>>>>>> 28dd123a72d21f09c142884442fae56538445726
   "metadata": {},
   "outputs": [
    {
     "data": {
      "text/plain": [
<<<<<<< HEAD
       "{'whiskers': [<matplotlib.lines.Line2D at 0x22301485850>,\n",
       "  <matplotlib.lines.Line2D at 0x223014847a0>],\n",
       " 'caps': [<matplotlib.lines.Line2D at 0x223014849b0>,\n",
       "  <matplotlib.lines.Line2D at 0x22301484290>],\n",
       " 'boxes': [<matplotlib.patches.PathPatch at 0x22301485a90>],\n",
       " 'medians': [<matplotlib.lines.Line2D at 0x22301486e40>],\n",
       " 'fliers': [<matplotlib.lines.Line2D at 0x22301486270>],\n",
       " 'means': []}"
      ]
     },
     "execution_count": 358,
=======
       "{'whiskers': [<matplotlib.lines.Line2D at 0x237007a41d0>,\n",
       "  <matplotlib.lines.Line2D at 0x23700932c90>],\n",
       " 'caps': [<matplotlib.lines.Line2D at 0x23701ab3ad0>,\n",
       "  <matplotlib.lines.Line2D at 0x23701ab3250>],\n",
       " 'boxes': [<matplotlib.patches.PathPatch at 0x23701ac93d0>],\n",
       " 'medians': [<matplotlib.lines.Line2D at 0x23701ab2750>],\n",
       " 'fliers': [<matplotlib.lines.Line2D at 0x23701ab1cd0>],\n",
       " 'means': []}"
      ]
     },
     "execution_count": 130,
>>>>>>> 28dd123a72d21f09c142884442fae56538445726
     "metadata": {},
     "output_type": "execute_result"
    },
    {
     "data": {
      "image/png": "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",
      "text/plain": [
       "<Figure size 640x480 with 1 Axes>"
      ]
     },
     "metadata": {},
     "output_type": "display_data"
    }
   ],
   "source": [
    "plt.boxplot(income_data, vert=False, patch_artist=True)"
   ]
  },
  {
   "cell_type": "markdown",
   "metadata": {},
   "source": [
    "Disini, income yang negatif sudah di set ke 0. Untuk income yang melebihi Q3 + 1.5IQR, hal tersebut mungkin saja terjadi sehingga tidak diperlukan perubahan untuk outliers yang bernilai > Q3 +1.5IQR."
   ]
  },
  {
   "cell_type": "code",
<<<<<<< HEAD
   "execution_count": 359,
=======
   "execution_count": 131,
>>>>>>> 28dd123a72d21f09c142884442fae56538445726
   "metadata": {},
   "outputs": [
    {
     "data": {
<<<<<<< HEAD
      "image/png": "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",
=======
      "image/png": "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",
>>>>>>> 28dd123a72d21f09c142884442fae56538445726
      "text/plain": [
       "<Figure size 640x480 with 1 Axes>"
      ]
     },
     "metadata": {},
     "output_type": "display_data"
    }
   ],
   "source": [
    "# Stress level\n",
    "stress_level_data = data[\"Stress_Level\"]\n",
    "plt.boxplot(stress_level_data, vert=False, patch_artist=True) \n",
    "plt.show()"
   ]
  },
  {
   "cell_type": "markdown",
   "metadata": {},
   "source": [
    "Disini terlihat bahwa kolom stress level juga memiliki outliers sehingga perlu diteliti lebih lanjut."
   ]
  },
  {
   "cell_type": "code",
<<<<<<< HEAD
   "execution_count": 360,
=======
   "execution_count": 132,
>>>>>>> 28dd123a72d21f09c142884442fae56538445726
   "metadata": {},
   "outputs": [
    {
     "data": {
<<<<<<< HEAD
      "text/plain": [
       "13      2.528057\n",
       "170     8.191571\n",
       "201     7.908383\n",
       "240     2.661764\n",
       "306     7.916607\n",
       "393     7.927514\n",
       "1089    2.782488\n",
       "1196    8.168885\n",
       "1210    2.728318\n",
       "1433    8.581327\n",
       "1519    2.745202\n",
       "1640    2.686308\n",
       "Name: Stress_Level, dtype: float64"
      ]
     },
     "execution_count": 360,
     "metadata": {},
     "output_type": "execute_result"
    }
   ],
   "source": [
    "outliers_stress_level = stress_level_data[(stress_level_data < Q1[\"Stress_Level\"] - 1.5 * IQR[\"Stress_Level\"]) | (stress_level_data > Q3[\"Stress_Level\"] + 1.5 * IQR[\"Stress_Level\"])]\n",
    "outliers_stress_level"
   ]
  },
  {
   "cell_type": "markdown",
   "metadata": {},
   "source": [
    "Dengan asumsi bahwa stress level berada pada interval 1-10, maka data diatas masih masuk dalam kategori wajar sehingga tidak perlu ditangani lebih lanjut"
   ]
  },
  {
   "cell_type": "code",
   "execution_count": 361,
   "metadata": {},
   "outputs": [
    {
     "data": {
      "image/png": "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",
=======
      "image/png": "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",
>>>>>>> 28dd123a72d21f09c142884442fae56538445726
      "text/plain": [
       "<Figure size 640x480 with 1 Axes>"
      ]
     },
     "metadata": {},
     "output_type": "display_data"
    }
   ],
   "source": [
    "# Exercise_Hours_Per_Week\n",
    "exercise_hours_per_week_data = data[\"Exercise_Hours_Per_Week\"]\n",
    "plt.boxplot(exercise_hours_per_week_data, vert=False, patch_artist=True) \n",
    "plt.show()"
   ]
  },
  {
   "cell_type": "markdown",
   "metadata": {},
   "source": [
    "Disini terlihat bahwa kolom Exercise Hours Per Week juga memiliki outliers sehingga perlu diteliti lebih lanjut."
   ]
  },
  {
   "cell_type": "code",
<<<<<<< HEAD
   "execution_count": 362,
=======
   "execution_count": 133,
>>>>>>> 28dd123a72d21f09c142884442fae56538445726
   "metadata": {},
   "outputs": [
    {
     "data": {
      "text/plain": [
       "48      24.033132\n",
       "180     25.530543\n",
       "278     -3.632656\n",
       "330     -4.499310\n",
       "452     23.463102\n",
       "479     23.506893\n",
       "580     -4.247733\n",
       "644     23.269785\n",
       "893     23.103693\n",
       "1056    -3.645436\n",
       "1147    23.883280\n",
       "1284    26.816358\n",
       "1599    -3.343693\n",
       "1677    26.795926\n",
       "1706    -4.298969\n",
       "1784    23.432592\n",
       "1788    25.146327\n",
       "1853    23.794101\n",
       "Name: Exercise_Hours_Per_Week, dtype: float64"
      ]
     },
<<<<<<< HEAD
     "execution_count": 362,
=======
     "execution_count": 133,
>>>>>>> 28dd123a72d21f09c142884442fae56538445726
     "metadata": {},
     "output_type": "execute_result"
    }
   ],
   "source": [
    "# Check outliers\n",
    "outliers_exercise = exercise_hours_per_week_data[(exercise_hours_per_week_data < Q1[\"Exercise_Hours_Per_Week\"] - 1.5 * IQR[\"Exercise_Hours_Per_Week\"]) | (exercise_hours_per_week_data > Q3[\"Exercise_Hours_Per_Week\"] + 1.5 * IQR[\"Exercise_Hours_Per_Week\"])]\n",
    "outliers_exercise"
   ]
  },
  {
   "cell_type": "code",
<<<<<<< HEAD
   "execution_count": 363,
=======
   "execution_count": 134,
>>>>>>> 28dd123a72d21f09c142884442fae56538445726
   "metadata": {},
   "outputs": [
    {
     "data": {
      "text/plain": [
       "35     -1.927087\n",
       "53     -0.432964\n",
       "75     -0.309098\n",
       "101    -0.950271\n",
       "162    -3.063739\n",
       "193    -1.552585\n",
       "235    -0.064111\n",
       "258    -0.273152\n",
       "264    -0.392170\n",
       "273    -0.764312\n",
       "276    -0.352699\n",
       "278    -3.632656\n",
       "291    -0.342537\n",
       "328    -2.077250\n",
       "330    -4.499310\n",
       "339    -0.757945\n",
       "366    -1.905777\n",
       "580    -4.247733\n",
       "660    -1.218878\n",
       "742    -0.490524\n",
       "1056   -3.645436\n",
       "1068   -0.950923\n",
       "1143   -1.271801\n",
       "1176   -1.300274\n",
       "1207   -1.442528\n",
       "1211   -0.942582\n",
       "1250   -2.636253\n",
       "1293   -2.501845\n",
       "1319   -0.141838\n",
       "1544   -1.669836\n",
       "1545   -0.379740\n",
       "1599   -3.343693\n",
       "1623   -2.688027\n",
       "1671   -1.207635\n",
       "1699   -0.804646\n",
       "1706   -4.298969\n",
       "1708   -0.325989\n",
       "1760   -1.326430\n",
       "1835   -2.636172\n",
       "1992   -0.954750\n",
       "1993   -2.087057\n",
       "Name: Exercise_Hours_Per_Week, dtype: float64"
      ]
     },
<<<<<<< HEAD
     "execution_count": 363,
=======
     "execution_count": 134,
>>>>>>> 28dd123a72d21f09c142884442fae56538445726
     "metadata": {},
     "output_type": "execute_result"
    }
   ],
   "source": [
    "# Check for negative values\n",
    "negatif_exercise = exercise_hours_per_week_data[exercise_hours_per_week_data < 0]\n",
    "negatif_exercise"
   ]
  },
  {
   "cell_type": "code",
<<<<<<< HEAD
   "execution_count": 384,
   "metadata": {},
   "outputs": [],
=======
   "execution_count": 135,
   "metadata": {},
   "outputs": [
    {
     "name": "stderr",
     "output_type": "stream",
     "text": [
      "C:\\Users\\Randy Verdian\\AppData\\Local\\Temp\\ipykernel_18156\\1030405213.py:2: SettingWithCopyWarning: \n",
      "A value is trying to be set on a copy of a slice from a DataFrame\n",
      "\n",
      "See the caveats in the documentation: https://pandas.pydata.org/pandas-docs/stable/user_guide/indexing.html#returning-a-view-versus-a-copy\n",
      "  exercise_hours_per_week_data[exercise_hours_per_week_data < 0] = 0\n"
     ]
    }
   ],
>>>>>>> 28dd123a72d21f09c142884442fae56538445726
   "source": [
    "# Change negative values to 0\n",
    "data.loc[data[\"Exercise_Hours_Per_Week\"] < 0, \"Exercise_Hours_Per_Week\"] = 0"
   ]
  },
  {
   "cell_type": "code",
<<<<<<< HEAD
   "execution_count": 385,
   "metadata": {},
   "outputs": [
    {
     "data": {
      "text/html": [
       "<div>\n",
       "<style scoped>\n",
       "    .dataframe tbody tr th:only-of-type {\n",
       "        vertical-align: middle;\n",
       "    }\n",
       "\n",
       "    .dataframe tbody tr th {\n",
       "        vertical-align: top;\n",
       "    }\n",
       "\n",
       "    .dataframe thead th {\n",
       "        text-align: right;\n",
       "    }\n",
       "</style>\n",
       "<table border=\"1\" class=\"dataframe\">\n",
       "  <thead>\n",
       "    <tr style=\"text-align: right;\">\n",
       "      <th></th>\n",
       "      <th>Unnamed: 0</th>\n",
       "      <th>Age</th>\n",
       "      <th>Income</th>\n",
       "      <th>Gender</th>\n",
       "      <th>Education</th>\n",
       "      <th>Stress_Level</th>\n",
       "      <th>Exercise_Hours_Per_Week</th>\n",
       "      <th>Cholesterol_Level</th>\n",
       "      <th>Weight</th>\n",
       "      <th>Height</th>\n",
       "      <th>Blood_Pressure</th>\n",
       "      <th>Health_Status</th>\n",
       "    </tr>\n",
       "  </thead>\n",
       "  <tbody>\n",
       "  </tbody>\n",
       "</table>\n",
       "</div>"
      ],
      "text/plain": [
       "Empty DataFrame\n",
       "Columns: [Unnamed: 0, Age, Income, Gender, Education, Stress_Level, Exercise_Hours_Per_Week, Cholesterol_Level, Weight, Height, Blood_Pressure, Health_Status]\n",
       "Index: []"
      ]
     },
     "execution_count": 385,
     "metadata": {},
     "output_type": "execute_result"
    }
   ],
   "source": [
    "data[data[\"Exercise_Hours_Per_Week\"] < 0]"
   ]
  },
  {
   "cell_type": "code",
   "execution_count": 365,
=======
   "execution_count": 136,
>>>>>>> 28dd123a72d21f09c142884442fae56538445726
   "metadata": {},
   "outputs": [
    {
     "data": {
      "text/plain": [
<<<<<<< HEAD
       "{'whiskers': [<matplotlib.lines.Line2D at 0x22301463bf0>,\n",
       "  <matplotlib.lines.Line2D at 0x22301463260>],\n",
       " 'caps': [<matplotlib.lines.Line2D at 0x22301461970>,\n",
       "  <matplotlib.lines.Line2D at 0x22302067890>],\n",
       " 'boxes': [<matplotlib.patches.PathPatch at 0x223001ce8a0>],\n",
       " 'medians': [<matplotlib.lines.Line2D at 0x22302065dc0>],\n",
       " 'fliers': [<matplotlib.lines.Line2D at 0x22302066ed0>],\n",
       " 'means': []}"
      ]
     },
     "execution_count": 365,
=======
       "{'whiskers': [<matplotlib.lines.Line2D at 0x23701bbdbd0>,\n",
       "  <matplotlib.lines.Line2D at 0x23701c27790>],\n",
       " 'caps': [<matplotlib.lines.Line2D at 0x23701c341d0>,\n",
       "  <matplotlib.lines.Line2D at 0x23701c34050>],\n",
       " 'boxes': [<matplotlib.patches.PathPatch at 0x23701bfd510>],\n",
       " 'medians': [<matplotlib.lines.Line2D at 0x23701c34f90>],\n",
       " 'fliers': [<matplotlib.lines.Line2D at 0x23701c35850>],\n",
       " 'means': []}"
      ]
     },
     "execution_count": 136,
>>>>>>> 28dd123a72d21f09c142884442fae56538445726
     "metadata": {},
     "output_type": "execute_result"
    },
    {
     "data": {
<<<<<<< HEAD
      "image/png": "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",
=======
      "image/png": "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",
>>>>>>> 28dd123a72d21f09c142884442fae56538445726
      "text/plain": [
       "<Figure size 640x480 with 1 Axes>"
      ]
     },
     "metadata": {},
     "output_type": "display_data"
    }
   ],
   "source": [
    "plt.boxplot(exercise_hours_per_week_data, vert=False, patch_artist=True)"
   ]
  },
  {
   "cell_type": "markdown",
   "metadata": {},
   "source": [
    "Disini, exercise hour per week yang negatif sudah di set ke 0. Untuk exercise hour per week yang melebihi Q3 + 1.5IQR, hal tersebut mungkin saja terjadi (masih masuk akal dalam seminggu) sehingga tidak diperlukan perubahan untuk outliers yang bernilai > Q3 +1.5IQR."
   ]
  },
  {
   "cell_type": "code",
<<<<<<< HEAD
   "execution_count": 366,
=======
   "execution_count": 137,
>>>>>>> 28dd123a72d21f09c142884442fae56538445726
   "metadata": {},
   "outputs": [
    {
     "data": {
<<<<<<< HEAD
      "image/png": "iVBORw0KGgoAAAANSUhEUgAAAhYAAAGdCAYAAABO2DpVAAAAOXRFWHRTb2Z0d2FyZQBNYXRwbG90bGliIHZlcnNpb24zLjguNCwgaHR0cHM6Ly9tYXRwbG90bGliLm9yZy8fJSN1AAAACXBIWXMAAA9hAAAPYQGoP6dpAAAa6klEQVR4nO3dfZCVdf3w8c8uwsKqiwELK7KYRtyQEiU1CWZiFqXeCbGNTTMmTc2opdNdWOOQlTVTOU1id1OW91RmD9OTik8L1aiIEmKNiA2YIhCExcOGJRC7sMhe9x/+9gSxwAKfPYeF12uGYTjXdb7ne305e673Hi7OVhVFUQQAQILqSk8AADh2CAsAII2wAADSCAsAII2wAADSCAsAII2wAADSCAsAIM0J5X7Ajo6OWL9+fZx88slRVVVV7ocHAA5DURSxbdu2GD58eFRX7/99ibKHxfr166OxsbHcDwsAJHjxxRdjxIgR+91e9rA4+eSTI+LVidXV1ZX74QGAw7B169ZobGwsncf3p+xh0fnPH3V1dcICAHqZg13G4OJNACCNsAAA0ggLACCNsAAA0ggLACCNsAAA0ggLACCNsAAA0ggLACCNsAAA0ggLACCNsAAA0ggLACCNsAAA0ggLACCNsAAA0ggLACCNsAAA0ggLACCNsAAA0ggLACCNsAAA0ggLACCNsAAA0ggLACCNsAAA0ggLACCNsAAA0ggLACCNsAAA0ggLACCNsAAA0ggLACCNsAAA0ggLACCNsAAA0ggLACCNsAAA0ggLACCNsAAA0ggLACCNsAAA0ggLACCNsAAA0ggLACCNsAAA0ggLACCNsAAA0ggLACCNsAAA0ggLACCNsAAA0ggLACCNsAAA0ggLACCNsAAA0ggLACCNsAAA0ggLACCNsAAA0ggLACCNsAAA0ggLACCNsAAA0ggLACCNsAAA0ggLACCNsAAA0ggLACCNsAAA0ggLACCNsAAA0ggLACCNsAAA0ggLACCNsAAA0ggLACCNsAAA0ggLACCNsAAA0ggLACCNsAAA0ggLACCNsAAA0ggLACCNsAAA0ggLACCNsAAA0ggLACCNsAAA0ggLACCNsAAA0ggLACCNsAAA0ggLACCNsAAA0ggLACCNsAAA0ggLACCNsAAA0ggLACCNsAAA0ggLACCNsAAA0ggLACCNsAAA0ggLACCNsAAA0ggLACCNsAAA0ggLACCNsAAA0ggLACCNsAAA0ggLACCNsAAA0ggLACCNsAAA0ggLACCNsAAA0ggLACCNsAAA0ggLACCNsAAA0ggLACCNsAAA0ggLACCNsAAA0ggLACCNsAAA0ggLACCNsAAA0ggLACCNsAAA0ggLACCNsAAA0ggLACCNsAAA0ggLACCNsAAA0ggLACCNsAAA0ggLACCNsAAA0ggLACCNsAAA0ggLACCNsAAA0ggLACCNsAAA0ggLACCNsAAA0ggLACDNCZWeAJBj3bp1sXnz5kpP47gzZMiQGDlyZKWnAUcNYQHHgHXr1sX/GjM2drS1Vnoqh6zhpKq4ekK/+H9L2mPjv4tKT+eQ9R9QGyuef05cwP8QFnAM2Lx5c+xoa43B//v66Du4sdLTOSTj+q2PLw2/PZ4Y/X8i2odXejqHZNdLL8ZLzbNj8+bNwgL+h7CAY0jfwY1R0zCq0tM4JH2r+rz6++DGqCnOqPBsgCPl4k0AII2wAADSCAsAII2wAADSCAsAII2wAADSCAsAII2wAADSCAsAII2wAADSCIujXGtrazz99NPR2tr7frgUwPHoeH/dFhZHueeffz4mTJgQzz//fKWnAkA3HO+v28ICAEgjLACANMICAEgjLACANMICAEgjLACANMICAEhzQqUnkGH37t2xcOHC2LBhQ5x66qlx/vnnR58+fUrbFixYEAsWLIiIiMmTJ8fkyZNL249k7P/eb8GCBTF//vx48cUXo7GxMd75znfG+eefHwsXLtzv43d3fAB6tz1f74cOHRoREevXr48//OEP0dHRERERp5xySvTp0+eQz1X/PX4lzyeHHBaPP/54fOMb34glS5bEhg0b4t57741p06b1wNS6Z86cOXH99dfH2rVrS7e99rWvjdmzZ0dExMc//vFoaWkpbfvKV74S9fX1cfvtt8f06dMPe+w97ztnzpy45ppr4h//+Mde9//a174WVVVVURRFl48fEd0aH4DeravzyYF85StfiaFDh8b3vve9bp0Punu+KodD/qeQ7du3x/jx4+O2227rifkckjlz5sQHPvCBGDduXCxevDi2bdsWixcvjnHjxkVTU1M0NTVFS0tLvP3tb49HHnkkHnnkkXj7298e//jHP6KpqSnmzJlzWGN/4AMfKN13zpw50dTUVIqKc889N7797W/H6NGjIyJKUfGlL31pn8dvamo66PgA9G57nk9uvvnmqKqqitNOO63LfWtrayMi4rTTTouWlpZunQ+6e74ql6piz2+nD/XOVVWH/I7F1q1bY+DAgbFly5aoq6s73IeO3bt3x6hRo2LcuHFx3333RXX1fxpp165dMXDgwNixY0dccskl8cADD5S2d3R0xNSpU2P+/PkxdOjQWLVq1T5vFR1o7I6Ojpg2bVosX748nn/++Rg9enTpHZGLLroo7r///iiKIkaNGhXr1q2LiIiampoYNmxYrFq1KqqqquKyyy6LefPmRf/+/WPLli3Rt2/fLsdfuXJl/OlPf4oJEybEkiVL4pxzzjns9eLY9vTTT8eECROiYcb/jZqGUZWeziE5q2pNzK25MS7d+dV4tjij0tM5JDs3roqNP/6Ur0/20vn1uGTJkhg/fnzpfHLPPffE6NGj46yzzorf/va3MXjw4NiyZUu0t7fHJZdcElVVVbF8+fJoa2uLl156KaZMmRILFiyIYcOGxcqVK/f7z/DdOV/t7/6Horvn7x6/xmLnzp2xc+fOvSaWYeHChbF27dr4xS9+sddCRkQsWrQo2traIiLikksu2Wt7dXV1fO5zn4vm5uZYu3ZtLFy4MCZPntztsaurq2PWrFkxadKk+O53vxt//etfS9tuvPHGqK6ujgULFuz1dlRbW9tej3XxxRfH3Llzo62tLRYtWrTX4+85/sKFC0vR8dxzzx3JcnGM63x+FK+0V3gmx5fO9fb1yZ46nw9tbW17nU8WLVoUa9eujalTp8bu3bvjyiuvjFtuuSUiXj1XvfnNb45JkybFzJkz49Zbb41Ro0bFvHnzYs2aNV2eqyK6f77a3/17Qo+Hxc033xxf/vKX08fdsGFDREScffbZ+90WETFgwIB9tu95nz337c7Ye96+evXqLm/vasw9b99zTl3tu+c4nRf0XHHFFV2OCXt6ZcumiBFvqPQ0jhuvbNkUEb4+6dratWtLJ/uzzz47HnzwwYiI0je+Z555ZmnfAQMGlF77O2/fsWNHafvBzisHO1/t7/49ocfDYtasWTFz5szSn7du3RqNjY1HPO6pp54aERHLly+Pc889t8ttEf/5C9zT8uXLu9y3O2Pvef/Xve51+9x+7rnndjnmnuPuOaeu9u0c/9RTTy29Y/Gzn/0sxo4d2+W48Nxzz8UVV1wRJwwcVumpHFc619vXJ3vq/Hp87WtfG7t27YqIV1/XO1/vO7+5/Mtf/lK6T1tbW+m1v/P2/v37l7Yf7LxysPPV/u7fE1xj4RoLjgGusagM11jQleP9Gote+wFZffr0idmzZ0dzc3NMmzZtrythm5qaoq2tLYqiiLlz58Y73vGOePjhh+Phhx+OCy64IJqbm6O1tTVmz57d5UIfaOxp06ZFc3Nz3HLLLdGvX7+49dZbo62tLdra2qK5uTnOO++8uO2226Jfv37R0dERHR0d0dbWFjNmzIhHH300Lrjggpg7d24URRFtbW3R1NS03/F9ngVA77bn+aSpqSmuuuqqmDdvXjQ0NERLS0vs3LmzdK5qbm6OlpaW2LRpUwwbNizmzZsXbW1tBzwfdPd8Vc7zySH/U8i///3vWLVqVenPa9asiWeeeSYGDRoUI0eOTJ3cwUyfPj3uvvvuuP7662PSpEml288444y45557IuLVz7FYtGhRvPvd7y5t787/DT7Q2HfffXfpvtOnT4977rmn9DkWTz75ZDz55JOl/Ts/x2LP60w6Hz8iDjo+AL3bnueTzuss/v73v3e5b2tra2l7dz/Horvnq3I55LB46qmn4sILLyz9ufP6iRkzZsSdd96ZNrHumj59ekydOnW/nzY2derUw/7kzYON/d/7Hc4nb3ZnfAB6t/8+n2R/8mZ3z1flcMhhMXny5DiCyzJ6ROdfwv62XXTRRXHRRRelj93dxznQ43d3fAB6t/293n/4wx/u0fHLrddeYwEAHH2EBQCQRlgAAGmEBQCQRlgAAGmEBQCQRlgAAGmEBQCQRlgc5caMGRNLliyJMWPGVHoqAHTD8f663eM/Np0jU1tb66cmAvQix/vrtncsAIA0wgIASCMsAIA0wgIASCMsAIA0wgIASCMsAIA0wgIASCMsAIA0wgIASOMjveEYsuulFys9hUO2q9/6iOGvzn1n++5KT+eQ9Mb1hp4mLOAYMGTIkOg/oDZeap5d6akcupOq4ksT+sWyJd+Ijf8uKj2bQ9Z/QG0MGTKk0tOAo4awgGPAyJEjY8Xzz8XmzZsrPZXDdlmlJ3CYhgwZEiNHjqz0NOCoISzgGDFy5EgnOKDiXLwJAKQRFgBAGmEBAKQRFgBAGmEBAKQRFgBAGmEBAKQRFgBAGmEBAKQRFgBAGmEBAKQRFgBAGmEBAKQRFgBAGmEBAKQRFgBAGmEBAKQRFgBAGmEBAKQRFgBAGmEBAKQRFgBAGmEBAKQRFgBAGmEBAKQRFgBAGmEBAKQRFgBAGmEBAKQRFgBAGmEBAKQRFgBAGmEBAKQRFgBAGmEBAKQRFgBAGmEBAKQRFgBAGmEBAKQRFgBAGmEBAKQRFgBAGmEBAKQRFgBAGmEBAKQRFgBAGmEBAKQRFgBAGmEBAKQRFgBAGmEBAKQRFgBAGmEBAKQRFgBAGmEBAKQRFgBAGmEBAKQRFgBAGmEBAKQRFgBAGmEBAKQRFgBAGmEBAKQRFgBAGmEBAKQRFgBAGmEBAKQRFgBAGmEBAKQRFgBAGmEBAKQRFgBAGmEBAKQRFgBAGmEBAKQRFgBAGmEBAKQRFgBAGmEBAKQRFgBAGmEBAKQRFgBAGmEBAKQRFgBAGmEBAKQRFgBAGmEBAKQRFgBAGmEBAKQRFgBAGmEBAKQRFgBAGmEBAKQRFgBAGmEBAKQRFgBAGmEBAKQRFgBAGmEBAKQRFgBAGmEBAKQRFgBAGmEBAKQRFgBAGmEBAKQRFgBAGmEBAKQRFgBAGmEBAKQRFgBAGmEBAKQRFgBAGmEBAKQRFgBAGmEBAKQRFgBAGmEBAKQRFgBAGmEBAKQRFgBAGmEBAKQRFgBAGmEBAKQRFgBAGmEBAKQRFgBAGmEBAKQRFgBAGmEBAKQRFgBAGmEBAKQRFgBAGmEBAKQRFgBAGmEBAKQRFgBAGmEBAKQRFgBAGmEBAKQRFgBAGmEBAKQRFgBAGmEBAKQRFgBAGmEBAKQRFgBAGmEBAKQRFgBAGmEBAKQRFgBAGmEBAKQRFgBAGmEBAKQ5odwPWBRFRERs3bq13A8NABymzvN253l8f8oeFtu2bYuIiMbGxnI/NABwhLZt2xYDBw7c7/aq4mDpkayjoyPWr18fJ598clRVVfX4423dujUaGxvjxRdfjLq6uh5/vN7G+hycNTow63Ng1ufArM+BHU3rUxRFbNu2LYYPHx7V1fu/kqLs71hUV1fHiBEjyv2wUVdXV/G/lKOZ9Tk4a3Rg1ufArM+BWZ8DO1rW50DvVHRy8SYAkEZYAABpjvmwqKmpiZtuuilqamoqPZWjkvU5OGt0YNbnwKzPgVmfA+uN61P2izcBgGPXMf+OBQBQPsICAEgjLACANMICAEjTa8Pi8ccfj/e9730xfPjwqKqqivvuu2+v7Zs2bYqPfOQjMXz48KitrY33vve9sXLlytL2tWvXRlVVVZe/7rrrrjIfTb4jXZ+IiI0bN8aHP/zhaGhoiBNPPDHOOeecuOeee8p4FD0nY31Wr14d73//+6O+vj7q6uri8ssvj02bNpXxKHrOzTffHG9961vj5JNPjqFDh8a0adNixYoVe+2zY8eOuPbaa2Pw4MFx0kknRVNT0z7Hv27durj00kujtrY2hg4dGp/97GfjlVdeKeeh9Iis9fnkJz8ZEyZMiJqamnjTm95UxiPoWRnr86c//Sk+9KEPRWNjYwwYMCDGjh0b3/rWt8p9KD0iY31eeumleO973xvDhw+PmpqaaGxsjOuuu+6o+DlcvTYstm/fHuPHj4/bbrttn21FUcS0adPiL3/5S9x///2xdOnSOP300+Nd73pXbN++PSJe/VklGzZs2OvXl7/85TjppJPi4osvLvfhpDvS9YmIuPLKK2PFihXxwAMPxLJly2L69Olx+eWXx9KlS8t5KD3iSNdn+/btMWXKlKiqqor58+fHokWLor29Pd73vvdFR0dHuQ8n3WOPPRbXXnttPPnkk/HQQw/Frl27YsqUKXs9Pz796U/Hgw8+GHfddVc89thjsX79+pg+fXpp++7du+PSSy+N9vb2eOKJJ+LHP/5x3HnnnfHFL36xEoeUKmN9On30ox+ND37wg+Wcfo/LWJ8lS5bE0KFD42c/+1k8++yzceONN8asWbPiO9/5TiUOKVXG+lRXV8fUqVPjgQceiBdeeCHuvPPOePjhh+Oaa66pxCHtrTgGRERx7733lv68YsWKIiKK5cuXl27bvXt3UV9fX3z/+9/f7zhvetObio9+9KM9OdWKONz1OfHEE4uf/OQne401aNCgA65hb3Q46/O73/2uqK6uLrZs2VLa5+WXXy6qqqqKhx56qGxzL5eWlpYiIorHHnusKIpXj7Vv377FXXfdVdrnueeeKyKiWLx4cVEURTFv3ryiurq62LhxY2mf733ve0VdXV2xc+fO8h5ADzuc9dnTTTfdVIwfP75c0y27I12fTp/4xCeKCy+8sMfnW25Z6/Otb32rGDFiRI/P92B67TsWB7Jz586IiOjfv3/pturq6qipqYnf//73Xd5nyZIl8cwzz8THPvaxssyxkrq7PpMmTYpf/epX8c9//jM6Ojril7/8ZezYsSMmT55c7imXVXfWZ+fOnVFVVbXXh9b0798/qqur9/sc6822bNkSERGDBg2KiFe/Xnbt2hXvete7SvuMGTMmRo4cGYsXL46IiMWLF8e4ceNi2LBhpX3e8573xNatW+PZZ58t4+x73uGsz/Eka322bNlSGuNYkrE+69evjzlz5sQFF1zQ8xM+iGMyLDr/AmbNmhX/+te/or29Pb7+9a/H3/72t9iwYUOX9/nhD38YY8eOjUmTJpV5tuXX3fX59a9/Hbt27YrBgwdHTU1NXH311XHvvffGqFGjKjj7nted9Tn33HPjxBNPjBtuuCFaW1tj+/bt8ZnPfCZ279693+dYb9XR0RGf+tSn4rzzzouzzz47Il69/qZfv35xyimn7LXvsGHDYuPGjaV99oyKzu2d244Vh7s+x4us9XniiSfiV7/6VVx11VU9PeWyOtL1+dCHPhS1tbVx2mmnRV1dXfzgBz8o19T365gMi759+8acOXPihRdeiEGDBkVtbW08+uijcfHFF3f5o17b2tri5z//+XHxbkVE99fnC1/4Qrz88svx8MMPx1NPPRUzZ86Myy+/PJYtW1bB2fe87qxPfX193HXXXfHggw/GSSedFAMHDoyXX345zjnnnAP+OOHe6Nprr43ly5fHL3/5y0pP5ahkfQ4sY32WL18eU6dOjZtuuimmTJmSOLvKO9L1+eY3vxlPP/103H///bF69eqYOXNm8gwPXdl/bHq5TJgwIZ555pnYsmVLtLe3R319fbztbW+Lt7zlLfvse/fdd0dra2tceeWVFZhpZRxsfVavXh3f+c53Yvny5XHWWWdFRMT48eNj4cKFcdttt8Xtt99eyen3uO48f6ZMmRKrV6+OzZs3xwknnBCnnHJKNDQ0xJlnnlnBmee67rrrorm5OR5//PEYMWJE6faGhoZob2+Pl19+ea/vqjZt2hQNDQ2lff74xz/uNV7nVe2d+/R2R7I+x4OM9fnzn/8cF110UVx11VXx+c9/vlxTL4uM9WloaIiGhoYYM2ZMDBo0KM4///z4whe+EKeeemq5DmMfx9a3Vl0YOHBg1NfXx8qVK+Opp56KqVOn7rPPD3/4w7jsssuivr6+AjOsrP2tT2tra0TEPt999+nT55j4Xw/d1Z3nz5AhQ+KUU06J+fPnR0tLS1x22WUVmGmuoijiuuuui3vvvTfmz58fZ5xxxl7bJ0yYEH379o1HHnmkdNuKFSti3bp1MXHixIiImDhxYixbtixaWlpK+zz00ENRV1cXb3jDG8pzID0kY32OZVnr8+yzz8aFF14YM2bMiK9+9atlm39P66nnT+drc+d1YhVT2WtHD9+2bduKpUuXFkuXLi0iorj11luLpUuXFn/961+LoiiKX//618Wjjz5arF69urjvvvuK008/vZg+ffo+46xcubKoqqoqfvOb35T7EHrUka5Pe3t7MWrUqOL8888v/vCHPxSrVq0qbrnllqKqqqqYO3dupQ4rTcbz54477igWL15crFq1qvjpT39aDBo0qJg5c2YlDifdxz/+8WLgwIHFggULig0bNpR+tba2lva55ppripEjRxbz588vnnrqqWLixInFxIkTS9tfeeWV4uyzzy6mTJlSPPPMM8Vvf/vbor6+vpg1a1YlDilVxvoUxauvP0uXLi2uvvrqYvTo0aXnZG//XzMZ67Ns2bKivr6+uOKKK/Yao6WlpRKHlCpjfebOnVvccccdxbJly4o1a9YUzc3NxdixY4vzzjuvEoe0l14bFo8++mgREfv8mjFjRlEU//lvN3379i1GjhxZfP7zn+/yi3XWrFlFY2NjsXv37jIfQc/KWJ8XXnihmD59ejF06NCitra2eOMb37jPfz/trTLW54YbbiiGDRtW9O3bt3j9619fzJ49u+jo6KjA0eTram0iovjRj35U2qetra34xCc+UbzmNa8pamtri/e///3Fhg0b9hpn7dq1xcUXX1wMGDCgGDJkSHH99dcXu3btKvPR5MtanwsuuKDLcdasWVPeA0qWsT433XRTl2Ocfvrp5T+gZBnrM3/+/GLixInFwIEDi/79+xevf/3rixtuuKH417/+Vf4D+i9+bDoAkOaYv8YCACgfYQEApBEWAEAaYQEApBEWAEAaYQEApBEWAEAaYQEApBEWAEAaYQEApBEWAEAaYQEApPn/Hu4G97vjaYEAAAAASUVORK5CYII=",
=======
      "image/png": "iVBORw0KGgoAAAANSUhEUgAAAhYAAAGdCAYAAABO2DpVAAAAOXRFWHRTb2Z0d2FyZQBNYXRwbG90bGliIHZlcnNpb24zLjguMSwgaHR0cHM6Ly9tYXRwbG90bGliLm9yZy/SrBM8AAAACXBIWXMAAA9hAAAPYQGoP6dpAAAa6klEQVR4nO3dfZCVdf3w8c8uwsKqiwELK7KYRtyQEiU1CWZiFqXeCbGNTTMmTc2opdNdWOOQlTVTOU1id1OW91RmD9OTik8L1aiIEmKNiA2YIhCExcOGJRC7sMhe9x/+9gSxwAKfPYeF12uGYTjXdb7ne305e673Hi7OVhVFUQQAQILqSk8AADh2CAsAII2wAADSCAsAII2wAADSCAsAII2wAADSCAsAIM0J5X7Ajo6OWL9+fZx88slRVVVV7ocHAA5DURSxbdu2GD58eFRX7/99ibKHxfr166OxsbHcDwsAJHjxxRdjxIgR+91e9rA4+eSTI+LVidXV1ZX74QGAw7B169ZobGwsncf3p+xh0fnPH3V1dcICAHqZg13G4OJNACCNsAAA0ggLACCNsAAA0ggLACCNsAAA0ggLACCNsAAA0ggLACCNsAAA0ggLACCNsAAA0ggLACCNsAAA0ggLACCNsAAA0ggLACCNsAAA0ggLACCNsAAA0ggLACCNsAAA0ggLACCNsAAA0ggLACCNsAAA0ggLACCNsAAA0ggLACCNsAAA0ggLACCNsAAA0ggLACCNsAAA0ggLACCNsAAA0ggLACCNsAAA0ggLACCNsAAA0ggLACCNsAAA0ggLACCNsAAA0ggLACCNsAAA0ggLACCNsAAA0ggLACCNsAAA0ggLACCNsAAA0ggLACCNsAAA0ggLACCNsAAA0ggLACCNsAAA0ggLACCNsAAA0ggLACCNsAAA0ggLACCNsAAA0ggLACCNsAAA0ggLACCNsAAA0ggLACCNsAAA0ggLACCNsAAA0ggLACCNsAAA0ggLACCNsAAA0ggLACCNsAAA0ggLACCNsAAA0ggLACCNsAAA0ggLACCNsAAA0ggLACCNsAAA0ggLACCNsAAA0ggLACCNsAAA0ggLACCNsAAA0ggLACCNsAAA0ggLACCNsAAA0ggLACCNsAAA0ggLACCNsAAA0ggLACCNsAAA0ggLACCNsAAA0ggLACCNsAAA0ggLACCNsAAA0ggLACCNsAAA0ggLACCNsAAA0ggLACCNsAAA0ggLACCNsAAA0ggLACCNsAAA0ggLACCNsAAA0ggLACCNsAAA0ggLACCNsAAA0ggLACCNsAAA0ggLACCNsAAA0ggLACCNsAAA0ggLACCNsAAA0ggLACCNsAAA0ggLACCNsAAA0ggLACCNsAAA0ggLACCNsAAA0ggLACCNsAAA0ggLACCNsAAA0ggLACCNsAAA0ggLACCNsAAA0ggLACCNsAAA0ggLACCNsAAA0ggLACDNCZWeAJBn3bp1sXnz5kpP47gyZMiQGDlyZKWnAUcNYQHHiHXr1sX/GjM2drS1Vnoqh6ThpKq4ekK/+H9L2mPjv4tKT+eQ9R9QGyuef05cwP8QFnCM2Lx5c+xoa43B//v66Du4sdLT6bZx/dbHl4bfHk+M/j8R7cMrPZ1DsuulF+Ol5tmxefNmYQH/Q1jAMabv4MaoaRhV6Wl0W9+qPq/+PrgxaoozKjwb4Ei5eBMASCMsAIA0wgIASCMsAIA0wgIASCMsAIA0wgIASCMsAIA0wgIASCMsAIA0wuIo19raGk8//XS0tvauHywFcLw63l+3hcVR7vnnn48JEybE888/X+mpANANx/vrtrAAANIICwAgjbAAANIICwAgjbAAANIICwAgjbAAANKcUOkJZNi9e3csXLgwNmzYEKeeemqcf/750adPn9K2BQsWxIIFCyIiYvLkyTF58uTS9iMZ+7/3W7BgQcyfPz9efPHFaGxsjHe+851x/vnnx8KFC/f7+N0dH4Debc/X+6FDh0ZExPr16+MPf/hDdHR0RETEKaecEn369Dnkc9V/j1/J88khh8Xjjz8e3/jGN2LJkiWxYcOGuPfee2PatGk9MLXumTNnTlx//fWxdu3a0m2vfe1rY/bs2RER8fGPfzxaWlpK277yla9EfX193H777TF9+vTDHnvP+86ZMyeuueaa+Mc//rHX/b/2ta9FVVVVFEXR5eNHRLfGB6B36+p8ciBf+cpXYujQofG9732vW+eD7p6vyuGQ/ylk+/btMX78+Ljtttt6Yj6HZM6cOfGBD3wgxo0bF4sXL45t27bF4sWLY9y4cdHU1BRNTU3R0tISb3/72+ORRx6JRx55JN7+9rfHP/7xj2hqaoo5c+Yc1tgf+MAHSvedM2dONDU1laLi3HPPjW9/+9sxevToiIhSVHzpS1/a5/GbmpoOOj4Avdue55Obb745qqqq4rTTTuty39ra2oiIOO2006KlpaVb54Punq/KparY89vpQ71zVdUhv2OxdevWGDhwYGzZsiXq6uoO96Fj9+7dMWrUqBg3blzcd999UV39n0batWtXDBw4MHbs2BGXXHJJPPDAA6XtHR0dMXXq1Jg/f34MHTo0Vq1atc9bRQcau6OjI6ZNmxbLly+P559/PkaPHl16R+Siiy6K+++/P4qiiFGjRsW6desiIqKmpiaGDRsWq1atiqqqqrjsssti3rx50b9//9iyZUv07du3y/FXrlwZf/rTn2LChAmxZMmSOOeccw57vTj2Pf300zFhwoRomPF/o6ZhVKWn021nVa2JuTU3xqU7vxrPFmdUejqHZOfGVbHxx5/y9cleOr8WlyxZEuPHjy+dT+65554YPXp0nHXWWfHb3/42Bg8eHFu2bIn29va45JJLoqqqKpYvXx5tbW3x0ksvxZQpU2LBggUxbNiwWLly5X7/Gb4756v93f9QdPf83ePXWOzcuTN27ty518QyLFy4MNauXRu/+MUv9lrIiIhFixZFW1tbRERccskle22vrq6Oz33uc9Hc3Bxr166NhQsXxuTJk7s9dnV1dcyaNSsmTZoU3/3ud+Ovf/1raduNN94Y1dXVsWDBgr3ejmpra9vrsS6++OKYO3dutLW1xaJFi/Z6/D3HX7hwYSk6nnvuuSNZLo4Dnc+R4pX2Cs/k+NG51r4+2VPn86GtrW2v88miRYti7dq1MXXq1Ni9e3dceeWVccstt0TEq+eqN7/5zTFp0qSYOXNm3HrrrTFq1KiYN29erFmzpstzVUT3z1f7u39P6PGwuPnmm+PLX/5y+rgbNmyIiIizzz57v9siIgYMGLDP9j3vs+e+3Rl7z9tXr17d5e1djbnn7XvOqat99xyn84KeK664ossx4b+9smVTxIg3VHoax4VXtmyKCF+fdG3t2rWlk/3ZZ58dDz74YERE6RvfM888s7TvgAEDSq/9nbfv2LGjtP1g55WDna/2d/+e0ONhMWvWrJg5c2bpz1u3bo3GxsYjHvfUU0+NiIjly5fHueee2+W2iP/8Be5p+fLlXe7bnbH3vP/rXve6fW4/99xzuxxzz3H3nFNX+3aOf+qpp5besfjZz34WY8eO7XJciHj1u6QrrrgiThg4rNJTOW50rrWvT/bU+bX42te+Nnbt2hURr76ud77ed35z+Ze//KV0n7a2ttJrf+ft/fv3L20/2HnlYOer/d2/J7jGwjUWHCNcY1F+rrGgK8f7NRa99gOy+vTpE7Nnz47m5uaYNm3aXlfCNjU1RVtbWxRFEXPnzo13vOMd8fDDD8fDDz8cF1xwQTQ3N0dra2vMnj27y4U+0NjTpk2L5ubmuOWWW6Jfv35x6623RltbW7S1tUVzc3Ocd955cdttt0W/fv2io6MjOjo6oq2tLWbMmBGPPvpoXHDBBTF37twoiiLa2tqiqalpv+P7PAuA3m3P80lTU1NcddVVMW/evGhoaIiWlpbYuXNn6VzV3NwcLS0tsWnTphg2bFjMmzcv2traDng+6O75qpznk0P+p5B///vfsWrVqtKf16xZE88880wMGjQoRo4cmTq5g5k+fXrcfffdcf3118ekSZNKt59xxhlxzz33RMSrn2OxaNGiePe7313a3p3/G3ygse++++7SfadPnx733HNP6XMsnnzyyXjyySdL+3d+jsWe15l0Pn5EHHR8AHq3Pc8nnddZ/P3vf+9y39bW1tL27n6ORXfPV+VyyGHx1FNPxYUXXlj6c+f1EzNmzIg777wzbWLdNX369Jg6dep+P21s6tSph/3Jmwcb+7/3O5xP3uzO+AD0bv99Psn+5M3unq/K4ZDDYvLkyXEEl2X0iM6/hP1tu+iii+Kiiy5KH7u7j3Ogx+/u+AD0bvt7vf/whz/co+OXW6+9xgIAOPoICwAgjbAAANIICwAgjbAAANIICwAgjbAAANIICwAgjbA4yo0ZMyaWLFkSY8aMqfRUAOiG4/11u8d/bDpHpra21k9NBOhFjvfXbe9YAABphAUAkEZYAABphAUAkEZYAABphAUAkEZYAABphAUAkEZYAABphAUAkMZHesMxZtdLL1Z6CodkV7/1EcNfnffO9t2Vns4h6W1rDeUgLOAYMWTIkOg/oDZeap5d6akcmpOq4ksT+sWyJd+Ijf8uKj2bQ9Z/QG0MGTKk0tOAo4awgGPEyJEjY8Xzz8XmzZsrPZXDclmlJ3CYhgwZEiNHjqz0NOCoISzgGDJy5EgnOaCiXLwJAKQRFgBAGmEBAKQRFgBAGmEBAKQRFgBAGmEBAKQRFgBAGmEBAKQRFgBAGmEBAKQRFgBAGmEBAKQRFgBAGmEBAKQRFgBAGmEBAKQRFgBAGmEBAKQRFgBAGmEBAKQRFgBAGmEBAKQRFgBAGmEBAKQRFgBAGmEBAKQRFgBAGmEBAKQRFgBAGmEBAKQRFgBAGmEBAKQRFgBAGmEBAKQRFgBAGmEBAKQRFgBAGmEBAKQRFgBAGmEBAKQRFgBAGmEBAKQRFgBAGmEBAKQRFgBAGmEBAKQRFgBAGmEBAKQRFgBAGmEBAKQRFgBAGmEBAKQRFgBAGmEBAKQRFgBAGmEBAKQRFgBAGmEBAKQRFgBAGmEBAKQRFgBAGmEBAKQRFgBAGmEBAKQRFgBAGmEBAKQRFgBAGmEBAKQRFgBAGmEBAKQRFgBAGmEBAKQRFgBAGmEBAKQRFgBAGmEBAKQRFgBAGmEBAKQRFgBAGmEBAKQRFgBAGmEBAKQRFgBAGmEBAKQRFgBAGmEBAKQRFgBAGmEBAKQRFgBAGmEBAKQRFgBAGmEBAKQRFgBAGmEBAKQRFgBAGmEBAKQRFgBAGmEBAKQRFgBAGmEBAKQRFgBAGmEBAKQRFgBAGmEBAKQRFgBAGmEBAKQRFgBAGmEBAKQRFgBAGmEBAKQRFgBAGmEBAKQRFgBAGmEBAKQRFgBAGmEBAKQRFgBAGmEBAKQRFgBAGmEBAKQRFgBAGmEBAKQRFgBAGmEBAKQRFgBAGmEBAKQRFgBAGmEBAKQRFgBAGmEBAKQRFgBAGmEBAKQRFgBAGmEBAKQRFgBAGmEBAKQRFgBAGmEBAKQRFgBAGmEBAKQRFgBAGmEBAKQRFgBAGmEBAKQRFgBAGmEBAKQRFgBAGmEBAKQRFgBAGmEBAKQRFgBAGmEBAKQ5odwPWBRFRERs3bq13A8NABymzvN253l8f8oeFtu2bYuIiMbGxnI/NABwhLZt2xYDBw7c7/aq4mDpkayjoyPWr18fJ598clRVVfX4423dujUaGxvjxRdfjLq6uh5/vN7G+hycNTow63Ng1ufArM+BHU3rUxRFbNu2LYYPHx7V1fu/kqLs71hUV1fHiBEjyv2wUVdXV/G/lKOZ9Tk4a3Rg1ufArM+BWZ8DO1rW50DvVHRy8SYAkEZYAABpjvmwqKmpiZtuuilqamoqPZWjkvU5OGt0YNbnwKzPgVmfA+uN61P2izcBgGPXMf+OBQBQPsICAEgjLACANMICAEjTa8Pi8ccfj/e9730xfPjwqKqqivvuu2+v7Zs2bYqPfOQjMXz48KitrY33vve9sXLlytL2tWvXRlVVVZe/7rrrrjIfTb4jXZ+IiI0bN8aHP/zhaGhoiBNPPDHOOeecuOeee8p4FD0nY31Wr14d73//+6O+vj7q6uri8ssvj02bNpXxKHrOzTffHG9961vj5JNPjqFDh8a0adNixYoVe+2zY8eOuPbaa2Pw4MFx0kknRVNT0z7Hv27durj00kujtrY2hg4dGp/97GfjlVdeKeeh9Iis9fnkJz8ZEyZMiJqamnjTm95UxiPoWRnr86c//Sk+9KEPRWNjYwwYMCDGjh0b3/rWt8p9KD0iY31eeumleO973xvDhw+PmpqaaGxsjOuuu+6o+DlcvTYstm/fHuPHj4/bbrttn21FUcS0adPiL3/5S9x///2xdOnSOP300+Nd73pXbN++PSJe/VklGzZs2OvXl7/85TjppJPi4osvLvfhpDvS9YmIuPLKK2PFihXxwAMPxLJly2L69Olx+eWXx9KlS8t5KD3iSNdn+/btMWXKlKiqqor58+fHokWLor29Pd73vvdFR0dHuQ8n3WOPPRbXXnttPPnkk/HQQw/Frl27YsqUKXs9Pz796U/Hgw8+GHfddVc89thjsX79+pg+fXpp++7du+PSSy+N9vb2eOKJJ+LHP/5x3HnnnfHFL36xEoeUKmN9On30ox+ND37wg+Wcfo/LWJ8lS5bE0KFD42c/+1k8++yzceONN8asWbPiO9/5TiUOKVXG+lRXV8fUqVPjgQceiBdeeCHuvPPOePjhh+Oaa66pxCHtrTgGRERx7733lv68YsWKIiKK5cuXl27bvXt3UV9fX3z/+9/f7zhvetObio9+9KM9OdWKONz1OfHEE4uf/OQne401aNCgA65hb3Q46/O73/2uqK6uLrZs2VLa5+WXXy6qqqqKhx56qGxzL5eWlpYiIorHHnusKIpXj7Vv377FXXfdVdrnueeeKyKiWLx4cVEURTFv3ryiurq62LhxY2mf733ve0VdXV2xc+fO8h5ADzuc9dnTTTfdVIwfP75c0y27I12fTp/4xCeKCy+8sMfnW25Z6/Otb32rGDFiRI/P92B67TsWB7Jz586IiOjfv3/pturq6qipqYnf//73Xd5nyZIl8cwzz8THPvaxssyxkrq7PpMmTYpf/epX8c9//jM6Ojril7/8ZezYsSMmT55c7imXVXfWZ+fOnVFVVbXXh9b0798/qqur9/sc6822bNkSERGDBg2KiFe/Xnbt2hXvete7SvuMGTMmRo4cGYsXL46IiMWLF8e4ceNi2LBhpX3e8573xNatW+PZZ58t4+x73uGsz/Eka322bNlSGuNYkrE+69evjzlz5sQFF1zQ8xM+iGMyLDr/AmbNmhX/+te/or29Pb7+9a/H3/72t9iwYUOX9/nhD38YY8eOjUmTJpV5tuXX3fX59a9/Hbt27YrBgwdHTU1NXH311XHvvffGqFGjKjj7nted9Tn33HPjxBNPjBtuuCFaW1tj+/bt8ZnPfCZ279693+dYb9XR0RGf+tSn4rzzzouzzz47Il69/qZfv35xyimn7LXvsGHDYuPGjaV99oyKzu2d244Vh7s+x4us9XniiSfiV7/6VVx11VU9PeWyOtL1+dCHPhS1tbVx2mmnRV1dXfzgBz8o19T365gMi759+8acOXPihRdeiEGDBkVtbW08+uijcfHFF3f5o17b2tri5z//+XHxbkVE99fnC1/4Qrz88svx8MMPx1NPPRUzZ86Myy+/PJYtW1bB2fe87qxPfX193HXXXfHggw/GSSedFAMHDoyXX345zjnnnAP+OOHe6Nprr43ly5fHL3/5y0pP5ahkfQ4sY32WL18eU6dOjZtuuimmTJmSOLvKO9L1+eY3vxlPP/103H///bF69eqYOXNm8gwPXdl/bHq5TJgwIZ555pnYsmVLtLe3R319fbztbW+Lt7zlLfvse/fdd0dra2tceeWVFZhpZRxsfVavXh3f+c53Yvny5XHWWWdFRMT48eNj4cKFcdttt8Xtt99eyen3uO48f6ZMmRKrV6+OzZs3xwknnBCnnHJKNDQ0xJlnnlnBmee67rrrorm5OR5//PEYMWJE6faGhoZob2+Pl19+ea/vqjZt2hQNDQ2lff74xz/uNV7nVe2d+/R2R7I+x4OM9fnzn/8cF110UVx11VXx+c9/vlxTL4uM9WloaIiGhoYYM2ZMDBo0KM4///z4whe+EKeeemq5DmMfx9a3Vl0YOHBg1NfXx8qVK+Opp56KqVOn7rPPD3/4w7jsssuivr6+AjOsrP2tT2tra0TEPt999+nT55j4Xw/d1Z3nz5AhQ+KUU06J+fPnR0tLS1x22WUVmGmuoijiuuuui3vvvTfmz58fZ5xxxl7bJ0yYEH379o1HHnmkdNuKFSti3bp1MXHixIiImDhxYixbtixaWlpK+zz00ENRV1cXb3jDG8pzID0kY32OZVnr8+yzz8aFF14YM2bMiK9+9atlm39P66nnT+drc+d1YhVT2WtHD9+2bduKpUuXFkuXLi0iorj11luLpUuXFn/961+LoiiKX//618Wjjz5arF69urjvvvuK008/vZg+ffo+46xcubKoqqoqfvOb35T7EHrUka5Pe3t7MWrUqOL8888v/vCHPxSrVq0qbrnllqKqqqqYO3dupQ4rTcbz54477igWL15crFq1qvjpT39aDBo0qJg5c2YlDifdxz/+8WLgwIHFggULig0bNpR+tba2lva55ppripEjRxbz588vnnrqqWLixInFxIkTS9tfeeWV4uyzzy6mTJlSPPPMM8Vvf/vbor6+vpg1a1YlDilVxvoUxauvP0uXLi2uvvrqYvTo0aXnZG//XzMZ67Ns2bKivr6+uOKKK/Yao6WlpRKHlCpjfebOnVvccccdxbJly4o1a9YUzc3NxdixY4vzzjuvEoe0l14bFo8++mgREfv8mjFjRlEU//lvN3379i1GjhxZfP7zn+/yi3XWrFlFY2NjsXv37jIfQc/KWJ8XXnihmD59ejF06NCitra2eOMb37jPfz/trTLW54YbbiiGDRtW9O3bt3j9619fzJ49u+jo6KjA0eTram0iovjRj35U2qetra34xCc+UbzmNa8pamtri/e///3Fhg0b9hpn7dq1xcUXX1wMGDCgGDJkSHH99dcXu3btKvPR5MtanwsuuKDLcdasWVPeA0qWsT433XRTl2Ocfvrp5T+gZBnrM3/+/GLixInFwIEDi/79+xevf/3rixtuuKH417/+Vf4D+i9+bDoAkOaYv8YCACgfYQEApBEWAEAaYQEApBEWAEAaYQEApBEWAEAaYQEApBEWAEAaYQEApBEWAEAaYQEApPn/UhcG9+94f8wAAAAASUVORK5CYII=",
>>>>>>> 28dd123a72d21f09c142884442fae56538445726
      "text/plain": [
       "<Figure size 640x480 with 1 Axes>"
      ]
     },
     "metadata": {},
     "output_type": "display_data"
    }
   ],
   "source": [
    "# Cholesterol_Level\n",
    "cholesterol_level_data = data[\"Cholesterol_Level\"]\n",
    "plt.boxplot(cholesterol_level_data, vert=False, patch_artist=True) \n",
    "plt.show()"
   ]
  },
  {
   "cell_type": "markdown",
   "metadata": {},
   "source": [
    "Disini terlihat bahwa kolom Cholesterol level juga memiliki outliers sehingga perlu diteliti lebih lanjut. Namun, berdasarkan artikel pada https://www.healthline.com/health/high-cholesterol/levels-by-age#:~:text=Recommended%20total%20cholesterol%20levels%20are%20under%20200%20milligrams,of%20the%20cholesterol%20that%20it%20needs%20to%20function, level normal kolesterol adalah < 200 sehingga semua outlier diatas masih bisa dibilang data yang wajar."
   ]
  },
  {
   "cell_type": "code",
<<<<<<< HEAD
   "execution_count": 367,
=======
   "execution_count": 138,
>>>>>>> 28dd123a72d21f09c142884442fae56538445726
   "metadata": {},
   "outputs": [
    {
     "data": {
      "image/png": "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",
      "text/plain": [
       "<Figure size 640x480 with 1 Axes>"
      ]
     },
     "metadata": {},
     "output_type": "display_data"
    }
   ],
   "source": [
    "# Weight\n",
    "weight_data = data[\"Weight\"]\n",
    "plt.boxplot(weight_data, vert=False, patch_artist=True) \n",
    "plt.show()"
   ]
  },
  {
   "cell_type": "markdown",
   "metadata": {},
   "source": [
    "Disini terlihat bahwa kolom Weight juga memiliki outliers sehingga perlu diteliti lebih lanjut."
   ]
  },
  {
   "cell_type": "code",
<<<<<<< HEAD
   "execution_count": 368,
=======
   "execution_count": 139,
>>>>>>> 28dd123a72d21f09c142884442fae56538445726
   "metadata": {},
   "outputs": [
    {
     "data": {
<<<<<<< HEAD
      "text/plain": [
       "236     109.609562\n",
       "305     103.488182\n",
       "397      43.210014\n",
       "506     102.708167\n",
       "711     100.333305\n",
       "747      40.210278\n",
       "779      42.428906\n",
       "818      42.271182\n",
       "887      97.577311\n",
       "986      43.381050\n",
       "1036     32.581758\n",
       "1053     97.444777\n",
       "1481     38.022481\n",
       "1555     38.666547\n",
       "1595     97.456489\n",
       "1626     97.474679\n",
       "1649    100.976404\n",
       "1904     41.274350\n",
       "1948     97.861295\n",
       "1991     42.931331\n",
       "Name: Weight, dtype: float64"
      ]
     },
     "execution_count": 368,
     "metadata": {},
     "output_type": "execute_result"
    }
   ],
   "source": [
    "outliers_weight = weight_data[(weight_data < Q1[\"Weight\"] - 1.5 * IQR[\"Weight\"]) | (weight_data > Q3[\"Weight\"] + 1.5 * IQR[\"Weight\"])]\n",
    "outliers_weight"
   ]
  },
  {
   "cell_type": "markdown",
   "metadata": {},
   "source": [
    "Karena berat badan pada bagian outlier masih merupakan berat badan yang mungkin bagi manusia, maka outliers tersebut tidak perlu ditangani lebih lanjut."
   ]
  },
  {
   "cell_type": "code",
   "execution_count": 369,
   "metadata": {},
   "outputs": [
    {
     "data": {
      "image/png": "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",
=======
      "image/png": "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",
>>>>>>> 28dd123a72d21f09c142884442fae56538445726
      "text/plain": [
       "<Figure size 640x480 with 1 Axes>"
      ]
     },
     "metadata": {},
     "output_type": "display_data"
    }
   ],
   "source": [
    "# Height\n",
    "height_data = data[\"Height\"]\n",
    "plt.boxplot(height_data, vert=False, patch_artist=True) \n",
    "plt.show()"
   ]
  },
  {
   "cell_type": "markdown",
   "metadata": {},
   "source": [
    "Disini terlihat bahwa kolom Height juga memiliki outliers sehingga perlu diteliti lebih lanjut. Namun, outliers pada data tersebut masih terbilang wajar untuk menyatakan tinggi manuasia sehingga tidak diperlukan penanganan lebih lanjut."
   ]
  },
  {
   "cell_type": "markdown",
   "metadata": {},
   "source": [
    "## 1. Blood Pressure"
   ]
  },
  {
   "cell_type": "code",
<<<<<<< HEAD
   "execution_count": 389,
=======
   "execution_count": 140,
>>>>>>> 28dd123a72d21f09c142884442fae56538445726
   "metadata": {},
   "outputs": [
    {
     "data": {
<<<<<<< HEAD
      "image/png": "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",
=======
      "image/png": "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",
>>>>>>> 28dd123a72d21f09c142884442fae56538445726
      "text/plain": [
       "<Figure size 640x480 with 1 Axes>"
      ]
     },
     "metadata": {},
     "output_type": "display_data"
    }
   ],
   "source": [
    "plt.hist(data[\"Blood_Pressure\"], bins=100, rwidth=0.5)\n",
    "plt.show()"
   ]
  },
  {
   "cell_type": "markdown",
   "metadata": {},
   "source": [
    "### Data is normally distributed"
   ]
  },
  {
<<<<<<< HEAD
   "cell_type": "markdown",
   "metadata": {},
=======
   "cell_type": "code",
   "execution_count": 141,
   "metadata": {},
   "outputs": [
    {
     "data": {
      "text/plain": [
       "43       90.027285\n",
       "117      85.650116\n",
       "192      91.953005\n",
       "230     150.635116\n",
       "249     148.131915\n",
       "316       0.000000\n",
       "323     148.158032\n",
       "417      92.692620\n",
       "526     149.568502\n",
       "617      10.780000\n",
       "715     149.463928\n",
       "924      88.578819\n",
       "1123    147.048143\n",
       "1223     88.665138\n",
       "1230    152.643476\n",
       "1421     92.479926\n",
       "1507     92.114951\n",
       "1551      0.000000\n",
       "1643     44.450000\n",
       "1696    154.427656\n",
       "1807     92.561036\n",
       "1920    200.950000\n",
       "Name: Blood_Pressure, dtype: float64"
      ]
     },
     "execution_count": 141,
     "metadata": {},
     "output_type": "execute_result"
    }
   ],
>>>>>>> 28dd123a72d21f09c142884442fae56538445726
   "source": [
    "## 2. Gender "
   ]
  },
  {
   "cell_type": "code",
<<<<<<< HEAD
   "execution_count": 390,
=======
   "execution_count": 142,
>>>>>>> 28dd123a72d21f09c142884442fae56538445726
   "metadata": {},
   "outputs": [
    {
     "data": {
<<<<<<< HEAD
      "image/png": "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",
=======
      "text/plain": [
       "(array([  2.,   0.,   0.,   0.,   0.,   1.,   0.,   0.,   0.,   0.,   0.,\n",
       "          0.,   0.,   0.,   0.,   0.,   0.,   0.,   0.,   0.,   0.,   0.,\n",
       "          1.,   0.,   0.,   0.,   0.,   0.,   0.,   0.,   0.,   0.,   0.,\n",
       "          0.,   0.,   0.,   0.,   0.,   0.,   0.,   0.,   0.,   1.,   0.,\n",
       "          3.,   2.,   6.,   7.,  13.,  19.,  29.,  51.,  48.,  91.,  79.,\n",
       "        112., 132., 146., 136., 184., 144., 157., 134., 123.,  97.,  91.,\n",
       "         50.,  46.,  43.,  23.,   8.,   8.,   3.,   4.,   3.,   1.,   1.,\n",
       "          0.,   0.,   0.,   0.,   0.,   0.,   0.,   0.,   0.,   0.,   0.,\n",
       "          0.,   0.,   0.,   0.,   0.,   0.,   0.,   0.,   0.,   0.,   0.,\n",
       "          1.]),\n",
       " array([  0.    ,   2.0095,   4.019 ,   6.0285,   8.038 ,  10.0475,\n",
       "         12.057 ,  14.0665,  16.076 ,  18.0855,  20.095 ,  22.1045,\n",
       "         24.114 ,  26.1235,  28.133 ,  30.1425,  32.152 ,  34.1615,\n",
       "         36.171 ,  38.1805,  40.19  ,  42.1995,  44.209 ,  46.2185,\n",
       "         48.228 ,  50.2375,  52.247 ,  54.2565,  56.266 ,  58.2755,\n",
       "         60.285 ,  62.2945,  64.304 ,  66.3135,  68.323 ,  70.3325,\n",
       "         72.342 ,  74.3515,  76.361 ,  78.3705,  80.38  ,  82.3895,\n",
       "         84.399 ,  86.4085,  88.418 ,  90.4275,  92.437 ,  94.4465,\n",
       "         96.456 ,  98.4655, 100.475 , 102.4845, 104.494 , 106.5035,\n",
       "        108.513 , 110.5225, 112.532 , 114.5415, 116.551 , 118.5605,\n",
       "        120.57  , 122.5795, 124.589 , 126.5985, 128.608 , 130.6175,\n",
       "        132.627 , 134.6365, 136.646 , 138.6555, 140.665 , 142.6745,\n",
       "        144.684 , 146.6935, 148.703 , 150.7125, 152.722 , 154.7315,\n",
       "        156.741 , 158.7505, 160.76  , 162.7695, 164.779 , 166.7885,\n",
       "        168.798 , 170.8075, 172.817 , 174.8265, 176.836 , 178.8455,\n",
       "        180.855 , 182.8645, 184.874 , 186.8835, 188.893 , 190.9025,\n",
       "        192.912 , 194.9215, 196.931 , 198.9405, 200.95  ]),\n",
       " <BarContainer object of 100 artists>)"
      ]
     },
     "execution_count": 142,
     "metadata": {},
     "output_type": "execute_result"
    },
    {
     "data": {
      "image/png": "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",
      "text/plain": [
       "<Figure size 640x480 with 1 Axes>"
      ]
     },
     "metadata": {},
     "output_type": "display_data"
    }
   ],
   "source": [
    "plt.hist(blood_pressure_data, bins=100, rwidth=0.5)"
   ]
  },
  {
   "cell_type": "code",
   "execution_count": 143,
   "metadata": {},
   "outputs": [
    {
     "data": {
      "image/png": "iVBORw0KGgoAAAANSUhEUgAAAjAAAAGdCAYAAAAMm0nCAAAAOXRFWHRTb2Z0d2FyZQBNYXRwbG90bGliIHZlcnNpb24zLjguMSwgaHR0cHM6Ly9tYXRwbG90bGliLm9yZy/SrBM8AAAACXBIWXMAAA9hAAAPYQGoP6dpAAAgf0lEQVR4nO3df1DUdeLH8dcCCoruoiS7MqFyZaemlainq36bSkZMcrSsjosrNE+7DryUK5NJKbMyzVPTI1Gn1O4075rrx2VFclhaSaSUnqlReprc2YIdwYYFKHy+fzR+pvVXZbvBm56Pmc+M+/m8P599f5r5xNOPn10clmVZAgAAMEhYc08AAADg+yJgAACAcQgYAABgHAIGAAAYh4ABAADGIWAAAIBxCBgAAGAcAgYAABgnorknECpNTU06cuSIOnbsKIfD0dzTAQAA34FlWfriiy8UHx+vsLCz32dptQFz5MgRJSQkNPc0AADAeSgvL9eFF1541u2tNmA6duwo6ev/AE6ns5lnAwAAvgu/36+EhAT75/jZtNqAOfnPRk6nk4ABAMAw3/b4Bw/xAgAA4xAwAADAOAQMAAAwDgEDAACMQ8AAAADjEDAAAMA4BAwAADAOAQMAAIxDwAAAAOMQMAAAwDgEDAAAMA4BAwAAjEPAAAAA4xAwAADAOBHfd4etW7fqscceU2lpqT799FM9//zzGjdunL3dsizdf//9WrVqlaqrqzVs2DAtX75cPXv2tMdUVVVp6tSpeumllxQWFqbx48fr8ccfV4cOHewx//rXv5SZmant27erS5cumjp1qmbMmPHDzhYATtFj5svNPQXASIceTW3W9//ed2COHTumyy+/XHl5eWfcvmDBAi1dulT5+fkqKSlRdHS0UlJSVFdXZ49JT0/Xnj17VFhYqI0bN2rr1q2aMmWKvd3v92vkyJHq3r27SktL9dhjj+mBBx7QypUrz+MUAQBAa+OwLMs6750djoA7MJZlKT4+Xn/4wx909913S5Jqamrkdru1Zs0apaWlad++ferTp4+2b9+ugQMHSpIKCgo0evRo/ec//1F8fLyWL1+u++67Tz6fT23btpUkzZw5Uy+88II+/PDD7zQ3v98vl8ulmpoaOZ3O8z1FAK0cd2CA8xOqOzDf9ed3UJ+BOXjwoHw+n5KTk+11LpdLgwcPVnFxsSSpuLhYMTExdrxIUnJyssLCwlRSUmKPufLKK+14kaSUlBSVlZXp888/P+N719fXy+/3BywAAKB1CmrA+Hw+SZLb7Q5Y73a77W0+n09xcXEB2yMiItS5c+eAMWc6xjff41Tz5s2Ty+Wyl4SEhB9+QgAAoEVqNZ9CysnJUU1Njb2Ul5c395QAAECIBDVgPB6PJKmioiJgfUVFhb3N4/GosrIyYPuJEydUVVUVMOZMx/jme5wqMjJSTqczYAEAAK1TUAMmMTFRHo9HRUVF9jq/36+SkhJ5vV5JktfrVXV1tUpLS+0xmzdvVlNTkwYPHmyP2bp1q44fP26PKSws1M9//nN16tQpmFMGAAAG+t7fA1NbW6v9+/fbrw8ePKidO3eqc+fO6tatm6ZNm6aHHnpIPXv2VGJiombPnq34+Hj7k0q9e/fWqFGjNHnyZOXn5+v48ePKyspSWlqa4uPjJUm33HKL5syZo0mTJunee+/VBx98oMcff1yLFy8Ozln/QHxqATh/zf3dEQBah+8dMDt27NDVV19tv87OzpYkZWRkaM2aNZoxY4aOHTumKVOmqLq6WsOHD1dBQYGioqLsfdatW6esrCyNGDHC/iK7pUuX2ttdLpc2bdqkzMxMDRgwQBdccIFyc3MDvisGAAD8dP2g74FpyUL5PTDcgQHOX0u7A8P1DJyfVvU9MAAAAD8GAgYAABiHgAEAAMYhYAAAgHEIGAAAYBwCBgAAGIeAAQAAxiFgAACAcQgYAABgHAIGAAAYh4ABAADGIWAAAIBxCBgAAGAcAgYAABiHgAEAAMYhYAAAgHEIGAAAYBwCBgAAGIeAAQAAxiFgAACAcQgYAABgHAIGAAAYh4ABAADGIWAAAIBxCBgAAGAcAgYAABiHgAEAAMYhYAAAgHEIGAAAYBwCBgAAGIeAAQAAxiFgAACAcQgYAABgHAIGAAAYh4ABAADGIWAAAIBxCBgAAGAcAgYAABiHgAEAAMYhYAAAgHEIGAAAYBwCBgAAGIeAAQAAxiFgAACAcQgYAABgHAIGAAAYh4ABAADGIWAAAIBxCBgAAGAcAgYAABiHgAEAAMYhYAAAgHEIGAAAYBwCBgAAGIeAAQAAxiFgAACAcQgYAABgHAIGAAAYh4ABAADGCXrANDY2avbs2UpMTFS7du100UUXae7cubIsyx5jWZZyc3PVtWtXtWvXTsnJyfr4448DjlNVVaX09HQ5nU7FxMRo0qRJqq2tDfZ0AQCAgYIeMPPnz9fy5cv1pz/9Sfv27dP8+fO1YMECLVu2zB6zYMECLV26VPn5+SopKVF0dLRSUlJUV1dnj0lPT9eePXtUWFiojRs3auvWrZoyZUqwpwsAAAwUEewDbtu2TWPHjlVqaqokqUePHnrmmWf07rvvSvr67suSJUs0a9YsjR07VpL09NNPy+1264UXXlBaWpr27dungoICbd++XQMHDpQkLVu2TKNHj9bChQsVHx8f7GkDAACDBP0OzNChQ1VUVKSPPvpIkrRr1y699dZbuvbaayVJBw8elM/nU3Jysr2Py+XS4MGDVVxcLEkqLi5WTEyMHS+SlJycrLCwMJWUlJzxfevr6+X3+wMWAADQOgX9DszMmTPl9/vVq1cvhYeHq7GxUQ8//LDS09MlST6fT5LkdrsD9nO73fY2n8+nuLi4wIlGRKhz5872mFPNmzdPc+bMCfbpAACAFijod2D+9re/ad26dVq/fr3ee+89rV27VgsXLtTatWuD/VYBcnJyVFNTYy/l5eUhfT8AANB8gn4H5p577tHMmTOVlpYmSerXr58++eQTzZs3TxkZGfJ4PJKkiooKde3a1d6voqJCV1xxhSTJ4/GosrIy4LgnTpxQVVWVvf+pIiMjFRkZGezTAQAALVDQ78B8+eWXCgsLPGx4eLiampokSYmJifJ4PCoqKrK3+/1+lZSUyOv1SpK8Xq+qq6tVWlpqj9m8ebOampo0ePDgYE8ZAAAYJuh3YMaMGaOHH35Y3bp106WXXqr3339fixYt0u233y5JcjgcmjZtmh566CH17NlTiYmJmj17tuLj4zVu3DhJUu/evTVq1ChNnjxZ+fn5On78uLKyspSWlsYnkAAAQPADZtmyZZo9e7Z+97vfqbKyUvHx8brjjjuUm5trj5kxY4aOHTumKVOmqLq6WsOHD1dBQYGioqLsMevWrVNWVpZGjBihsLAwjR8/XkuXLg32dAEAgIEc1je/IrcV8fv9crlcqqmpkdPpDOqxe8x8OajHA35KDj2a2txTCMD1DJyfUF3L3/XnN78LCQAAGIeAAQAAxiFgAACAcQgYAABgHAIGAAAYh4ABAADGIWAAAIBxCBgAAGAcAgYAABiHgAEAAMYhYAAAgHEIGAAAYBwCBgAAGIeAAQAAxiFgAACAcQgYAABgHAIGAAAYh4ABAADGIWAAAIBxCBgAAGAcAgYAABiHgAEAAMYhYAAAgHEIGAAAYBwCBgAAGIeAAQAAxiFgAACAcQgYAABgHAIGAAAYh4ABAADGIWAAAIBxCBgAAGAcAgYAABiHgAEAAMYhYAAAgHEIGAAAYBwCBgAAGIeAAQAAxiFgAACAcQgYAABgHAIGAAAYh4ABAADGIWAAAIBxCBgAAGAcAgYAABiHgAEAAMYhYAAAgHEIGAAAYBwCBgAAGIeAAQAAxiFgAACAcQgYAABgHAIGAAAYh4ABAADGIWAAAIBxCBgAAGAcAgYAABiHgAEAAMYJScD897//1a9//WvFxsaqXbt26tevn3bs2GFvtyxLubm56tq1q9q1a6fk5GR9/PHHAceoqqpSenq6nE6nYmJiNGnSJNXW1oZiugAAwDBBD5jPP/9cw4YNU5s2bfTqq69q7969+uMf/6hOnTrZYxYsWKClS5cqPz9fJSUlio6OVkpKiurq6uwx6enp2rNnjwoLC7Vx40Zt3bpVU6ZMCfZ0AQCAgSKCfcD58+crISFBq1evttclJibaf7YsS0uWLNGsWbM0duxYSdLTTz8tt9utF154QWlpadq3b58KCgq0fft2DRw4UJK0bNkyjR49WgsXLlR8fHywpw0AAAwS9Dsw//jHPzRw4EDddNNNiouLU//+/bVq1Sp7+8GDB+Xz+ZScnGyvc7lcGjx4sIqLiyVJxcXFiomJseNFkpKTkxUWFqaSkpIzvm99fb38fn/AAgAAWqegB8y///1vLV++XD179tRrr72mO++8U7///e+1du1aSZLP55Mkud3ugP3cbre9zefzKS4uLmB7RESEOnfubI851bx58+RyuewlISEh2KcGAABaiKAHTFNTk5KSkvTII4+of//+mjJliiZPnqz8/Pxgv1WAnJwc1dTU2Et5eXlI3w8AADSfoAdM165d1adPn4B1vXv31uHDhyVJHo9HklRRUREwpqKiwt7m8XhUWVkZsP3EiROqqqqyx5wqMjJSTqczYAEAAK1T0ANm2LBhKisrC1j30UcfqXv37pK+fqDX4/GoqKjI3u73+1VSUiKv1ytJ8nq9qq6uVmlpqT1m8+bNampq0uDBg4M9ZQAAYJigfwpp+vTpGjp0qB555BHdfPPNevfdd7Vy5UqtXLlSkuRwODRt2jQ99NBD6tmzpxITEzV79mzFx8dr3Lhxkr6+YzNq1Cj7n56OHz+urKwspaWl8QkkAAAQ/IAZNGiQnn/+eeXk5OjBBx9UYmKilixZovT0dHvMjBkzdOzYMU2ZMkXV1dUaPny4CgoKFBUVZY9Zt26dsrKyNGLECIWFhWn8+PFaunRpsKcLAAAM5LAsy2ruSYSC3++Xy+VSTU1N0J+H6THz5aAeD/gpOfRoanNPIQDXM3B+QnUtf9ef3/wuJAAAYBwCBgAAGIeAAQAAxiFgAACAcQgYAABgHAIGAAAYh4ABAADGIWAAAIBxCBgAAGAcAgYAABiHgAEAAMYhYAAAgHEIGAAAYBwCBgAAGIeAAQAAxiFgAACAcQgYAABgHAIGAAAYh4ABAADGIWAAAIBxCBgAAGAcAgYAABiHgAEAAMYhYAAAgHEIGAAAYBwCBgAAGIeAAQAAxiFgAACAcQgYAABgHAIGAAAYh4ABAADGIWAAAIBxCBgAAGAcAgYAABiHgAEAAMYhYAAAgHEIGAAAYBwCBgAAGIeAAQAAxiFgAACAcQgYAABgHAIGAAAYh4ABAADGIWAAAIBxCBgAAGAcAgYAABiHgAEAAMYhYAAAgHEIGAAAYBwCBgAAGIeAAQAAxiFgAACAcQgYAABgHAIGAAAYh4ABAADGIWAAAIBxCBgAAGAcAgYAABiHgAEAAMYJecA8+uijcjgcmjZtmr2urq5OmZmZio2NVYcOHTR+/HhVVFQE7Hf48GGlpqaqffv2iouL0z333KMTJ06EeroAAMAAIQ2Y7du3a8WKFbrssssC1k+fPl0vvfSSnn32WW3ZskVHjhzRDTfcYG9vbGxUamqqGhoatG3bNq1du1Zr1qxRbm5uKKcLAAAMEbKAqa2tVXp6ulatWqVOnTrZ62tqavTkk09q0aJFuuaaazRgwACtXr1a27Zt0zvvvCNJ2rRpk/bu3au//OUvuuKKK3Tttddq7ty5ysvLU0NDQ6imDAAADBGygMnMzFRqaqqSk5MD1peWlur48eMB63v16qVu3bqpuLhYklRcXKx+/frJ7XbbY1JSUuT3+7Vnz54zvl99fb38fn/AAgAAWqeIUBx0w4YNeu+997R9+/bTtvl8PrVt21YxMTEB691ut3w+nz3mm/FycvvJbWcyb948zZkzJwizBwAALV3Q78CUl5frrrvu0rp16xQVFRXsw59VTk6Oampq7KW8vPxHe28AAPDjCnrAlJaWqrKyUklJSYqIiFBERIS2bNmipUuXKiIiQm63Ww0NDaqurg7Yr6KiQh6PR5Lk8XhO+1TSydcnx5wqMjJSTqczYAEAAK1T0ANmxIgR2r17t3bu3GkvAwcOVHp6uv3nNm3aqKioyN6nrKxMhw8fltfrlSR5vV7t3r1blZWV9pjCwkI5nU716dMn2FMGAACGCfozMB07dlTfvn0D1kVHRys2NtZeP2nSJGVnZ6tz585yOp2aOnWqvF6vhgwZIkkaOXKk+vTpo1tvvVULFiyQz+fTrFmzlJmZqcjIyGBPGQAAGCYkD/F+m8WLFyssLEzjx49XfX29UlJS9MQTT9jbw8PDtXHjRt15553yer2Kjo5WRkaGHnzwweaYLgAAaGF+lIB54403Al5HRUUpLy9PeXl5Z92ne/fueuWVV0I8MwAAYCJ+FxIAADAOAQMAAIxDwAAAAOMQMAAAwDgEDAAAMA4BAwAAjEPAAAAA4xAwAADAOAQMAAAwDgEDAACMQ8AAAADjEDAAAMA4BAwAADAOAQMAAIxDwAAAAOMQMAAAwDgEDAAAMA4BAwAAjEPAAAAA4xAwAADAOAQMAAAwDgEDAACMQ8AAAADjEDAAAMA4BAwAADAOAQMAAIxDwAAAAOMQMAAAwDgEDAAAMA4BAwAAjEPAAAAA4xAwAADAOAQMAAAwDgEDAACMQ8AAAADjEDAAAMA4BAwAADAOAQMAAIxDwAAAAOMQMAAAwDgEDAAAMA4BAwAAjEPAAAAA4xAwAADAOAQMAAAwDgEDAACMQ8AAAADjEDAAAMA4BAwAADAOAQMAAIxDwAAAAOMQMAAAwDgEDAAAMA4BAwAAjEPAAAAA4xAwAADAOAQMAAAwDgEDAACME/SAmTdvngYNGqSOHTsqLi5O48aNU1lZWcCYuro6ZWZmKjY2Vh06dND48eNVUVERMObw4cNKTU1V+/btFRcXp3vuuUcnTpwI9nQBAICBgh4wW7ZsUWZmpt555x0VFhbq+PHjGjlypI4dO2aPmT59ul566SU9++yz2rJli44cOaIbbrjB3t7Y2KjU1FQ1NDRo27ZtWrt2rdasWaPc3NxgTxcAABjIYVmWFco3OHr0qOLi4rRlyxZdeeWVqqmpUZcuXbR+/XrdeOONkqQPP/xQvXv3VnFxsYYMGaJXX31V1113nY4cOSK32y1Jys/P17333qujR4+qbdu23/q+fr9fLpdLNTU1cjqdQT2nHjNfDurxgJ+SQ4+mNvcUAnA9A+cnVNfyd/35HfJnYGpqaiRJnTt3liSVlpbq+PHjSk5Otsf06tVL3bp1U3FxsSSpuLhY/fr1s+NFklJSUuT3+7Vnz55QTxkAALRwEaE8eFNTk6ZNm6Zhw4apb9++kiSfz6e2bdsqJiYmYKzb7ZbP57PHfDNeTm4/ue1M6uvrVV9fb7/2+/3BOg0AANDChPQOTGZmpj744ANt2LAhlG8j6euHh10ul70kJCSE/D0BAEDzCFnAZGVlaePGjXr99dd14YUX2us9Ho8aGhpUXV0dML6iokIej8cec+qnkk6+PjnmVDk5OaqpqbGX8vLyIJ4NAABoSYIeMJZlKSsrS88//7w2b96sxMTEgO0DBgxQmzZtVFRUZK8rKyvT4cOH5fV6JUler1e7d+9WZWWlPaawsFBOp1N9+vQ54/tGRkbK6XQGLAAAoHUK+jMwmZmZWr9+vV588UV17NjRfmbF5XKpXbt2crlcmjRpkrKzs9W5c2c5nU5NnTpVXq9XQ4YMkSSNHDlSffr00a233qoFCxbI5/Np1qxZyszMVGRkZLCnDAAADBP0gFm+fLkk6aqrrgpYv3r1ak2YMEGStHjxYoWFhWn8+PGqr69XSkqKnnjiCXtseHi4Nm7cqDvvvFNer1fR0dHKyMjQgw8+GOzpAgAAAwU9YL7L18pERUUpLy9PeXl5Zx3TvXt3vfLKK8GcGgAAaCX4XUgAAMA4BAwAADAOAQMAAIxDwAAAAOMQMAAAwDgEDAAAMA4BAwAAjEPAAAAA4xAwAADAOAQMAAAwDgEDAACMQ8AAAADjEDAAAMA4BAwAADAOAQMAAIxDwAAAAOMQMAAAwDgEDAAAMA4BAwAAjEPAAAAA4xAwAADAOAQMAAAwDgEDAACMQ8AAAADjEDAAAMA4BAwAADAOAQMAAIxDwAAAAOMQMAAAwDgEDAAAMA4BAwAAjEPAAAAA4xAwAADAOAQMAAAwDgEDAACMQ8AAAADjEDAAAMA4BAwAADAOAQMAAIxDwAAAAOMQMAAAwDgEDAAAMA4BAwAAjEPAAAAA4xAwAADAOAQMAAAwDgEDAACMQ8AAAADjEDAAAMA4BAwAADAOAQMAAIxDwAAAAOMQMAAAwDgEDAAAMA4BAwAAjEPAAAAA4xAwAADAOAQMAAAwDgEDAACM06IDJi8vTz169FBUVJQGDx6sd999t7mnBAAAWoAWGzB//etflZ2drfvvv1/vvfeeLr/8cqWkpKiysrK5pwYAAJpZiw2YRYsWafLkyZo4caL69Omj/Px8tW/fXk899VRzTw0AADSziOaewJk0NDSotLRUOTk59rqwsDAlJyeruLj4jPvU19ervr7efl1TUyNJ8vv9QZ9fU/2XQT8m8FMRimvyh+B6Bs5PqK7lk8e1LOuc41pkwHz22WdqbGyU2+0OWO92u/Xhhx+ecZ958+Zpzpw5p61PSEgIyRwBnB/XkuaeAYBgCPW1/MUXX8jlcp11e4sMmPORk5Oj7Oxs+3VTU5OqqqoUGxsrh8PRjDPDj8nv9yshIUHl5eVyOp3NPR0APwDX80+TZVn64osvFB8ff85xLTJgLrjgAoWHh6uioiJgfUVFhTwezxn3iYyMVGRkZMC6mJiYUE0RLZzT6eR/eEArwfX803OuOy8ntciHeNu2basBAwaoqKjIXtfU1KSioiJ5vd5mnBkAAGgJWuQdGEnKzs5WRkaGBg4cqF/84hdasmSJjh07pokTJzb31AAAQDNrsQHzy1/+UkePHlVubq58Pp+uuOIKFRQUnPZgL/BNkZGRuv/++0/750QA5uF6xrk4rG/7nBIAAEAL0yKfgQEAADgXAgYAABiHgAEAAMYhYNDqHTp0SA6HQzt37mzuqQD4EfTo0UNLlixp7mkgxAgYtEgTJkyQw+HQb3/729O2ZWZmyuFwaMKECT/+xAAEOHmtnrrs37+/uaeGVo6AQYuVkJCgDRs26KuvvrLX1dXVaf369erWrVszzgzAN40aNUqffvppwJKYmNjc00IrR8CgxUpKSlJCQoKee+45e91zzz2nbt26qX///va6goICDR8+XDExMYqNjdV1112nAwcOnPPYH3zwga699lp16NBBbrdbt956qz777LOQnQvQmkVGRsrj8QQs4eHhevHFF5WUlKSoqCj97Gc/05w5c3TixAl7P4fDoRUrVui6665T+/bt1bt3bxUXF2v//v266qqrFB0draFDhwZczwcOHNDYsWPldrvVoUMHDRo0SP/85z/POb/q6mr95je/UZcuXeR0OnXNNddo165dIfvvgR8HAYMW7fbbb9fq1avt10899dRp38Z87NgxZWdna8eOHSoqKlJYWJiuv/56NTU1nfGY1dXVuuaaa9S/f3/t2LFDBQUFqqio0M033xzScwF+St58803ddtttuuuuu7R3716tWLFCa9as0cMPPxwwbu7cubrtttu0c+dO9erVS7fccovuuOMO5eTkaMeOHbIsS1lZWfb42tpajR49WkVFRXr//fc1atQojRkzRocPHz7rXG666SZVVlbq1VdfVWlpqZKSkjRixAhVVVWF7PzxI7CAFigjI8MaO3asVVlZaUVGRlqHDh2yDh06ZEVFRVlHjx61xo4da2VkZJxx36NHj1qSrN27d1uWZVkHDx60JFnvv/++ZVmWNXfuXGvkyJEB+5SXl1uSrLKyslCeFtDqZGRkWOHh4VZ0dLS93HjjjdaIESOsRx55JGDsn//8Z6tr1672a0nWrFmz7NfFxcWWJOvJJ5+01z3zzDNWVFTUOedw6aWXWsuWLbNfd+/e3Vq8eLFlWZb15ptvWk6n06qrqwvY56KLLrJWrFjxvc8XLUeL/VUCgCR16dJFqampWrNmjSzLUmpqqi644IKAMR9//LFyc3NVUlKizz77zL7zcvjwYfXt2/e0Y+7atUuvv/66OnTocNq2AwcO6JJLLgnNyQCt1NVXX63ly5fbr6Ojo3XZZZfp7bffDrjj0tjYqLq6On355Zdq3769JOmyyy6zt5/8VTH9+vULWFdXVye/3y+n06na2lo98MADevnll/Xpp5/qxIkT+uqrr856B2bXrl2qra1VbGxswPqvvvrqW/+pGS0bAYMW7/bbb7dvIefl5Z22fcyYMerevbtWrVql+Ph4NTU1qW/fvmpoaDjj8WprazVmzBjNnz//tG1du3YN7uSBn4Do6GhdfPHFAetqa2s1Z84c3XDDDaeNj4qKsv/cpk0b+88Oh+Os607+xeTuu+9WYWGhFi5cqIsvvljt2rXTjTfeeM7rvWvXrnrjjTdO2xYTE/PdThAtEgGDFm/UqFFqaGiQw+FQSkpKwLb//e9/Kisr06pVq/R///d/kqS33nrrnMdLSkrS3//+d/Xo0UMREVwCQCgkJSWprKzstLD5od5++21NmDBB119/vaSvA+XQoUPnnIfP51NERIR69OgR1LmgefEQL1q88PBw7du3T3v37lV4eHjAtk6dOik2NlYrV67U/v37tXnzZmVnZ5/zeJmZmaqqqtKvfvUrbd++XQcOHNBrr72miRMnqrGxMZSnAvxk5Obm6umnn9acOXO0Z88e7du3Txs2bNCsWbN+0HF79uyp5557Tjt37tSuXbt0yy23nPWBfUlKTk6W1+vVuHHjtGnTJh06dEjbtm3Tfffdpx07dvyguaB5ETAwgtPplNPpPG19WFiYNmzYoNLSUvXt21fTp0/XY489ds5jxcfH6+2331ZjY6NGjhypfv36adq0aYqJiVFYGJcEEAwpKSnauHGjNm3apEGDBmnIkCFavHixunfv/oOOu2jRInXq1ElDhw7VmDFjlJKSoqSkpLOOdzgceuWVV3TllVdq4sSJuuSSS5SWlqZPPvnEfuYGZnJYlmU19yQAAAC+D/66CQAAjEPAAAAA4xAwAADAOAQMAAAwDgEDAACMQ8AAAADjEDAAAMA4BAwAADAOAQMAAIxDwAAAAOMQMAAAwDgEDAAAMM7/A6mSxJQ/DeL9AAAAAElFTkSuQmCC",
>>>>>>> 28dd123a72d21f09c142884442fae56538445726
      "text/plain": [
       "<Figure size 640x480 with 1 Axes>"
      ]
     },
     "metadata": {},
     "output_type": "display_data"
    }
   ],
   "source": [
    "# Gender distribution\n",
    "gender_data = data['Gender']\n",
    "counts, bins, patches = plt.hist(gender_data, bins=2, rwidth=0.85)\n",
    "\n",
    "# Menentukan label untuk setiap bin\n",
    "bin_centers = 0.5 * np.diff(bins) + bins[:-1] # titik tengah bin\n",
    "labels = ['Male', 'Female'] # label untuk setiap bin\n",
    "\n",
    "plt.xticks(bin_centers, labels)  # menetapkan label pada titik tengah bin\n",
    "plt.show()"
   ]
  },
  {
   "cell_type": "markdown",
   "metadata": {},
   "source": [
    "## 3. Education "
   ]
  },
  {
   "cell_type": "code",
<<<<<<< HEAD
   "execution_count": 391,
=======
   "execution_count": 144,
>>>>>>> 28dd123a72d21f09c142884442fae56538445726
   "metadata": {},
   "outputs": [
    {
     "data": {
<<<<<<< HEAD
      "image/png": "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",
=======
      "image/png": "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",
>>>>>>> 28dd123a72d21f09c142884442fae56538445726
      "text/plain": [
       "<Figure size 640x480 with 1 Axes>"
      ]
     },
     "metadata": {},
     "output_type": "display_data"
    }
   ],
   "source": [
    "# Education distribution\n",
    "education_data = data['Education']\n",
    "counts, bins, patches = plt.hist(education_data, bins=4, rwidth=0.4)\n",
    "\n",
    "# Menentukan label untuk setiap bin\n",
    "bin_centers = 0.5 * np.diff(bins) + bins[:-1]  # titik tengah bin\n",
    "labels = ['Master\\'s Degree', 'High School', 'PhD', 'Other']  # label untuk setiap bin\n",
    "\n",
    "plt.xticks(bin_centers, labels)  # menetapkan label pada titik tengah bin\n",
    "\n",
    "plt.show()"
   ]
  },
  {
   "cell_type": "markdown",
   "metadata": {},
   "source": [
    "## 4. Age"
   ]
  },
  {
   "cell_type": "code",
<<<<<<< HEAD
   "execution_count": 399,
=======
   "execution_count": 145,
>>>>>>> 28dd123a72d21f09c142884442fae56538445726
   "metadata": {},
   "outputs": [
    {
     "data": {
<<<<<<< HEAD
      "image/png": "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",
=======
      "text/plain": [
       "(array([121.,  88.,  85., 100., 100., 111., 113., 100.,  96.,  97.,  81.,\n",
       "        103., 108.,  93., 104.,  99., 113.,  96.,  99.,  93.]),\n",
       " array([20.  , 21.95, 23.9 , 25.85, 27.8 , 29.75, 31.7 , 33.65, 35.6 ,\n",
       "        37.55, 39.5 , 41.45, 43.4 , 45.35, 47.3 , 49.25, 51.2 , 53.15,\n",
       "        55.1 , 57.05, 59.  ]),\n",
       " <BarContainer object of 20 artists>)"
      ]
     },
     "execution_count": 145,
     "metadata": {},
     "output_type": "execute_result"
    },
    {
     "data": {
      "image/png": "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",
>>>>>>> 28dd123a72d21f09c142884442fae56538445726
      "text/plain": [
       "<Figure size 640x480 with 1 Axes>"
      ]
     },
     "metadata": {},
     "output_type": "display_data"
    }
   ],
   "source": [
    "# Age distribution\n",
    "plt.hist(data[\"Age\"], bins=20, rwidth=0.5)\n",
    "plt.show()"
   ]
  },
  {
   "cell_type": "markdown",
   "metadata": {},
   "source": [
    "## 5. Income"
   ]
  },
  {
   "cell_type": "code",
<<<<<<< HEAD
   "execution_count": 397,
=======
   "execution_count": 146,
>>>>>>> 28dd123a72d21f09c142884442fae56538445726
   "metadata": {},
   "outputs": [
    {
     "data": {
<<<<<<< HEAD
      "image/png": "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",
=======
      "text/plain": [
       "(array([ 37.,  34.,  68.,  78., 153., 164., 214., 248., 253., 207., 171.,\n",
       "        157.,  92.,  54.,  38.,  18.,   9.,   3.,   0.,   2.]),\n",
       " array([       0.    ,   611374.6115,  1222749.223 ,  1834123.8345,\n",
       "         2445498.446 ,  3056873.0575,  3668247.669 ,  4279622.2805,\n",
       "         4890996.892 ,  5502371.5035,  6113746.115 ,  6725120.7265,\n",
       "         7336495.338 ,  7947869.9495,  8559244.561 ,  9170619.1725,\n",
       "         9781993.784 , 10393368.3955, 11004743.007 , 11616117.6185,\n",
       "        12227492.23  ]),\n",
       " <BarContainer object of 20 artists>)"
      ]
     },
     "execution_count": 146,
     "metadata": {},
     "output_type": "execute_result"
    },
    {
     "data": {
      "image/png": "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",
>>>>>>> 28dd123a72d21f09c142884442fae56538445726
      "text/plain": [
       "<Figure size 640x480 with 1 Axes>"
      ]
     },
     "metadata": {},
     "output_type": "display_data"
    }
   ],
   "source": [
    "# Income distribution\n",
    "plt.hist(data[\"Income\"], bins=20, rwidth=0.5)\n",
    "plt.show()"
   ]
  },
  {
   "cell_type": "markdown",
   "metadata": {},
   "source": [
    "## 6. Stress Level"
   ]
  },
  {
   "cell_type": "code",
<<<<<<< HEAD
   "execution_count": 401,
=======
   "execution_count": 147,
>>>>>>> 28dd123a72d21f09c142884442fae56538445726
   "metadata": {},
   "outputs": [
    {
     "data": {
<<<<<<< HEAD
      "image/png": "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",
=======
      "text/plain": [
       "(array([  6.,  10.,  19.,  39.,  86., 111., 178., 208., 249., 253., 244.,\n",
       "        211., 159., 104.,  68.,  33.,   9.,  10.,   2.,   1.]),\n",
       " array([2.52805661, 2.83072014, 3.13338366, 3.43604719, 3.73871072,\n",
       "        4.04137425, 4.34403778, 4.6467013 , 4.94936483, 5.25202836,\n",
       "        5.55469189, 5.85735542, 6.16001894, 6.46268247, 6.765346  ,\n",
       "        7.06800953, 7.37067306, 7.67333659, 7.97600011, 8.27866364,\n",
       "        8.58132717]),\n",
       " <BarContainer object of 20 artists>)"
      ]
     },
     "execution_count": 147,
     "metadata": {},
     "output_type": "execute_result"
    },
    {
     "data": {
      "image/png": "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",
>>>>>>> 28dd123a72d21f09c142884442fae56538445726
      "text/plain": [
       "<Figure size 640x480 with 1 Axes>"
      ]
     },
     "metadata": {},
     "output_type": "display_data"
    }
   ],
   "source": [
    "# Stress level distribution\n",
    "plt.hist(data[\"Stress_Level\"], bins=20, rwidth=0.5)\n",
    "plt.show()  "
   ]
  },
  {
<<<<<<< HEAD
   "cell_type": "markdown",
   "metadata": {},
=======
   "cell_type": "code",
   "execution_count": 148,
   "metadata": {},
   "outputs": [
    {
     "data": {
      "text/plain": [
       "(array([ 75.,  73.,  87., 118., 154., 183., 219., 224., 202., 181., 157.,\n",
       "        125.,  82.,  44.,  27.,  27.,  10.,   8.,   1.,   3.]),\n",
       " array([ 0.        ,  1.34081792,  2.68163585,  4.02245377,  5.36327169,\n",
       "         6.70408962,  8.04490754,  9.38572546, 10.72654339, 12.06736131,\n",
       "        13.40817923, 14.74899716, 16.08981508, 17.430633  , 18.77145093,\n",
       "        20.11226885, 21.45308677, 22.7939047 , 24.13472262, 25.47554054,\n",
       "        26.81635847]),\n",
       " <BarContainer object of 20 artists>)"
      ]
     },
     "execution_count": 148,
     "metadata": {},
     "output_type": "execute_result"
    },
    {
     "data": {
      "image/png": "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",
      "text/plain": [
       "<Figure size 640x480 with 1 Axes>"
      ]
     },
     "metadata": {},
     "output_type": "display_data"
    }
   ],
>>>>>>> 28dd123a72d21f09c142884442fae56538445726
   "source": [
    "## 7. Exercise Hours per Week"
   ]
  },
  {
   "cell_type": "code",
<<<<<<< HEAD
   "execution_count": 403,
=======
   "execution_count": 149,
>>>>>>> 28dd123a72d21f09c142884442fae56538445726
   "metadata": {},
   "outputs": [
    {
     "data": {
      "text/plain": [
       "(array([  3.,   6.,   6.,  25.,  37.,  58., 108., 170., 177., 243., 252.,\n",
       "        249., 219., 161., 104.,  79.,  39.,  29.,   7.,   6.]),\n",
       " array([196.91494771, 197.22731707, 197.53968644, 197.8520558 ,\n",
       "        198.16442517, 198.47679453, 198.78916389, 199.10153326,\n",
       "        199.41390262, 199.72627199, 200.03864135, 200.35101072,\n",
       "        200.66338008, 200.97574945, 201.28811881, 201.60048818,\n",
       "        201.91285754, 202.2252269 , 202.53759627, 202.84996563,\n",
       "        203.162335  ]),\n",
       " <BarContainer object of 20 artists>)"
      ]
     },
<<<<<<< HEAD
     "execution_count": 403,
=======
     "execution_count": 149,
>>>>>>> 28dd123a72d21f09c142884442fae56538445726
     "metadata": {},
     "output_type": "execute_result"
    },
    {
     "data": {
<<<<<<< HEAD
      "image/png": "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",
=======
      "image/png": "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",
>>>>>>> 28dd123a72d21f09c142884442fae56538445726
      "text/plain": [
       "<Figure size 640x480 with 1 Axes>"
      ]
     },
     "metadata": {},
     "output_type": "display_data"
    }
   ],
   "source": [
    "# Cholesterol level distribution\n",
    "plt.hist(cholesterol_level_data, bins=20, rwidth=0.5)"
   ]
  },
  {
   "cell_type": "markdown",
   "metadata": {},
   "source": [
    "## 8. Weight"
   ]
  },
  {
   "cell_type": "code",
<<<<<<< HEAD
   "execution_count": 405,
=======
   "execution_count": 150,
>>>>>>> 28dd123a72d21f09c142884442fae56538445726
   "metadata": {},
   "outputs": [
    {
     "data": {
<<<<<<< HEAD
      "image/png": "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",
=======
      "text/plain": [
       "(array([  1.,   3.,  11.,  18.,  44.,  78., 145., 185., 261., 292., 332.,\n",
       "        228., 196., 105.,  53.,  30.,  13.,   2.,   2.,   1.]),\n",
       " array([ 32.58175761,  36.43314783,  40.28453805,  44.13592828,\n",
       "         47.9873185 ,  51.83870872,  55.69009894,  59.54148916,\n",
       "         63.39287938,  67.2442696 ,  71.09565982,  74.94705004,\n",
       "         78.79844026,  82.64983048,  86.50122071,  90.35261093,\n",
       "         94.20400115,  98.05539137, 101.90678159, 105.75817181,\n",
       "        109.60956203]),\n",
       " <BarContainer object of 20 artists>)"
      ]
     },
     "execution_count": 150,
     "metadata": {},
     "output_type": "execute_result"
    },
    {
     "data": {
      "image/png": "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",
>>>>>>> 28dd123a72d21f09c142884442fae56538445726
      "text/plain": [
       "<Figure size 640x480 with 1 Axes>"
      ]
     },
     "metadata": {},
     "output_type": "display_data"
    }
   ],
   "source": [
    "# Weight distribution\n",
    "plt.hist(weight_data, bins=20, rwidth=0.5)\n",
    "plt.show()"
   ]
  },
  {
   "cell_type": "markdown",
   "metadata": {},
   "source": [
    "## 9. Height"
   ]
  },
  {
   "cell_type": "code",
<<<<<<< HEAD
   "execution_count": 407,
=======
   "execution_count": 151,
>>>>>>> 28dd123a72d21f09c142884442fae56538445726
   "metadata": {},
   "outputs": [
    {
     "data": {
<<<<<<< HEAD
      "image/png": "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",
=======
      "text/plain": [
       "(array([ 11.,  41.,  88., 187., 251., 295., 277., 248., 192., 146., 113.,\n",
       "         50.,  45.,  24.,  13.,   9.,   6.,   1.,   1.,   2.]),\n",
       " array([149.12459377, 149.36188753, 149.59918129, 149.83647505,\n",
       "        150.07376881, 150.31106257, 150.54835633, 150.78565008,\n",
       "        151.02294384, 151.2602376 , 151.49753136, 151.73482512,\n",
       "        151.97211888, 152.20941264, 152.4467064 , 152.68400015,\n",
       "        152.92129391, 153.15858767, 153.39588143, 153.63317519,\n",
       "        153.87046895]),\n",
       " <BarContainer object of 20 artists>)"
      ]
     },
     "execution_count": 151,
     "metadata": {},
     "output_type": "execute_result"
    },
    {
     "data": {
      "image/png": "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",
>>>>>>> 28dd123a72d21f09c142884442fae56538445726
      "text/plain": [
       "<Figure size 640x480 with 1 Axes>"
      ]
     },
     "metadata": {},
     "output_type": "display_data"
    }
   ],
   "source": [
    "# Height distribution\n",
<<<<<<< HEAD
    "plt.hist(height_data, bins=20, rwidth=0.5)\n",
    "plt.show()"
=======
    "plt.hist(height_data, bins=20, rwidth=0.5)"
   ]
  },
  {
   "cell_type": "code",
   "execution_count": 152,
   "metadata": {},
   "outputs": [
    {
     "data": {
      "text/plain": [
       "(array([  2.,   1.,   0.,   0.,   1.,   0.,   0.,   0.,   4.,  47., 298.,\n",
       "        710., 655., 253.,  26.,   2.,   0.,   0.,   0.,   1.]),\n",
       " array([  0.    ,  10.0475,  20.095 ,  30.1425,  40.19  ,  50.2375,\n",
       "         60.285 ,  70.3325,  80.38  ,  90.4275, 100.475 , 110.5225,\n",
       "        120.57  , 130.6175, 140.665 , 150.7125, 160.76  , 170.8075,\n",
       "        180.855 , 190.9025, 200.95  ]),\n",
       " <BarContainer object of 20 artists>)"
      ]
     },
     "execution_count": 152,
     "metadata": {},
     "output_type": "execute_result"
    },
    {
     "data": {
      "image/png": "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",
      "text/plain": [
       "<Figure size 640x480 with 1 Axes>"
      ]
     },
     "metadata": {},
     "output_type": "display_data"
    }
   ],
   "source": [
    "# Blood pressure distribution\n",
    "plt.hist(blood_pressure_data, bins=20, rwidth=0.8)"
>>>>>>> 28dd123a72d21f09c142884442fae56538445726
   ]
  }
 ],
 "metadata": {
  "kernelspec": {
   "display_name": "Python 3",
   "language": "python",
   "name": "python3"
  },
  "language_info": {
   "codemirror_mode": {
    "name": "ipython",
    "version": 3
   },
   "file_extension": ".py",
   "mimetype": "text/x-python",
   "name": "python",
   "nbconvert_exporter": "python",
   "pygments_lexer": "ipython3",
   "version": "3.12.2"
  }
 },
 "nbformat": 4,
 "nbformat_minor": 2
}
