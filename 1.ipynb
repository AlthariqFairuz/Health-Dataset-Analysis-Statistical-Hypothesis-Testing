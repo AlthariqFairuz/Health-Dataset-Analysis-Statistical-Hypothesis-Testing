{
 "cells": [
  {
   "cell_type": "code",
   "execution_count": 123,
   "metadata": {},
   "outputs": [],
   "source": [
    "import pandas as pd\n",
    "import numpy as np\n",
    "import matplotlib.pyplot as plt"
   ]
  },
  {
   "cell_type": "code",
   "execution_count": 124,
   "metadata": {},
   "outputs": [
    {
     "data": {
      "text/html": [
       "<div>\n",
       "<style scoped>\n",
       "    .dataframe tbody tr th:only-of-type {\n",
       "        vertical-align: middle;\n",
       "    }\n",
       "\n",
       "    .dataframe tbody tr th {\n",
       "        vertical-align: top;\n",
       "    }\n",
       "\n",
       "    .dataframe thead th {\n",
       "        text-align: right;\n",
       "    }\n",
       "</style>\n",
       "<table border=\"1\" class=\"dataframe\">\n",
       "  <thead>\n",
       "    <tr style=\"text-align: right;\">\n",
       "      <th></th>\n",
       "      <th>Unnamed: 0</th>\n",
       "      <th>Age</th>\n",
       "      <th>Income</th>\n",
       "      <th>Gender</th>\n",
       "      <th>Education</th>\n",
       "      <th>Stress_Level</th>\n",
       "      <th>Exercise_Hours_Per_Week</th>\n",
       "      <th>Cholesterol_Level</th>\n",
       "      <th>Weight</th>\n",
       "      <th>Height</th>\n",
       "      <th>Blood_Pressure</th>\n",
       "      <th>Health_Status</th>\n",
       "    </tr>\n",
       "  </thead>\n",
       "  <tbody>\n",
       "    <tr>\n",
       "      <th>0</th>\n",
       "      <td>0</td>\n",
       "      <td>50</td>\n",
       "      <td>3.093457e+06</td>\n",
       "      <td>Male</td>\n",
       "      <td>Bachelor's Degree</td>\n",
       "      <td>4.967887</td>\n",
       "      <td>16.632494</td>\n",
       "      <td>200.419036</td>\n",
       "      <td>70.917032</td>\n",
       "      <td>150.401537</td>\n",
       "      <td>125.568820</td>\n",
       "      <td>Excellent</td>\n",
       "    </tr>\n",
       "    <tr>\n",
       "      <th>1</th>\n",
       "      <td>1</td>\n",
       "      <td>44</td>\n",
       "      <td>5.545445e+06</td>\n",
       "      <td>Male</td>\n",
       "      <td>Bachelor's Degree</td>\n",
       "      <td>5.833649</td>\n",
       "      <td>13.255988</td>\n",
       "      <td>201.010046</td>\n",
       "      <td>70.669576</td>\n",
       "      <td>149.285349</td>\n",
       "      <td>125.603505</td>\n",
       "      <td>Fair</td>\n",
       "    </tr>\n",
       "    <tr>\n",
       "      <th>2</th>\n",
       "      <td>2</td>\n",
       "      <td>25</td>\n",
       "      <td>4.401808e+06</td>\n",
       "      <td>Male</td>\n",
       "      <td>Master's Degree</td>\n",
       "      <td>5.587946</td>\n",
       "      <td>11.144370</td>\n",
       "      <td>200.105258</td>\n",
       "      <td>67.464506</td>\n",
       "      <td>150.020695</td>\n",
       "      <td>127.093163</td>\n",
       "      <td>Excellent</td>\n",
       "    </tr>\n",
       "    <tr>\n",
       "      <th>3</th>\n",
       "      <td>3</td>\n",
       "      <td>41</td>\n",
       "      <td>4.606865e+06</td>\n",
       "      <td>Female</td>\n",
       "      <td>High School</td>\n",
       "      <td>6.271119</td>\n",
       "      <td>9.140268</td>\n",
       "      <td>199.648701</td>\n",
       "      <td>67.566598</td>\n",
       "      <td>150.360963</td>\n",
       "      <td>117.388100</td>\n",
       "      <td>Poor</td>\n",
       "    </tr>\n",
       "    <tr>\n",
       "      <th>4</th>\n",
       "      <td>4</td>\n",
       "      <td>24</td>\n",
       "      <td>6.956049e+06</td>\n",
       "      <td>Male</td>\n",
       "      <td>Bachelor's Degree</td>\n",
       "      <td>5.895226</td>\n",
       "      <td>9.775610</td>\n",
       "      <td>199.330152</td>\n",
       "      <td>79.601530</td>\n",
       "      <td>149.730525</td>\n",
       "      <td>114.163706</td>\n",
       "      <td>Fair</td>\n",
       "    </tr>\n",
       "  </tbody>\n",
       "</table>\n",
       "</div>"
      ],
      "text/plain": [
       "   Unnamed: 0  Age        Income  Gender          Education  Stress_Level  \\\n",
       "0           0   50  3.093457e+06    Male  Bachelor's Degree      4.967887   \n",
       "1           1   44  5.545445e+06    Male  Bachelor's Degree      5.833649   \n",
       "2           2   25  4.401808e+06    Male    Master's Degree      5.587946   \n",
       "3           3   41  4.606865e+06  Female        High School      6.271119   \n",
       "4           4   24  6.956049e+06    Male  Bachelor's Degree      5.895226   \n",
       "\n",
       "   Exercise_Hours_Per_Week  Cholesterol_Level     Weight      Height  \\\n",
       "0                16.632494         200.419036  70.917032  150.401537   \n",
       "1                13.255988         201.010046  70.669576  149.285349   \n",
       "2                11.144370         200.105258  67.464506  150.020695   \n",
       "3                 9.140268         199.648701  67.566598  150.360963   \n",
       "4                 9.775610         199.330152  79.601530  149.730525   \n",
       "\n",
       "   Blood_Pressure Health_Status  \n",
       "0      125.568820     Excellent  \n",
       "1      125.603505          Fair  \n",
       "2      127.093163     Excellent  \n",
       "3      117.388100          Poor  \n",
       "4      114.163706          Fair  "
      ]
     },
     "execution_count": 124,
     "metadata": {},
     "output_type": "execute_result"
    }
   ],
   "source": [
    "# Read data\n",
    "data = pd.read_csv(\"health.csv\")\n",
    "data.head()"
   ]
  },
  {
   "cell_type": "code",
   "execution_count": 125,
   "metadata": {},
   "outputs": [
    {
     "name": "stdout",
     "output_type": "stream",
     "text": [
      "<class 'pandas.core.frame.DataFrame'>\n",
      "RangeIndex: 2000 entries, 0 to 1999\n",
      "Data columns (total 12 columns):\n",
      " #   Column                   Non-Null Count  Dtype  \n",
      "---  ------                   --------------  -----  \n",
      " 0   Unnamed: 0               2000 non-null   int64  \n",
      " 1   Age                      2000 non-null   int64  \n",
      " 2   Income                   2000 non-null   float64\n",
      " 3   Gender                   2000 non-null   object \n",
      " 4   Education                2000 non-null   object \n",
      " 5   Stress_Level             2000 non-null   float64\n",
      " 6   Exercise_Hours_Per_Week  2000 non-null   float64\n",
      " 7   Cholesterol_Level        2000 non-null   float64\n",
      " 8   Weight                   2000 non-null   float64\n",
      " 9   Height                   2000 non-null   float64\n",
      " 10  Blood_Pressure           2000 non-null   float64\n",
      " 11  Health_Status            2000 non-null   object \n",
      "dtypes: float64(7), int64(2), object(3)\n",
      "memory usage: 187.6+ KB\n"
     ]
    }
   ],
   "source": [
    "# Data information\n",
    "data.info()"
   ]
  },
  {
   "cell_type": "code",
   "execution_count": 126,
   "metadata": {},
   "outputs": [
    {
     "data": {
      "text/html": [
       "<div>\n",
       "<style scoped>\n",
       "    .dataframe tbody tr th:only-of-type {\n",
       "        vertical-align: middle;\n",
       "    }\n",
       "\n",
       "    .dataframe tbody tr th {\n",
       "        vertical-align: top;\n",
       "    }\n",
       "\n",
       "    .dataframe thead th {\n",
       "        text-align: right;\n",
       "    }\n",
       "</style>\n",
       "<table border=\"1\" class=\"dataframe\">\n",
       "  <thead>\n",
       "    <tr style=\"text-align: right;\">\n",
       "      <th></th>\n",
       "      <th>Unnamed: 0</th>\n",
       "      <th>Age</th>\n",
       "      <th>Income</th>\n",
       "      <th>Stress_Level</th>\n",
       "      <th>Exercise_Hours_Per_Week</th>\n",
       "      <th>Cholesterol_Level</th>\n",
       "      <th>Weight</th>\n",
       "      <th>Height</th>\n",
       "      <th>Blood_Pressure</th>\n",
       "    </tr>\n",
       "  </thead>\n",
       "  <tbody>\n",
       "    <tr>\n",
       "      <th>count</th>\n",
       "      <td>2000.000000</td>\n",
       "      <td>2000.000000</td>\n",
       "      <td>2.000000e+03</td>\n",
       "      <td>2000.000000</td>\n",
       "      <td>2000.000000</td>\n",
       "      <td>2000.000000</td>\n",
       "      <td>2000.000000</td>\n",
       "      <td>2000.000000</td>\n",
       "      <td>2000.000000</td>\n",
       "    </tr>\n",
       "    <tr>\n",
       "      <th>mean</th>\n",
       "      <td>999.500000</td>\n",
       "      <td>39.417500</td>\n",
       "      <td>4.889928e+06</td>\n",
       "      <td>5.356912</td>\n",
       "      <td>9.951842</td>\n",
       "      <td>200.223191</td>\n",
       "      <td>70.234359</td>\n",
       "      <td>150.730565</td>\n",
       "      <td>119.682437</td>\n",
       "    </tr>\n",
       "    <tr>\n",
       "      <th>std</th>\n",
       "      <td>577.494589</td>\n",
       "      <td>11.560753</td>\n",
       "      <td>2.010795e+06</td>\n",
       "      <td>0.917069</td>\n",
       "      <td>4.909573</td>\n",
       "      <td>0.972594</td>\n",
       "      <td>10.174343</td>\n",
       "      <td>0.680443</td>\n",
       "      <td>11.201412</td>\n",
       "    </tr>\n",
       "    <tr>\n",
       "      <th>min</th>\n",
       "      <td>0.000000</td>\n",
       "      <td>20.000000</td>\n",
       "      <td>-1.088987e+06</td>\n",
       "      <td>2.528057</td>\n",
       "      <td>-4.499310</td>\n",
       "      <td>196.914948</td>\n",
       "      <td>32.581758</td>\n",
       "      <td>149.124594</td>\n",
       "      <td>0.000000</td>\n",
       "    </tr>\n",
       "    <tr>\n",
       "      <th>25%</th>\n",
       "      <td>499.750000</td>\n",
       "      <td>30.000000</td>\n",
       "      <td>3.580714e+06</td>\n",
       "      <td>4.737650</td>\n",
       "      <td>6.654951</td>\n",
       "      <td>199.581975</td>\n",
       "      <td>63.654894</td>\n",
       "      <td>150.240019</td>\n",
       "      <td>113.048602</td>\n",
       "    </tr>\n",
       "    <tr>\n",
       "      <th>50%</th>\n",
       "      <td>999.500000</td>\n",
       "      <td>39.000000</td>\n",
       "      <td>4.898901e+06</td>\n",
       "      <td>5.351795</td>\n",
       "      <td>9.927028</td>\n",
       "      <td>200.221522</td>\n",
       "      <td>70.392125</td>\n",
       "      <td>150.663619</td>\n",
       "      <td>119.937396</td>\n",
       "    </tr>\n",
       "    <tr>\n",
       "      <th>75%</th>\n",
       "      <td>1499.250000</td>\n",
       "      <td>49.250000</td>\n",
       "      <td>6.271595e+06</td>\n",
       "      <td>6.003014</td>\n",
       "      <td>13.232218</td>\n",
       "      <td>200.873647</td>\n",
       "      <td>76.894512</td>\n",
       "      <td>151.140489</td>\n",
       "      <td>126.608781</td>\n",
       "    </tr>\n",
       "    <tr>\n",
       "      <th>max</th>\n",
       "      <td>1999.000000</td>\n",
       "      <td>59.000000</td>\n",
       "      <td>1.222749e+07</td>\n",
       "      <td>8.581327</td>\n",
       "      <td>26.816358</td>\n",
       "      <td>203.162335</td>\n",
       "      <td>109.609562</td>\n",
       "      <td>153.870469</td>\n",
       "      <td>200.950000</td>\n",
       "    </tr>\n",
       "  </tbody>\n",
       "</table>\n",
       "</div>"
      ],
      "text/plain": [
       "        Unnamed: 0          Age        Income  Stress_Level  \\\n",
       "count  2000.000000  2000.000000  2.000000e+03   2000.000000   \n",
       "mean    999.500000    39.417500  4.889928e+06      5.356912   \n",
       "std     577.494589    11.560753  2.010795e+06      0.917069   \n",
       "min       0.000000    20.000000 -1.088987e+06      2.528057   \n",
       "25%     499.750000    30.000000  3.580714e+06      4.737650   \n",
       "50%     999.500000    39.000000  4.898901e+06      5.351795   \n",
       "75%    1499.250000    49.250000  6.271595e+06      6.003014   \n",
       "max    1999.000000    59.000000  1.222749e+07      8.581327   \n",
       "\n",
       "       Exercise_Hours_Per_Week  Cholesterol_Level       Weight       Height  \\\n",
       "count              2000.000000        2000.000000  2000.000000  2000.000000   \n",
       "mean                  9.951842         200.223191    70.234359   150.730565   \n",
       "std                   4.909573           0.972594    10.174343     0.680443   \n",
       "min                  -4.499310         196.914948    32.581758   149.124594   \n",
       "25%                   6.654951         199.581975    63.654894   150.240019   \n",
       "50%                   9.927028         200.221522    70.392125   150.663619   \n",
       "75%                  13.232218         200.873647    76.894512   151.140489   \n",
       "max                  26.816358         203.162335   109.609562   153.870469   \n",
       "\n",
       "       Blood_Pressure  \n",
       "count     2000.000000  \n",
       "mean       119.682437  \n",
       "std         11.201412  \n",
       "min          0.000000  \n",
       "25%        113.048602  \n",
       "50%        119.937396  \n",
       "75%        126.608781  \n",
       "max        200.950000  "
      ]
     },
     "execution_count": 126,
     "metadata": {},
     "output_type": "execute_result"
    }
   ],
   "source": [
    "# Data description\n",
    "data.describe()"
   ]
  },
  {
   "cell_type": "code",
   "execution_count": 127,
   "metadata": {},
   "outputs": [],
   "source": [
    "numeric_data = data.select_dtypes(include=[int, float]) "
   ]
  },
  {
   "cell_type": "code",
   "execution_count": 128,
   "metadata": {},
   "outputs": [
    {
     "data": {
      "text/plain": [
       "Unnamed: 0                                 0\n",
       "Age                                     53.0\n",
       "Income                       -1088986.526405\n",
       "Gender                                Female\n",
       "Education                  Bachelor's Degree\n",
       "Stress_Level                        2.528057\n",
       "Exercise_Hours_Per_Week             -4.49931\n",
       "Cholesterol_Level                 196.914948\n",
       "Weight                             32.581758\n",
       "Height                            149.124594\n",
       "Blood_Pressure                           0.0\n",
       "Health_Status                           Fair\n",
       "Name: 0, dtype: object"
      ]
     },
     "execution_count": 128,
     "metadata": {},
     "output_type": "execute_result"
    }
   ],
   "source": [
    "# Additional data information (mode). only return the first value of the mode\n",
    "modus = data.mode().loc[0]\n",
    "modus"
   ]
  },
  {
   "cell_type": "code",
   "execution_count": 129,
   "metadata": {},
   "outputs": [
    {
     "data": {
      "text/plain": [
       "Unnamed: 0                 3.335000e+05\n",
       "Age                        1.336510e+02\n",
       "Income                     4.043297e+12\n",
       "Stress_Level               8.410157e-01\n",
       "Exercise_Hours_Per_Week    2.410391e+01\n",
       "Cholesterol_Level          9.459387e-01\n",
       "Weight                     1.035173e+02\n",
       "Height                     4.630029e-01\n",
       "Blood_Pressure             1.254716e+02\n",
       "dtype: float64"
      ]
     },
     "execution_count": 129,
     "metadata": {},
     "output_type": "execute_result"
    }
   ],
   "source": [
    "# Additional data description (Variance)\n",
    "numeric_data.var()"
   ]
  },
  {
   "cell_type": "code",
   "execution_count": 130,
   "metadata": {},
   "outputs": [
    {
     "name": "stdout",
     "output_type": "stream",
     "text": [
      "Unnamed: 0                 1.999000e+03\n",
      "Age                        3.900000e+01\n",
      "Income                     1.331648e+07\n",
      "Stress_Level               6.053271e+00\n",
      "Exercise_Hours_Per_Week    3.131567e+01\n",
      "Cholesterol_Level          6.247387e+00\n",
      "Weight                     7.702780e+01\n",
      "Height                     4.745875e+00\n",
      "Blood_Pressure             2.009500e+02\n",
      "dtype: float64\n"
     ]
    }
   ],
   "source": [
    "# Additional data description (Range)\n",
    "print(numeric_data.max() - numeric_data.min())"
   ]
  },
  {
   "cell_type": "code",
   "execution_count": 131,
   "metadata": {},
   "outputs": [
    {
     "data": {
      "text/plain": [
       "Unnamed: 0                 9.995000e+02\n",
       "Age                        1.925000e+01\n",
       "Income                     2.690882e+06\n",
       "Stress_Level               1.265364e+00\n",
       "Exercise_Hours_Per_Week    6.577267e+00\n",
       "Cholesterol_Level          1.291672e+00\n",
       "Weight                     1.323962e+01\n",
       "Height                     9.004696e-01\n",
       "Blood_Pressure             1.356018e+01\n",
       "dtype: float64"
      ]
     },
     "execution_count": 131,
     "metadata": {},
     "output_type": "execute_result"
    }
   ],
   "source": [
    "# Additional data description (Interquartile Range)\n",
    "Q1 = numeric_data.quantile(0.25)\n",
    "Q3 = numeric_data.quantile(0.75)\n",
    "IQR = Q3 - Q1\n",
    "IQR"
   ]
  },
  {
   "cell_type": "code",
   "execution_count": 132,
   "metadata": {},
   "outputs": [
    {
     "data": {
      "text/plain": [
       "Unnamed: 0                 0.000000\n",
       "Age                       -0.005292\n",
       "Income                    -0.006351\n",
       "Stress_Level              -0.012588\n",
       "Exercise_Hours_Per_Week    0.061026\n",
       "Cholesterol_Level         -0.072125\n",
       "Weight                    -0.057605\n",
       "Height                     0.657076\n",
       "Blood_Pressure            -1.626737\n",
       "dtype: float64"
      ]
     },
     "execution_count": 132,
     "metadata": {},
     "output_type": "execute_result"
    }
   ],
   "source": [
    "# Additional data description (Skewness)\n",
    "# The closer the value is to 0, the more symmetrical the data is\n",
    "numeric_data.skew()"
   ]
  },
  {
   "cell_type": "code",
   "execution_count": 133,
   "metadata": {},
   "outputs": [
    {
     "data": {
      "text/plain": [
       "Unnamed: 0                 -1.200000\n",
       "Age                        -1.203392\n",
       "Income                     -0.031562\n",
       "Stress_Level               -0.129817\n",
       "Exercise_Hours_Per_Week     0.018318\n",
       "Cholesterol_Level           0.005758\n",
       "Weight                      0.124732\n",
       "Height                      0.708111\n",
       "Blood_Pressure             18.838494\n",
       "dtype: float64"
      ]
     },
     "execution_count": 133,
     "metadata": {},
     "output_type": "execute_result"
    }
   ],
   "source": [
    "# Additional data description (Kurtosis)\n",
    "# Describes the shape of the distribution, the higher the value, the more peaked the data is\n",
    "numeric_data.kurtosis()"
   ]
  },
  {
   "cell_type": "code",
   "execution_count": 134,
   "metadata": {},
   "outputs": [
    {
     "name": "stdout",
     "output_type": "stream",
     "text": [
      "Unique Values:\n",
      " Gender           2\n",
      "Education        6\n",
      "Health_Status    4\n",
      "dtype: int64\n",
      "\n",
      "Proportions:\n",
      " Gender  Education          Health_Status\n",
      "Male    Bachelor's Degree  Good             134\n",
      "Female  Bachelor's Degree  Excellent        129\n",
      "Male    Bachelor's Degree  Excellent        126\n",
      "                           Fair             124\n",
      "Female  Bachelor's Degree  Poor             112\n",
      "                           Fair             108\n",
      "                           Good             106\n",
      "Male    Bachelor's Degree  Poor             101\n",
      "Female  Master's Degree    Fair              77\n",
      "                           Poor              67\n",
      "Male    Master's Degree    Poor              66\n",
      "Female  Master's Degree    Excellent         62\n",
      "Male    Master's Degree    Good              59\n",
      "                           Fair              53\n",
      "                           Excellent         50\n",
      "Female  Master's Degree    Good              48\n",
      "        PhD                Poor              39\n",
      "        High School        Fair              39\n",
      "Male    High School        Fair              39\n",
      "Female  High School        Poor              38\n",
      "Male    PhD                Poor              36\n",
      "Female  High School        Excellent         35\n",
      "                           Good              34\n",
      "        PhD                Excellent         33\n",
      "Male    High School        Excellent         31\n",
      "                           Poor              30\n",
      "        PhD                Good              29\n",
      "Female  PhD                Good              28\n",
      "Male    PhD                Excellent         28\n",
      "                           Fair              28\n",
      "Female  PhD                Fair              26\n",
      "Male    High School        Good              25\n",
      "        Other              Fair              12\n",
      "Female  Other              Fair              12\n",
      "                           Poor               9\n",
      "Male    Other              Excellent          6\n",
      "Female  Other              Good               5\n",
      "Male    Other              Good               5\n",
      "                           Poor               5\n",
      "Female  Other              Excellent          3\n",
      "Male    undefined          Fair               1\n",
      "Female  undefined          Good               1\n",
      "Male    undefined          Poor               1\n",
      "Name: count, dtype: int64\n"
     ]
    }
   ],
   "source": [
    "# Additional data description for non numeric data\n",
    "string_data = data.select_dtypes(include=[object])\n",
    "\n",
    "print(\"Unique Values:\\n\", string_data.nunique())\n",
    "print(\"\\nProportions:\\n\", string_data.value_counts(normalize=False))"
   ]
  },
  {
   "cell_type": "markdown",
   "metadata": {},
   "source": [
    "### Disini, kita akan menganggap data yang berada diluar rentang Q1 - 1.5IQR dan Q3 + 1.5IQR adalah outliers, kita akan menggunakan bantuan boxplot untuk mencarinya, titik-titik yang berada diluar whiskers (garis yang keluar dari box) adalah outliers."
   ]
  },
  {
   "cell_type": "code",
   "execution_count": 135,
   "metadata": {},
   "outputs": [
    {
     "data": {
      "image/png": "[encoded data removed]",
      "text/plain": [
       "<Figure size 640x480 with 1 Axes>"
      ]
     },
     "metadata": {},
     "output_type": "display_data"
    }
   ],
   "source": [
    "# Age\n",
    "age_data = data[\"Age\"]\n",
    "plt.boxplot(age_data, vert=False, patch_artist=True) \n",
    "plt.show()"
   ]
  },
  {
   "cell_type": "markdown",
   "metadata": {},
   "source": [
    "Karena tidak ada titik titik diluar whiskers, maka kolom age aman dari outliers"
   ]
  },
  {
   "cell_type": "code",
   "execution_count": 136,
   "metadata": {},
   "outputs": [
    {
     "data": {
      "image/png": "[encoded data removed]",
      "text/plain": [
       "<Figure size 640x480 with 1 Axes>"
      ]
     },
     "metadata": {},
     "output_type": "display_data"
    }
   ],
   "source": [
    "# Income\n",
    "income_data = data[\"Income\"]\n",
    "plt.boxplot(income_data, vert=False, patch_artist=True) \n",
    "plt.show()"
   ]
  },
  {
   "cell_type": "markdown",
   "metadata": {},
   "source": [
    "Disini terlihat kolom data income memiliki banyak outlier sehingga data tersebut perlu di cek lebih lanjut.\n",
    "\n",
    "Dari boxplot tersebut, ada income yang bernilai negatif yang jelas hal ini tidak masuk akal sehingga untuk menangani ini, kita perlu membatasi income minimum adalah 0."
   ]
  },
  {
   "cell_type": "code",
   "execution_count": 166,
   "metadata": {},
   "outputs": [
    {
     "data": {
      "text/plain": [
       "579     1.044300e+07\n",
       "673     1.060307e+07\n",
       "1328    1.222749e+07\n",
       "1460    1.036827e+07\n",
       "1686    1.198891e+07\n",
       "1947    1.073412e+07\n",
       "1948    1.034308e+07\n",
       "Name: Income, dtype: float64"
      ]
     },
     "execution_count": 166,
     "metadata": {},
     "output_type": "execute_result"
    }
   ],
   "source": [
    "outliers_income = income_data[(income_data < Q1[\"Income\"] - 1.5 * IQR[\"Income\"]) | (income_data > Q3[\"Income\"] + 1.5 * IQR[\"Income\"])]\n",
    "outliers_income"
   ]
  },
  {
   "cell_type": "code",
   "execution_count": 138,
   "metadata": {},
   "outputs": [
    {
     "data": {
      "text/plain": [
       "78     -3.044665e+05\n",
       "102    -5.235745e+05\n",
       "301    -3.643418e+04\n",
       "453    -6.372663e+05\n",
       "514    -4.944103e+05\n",
       "575    -1.185145e+05\n",
       "652    -4.327737e+04\n",
       "835    -4.719274e+05\n",
       "892    -9.677291e+05\n",
       "912    -1.582705e+05\n",
       "920    -2.232185e+05\n",
       "1329   -1.307770e+05\n",
       "1330   -6.596025e+03\n",
       "1356   -2.702728e+04\n",
       "1513   -3.418484e+05\n",
       "1541   -5.933986e+04\n",
       "1697   -1.088987e+06\n",
       "Name: Income, dtype: float64"
      ]
     },
     "execution_count": 138,
     "metadata": {},
     "output_type": "execute_result"
    }
   ],
   "source": [
    "# Tampilkan data yang memiliki nilai income negatif\n",
    "outliers_income_negatif = outliers_income[outliers_income < 0]\n",
    "outliers_income_negatif "
   ]
  },
  {
   "cell_type": "code",
   "execution_count": 139,
   "metadata": {},
   "outputs": [
    {
     "name": "stderr",
     "output_type": "stream",
     "text": [
      "C:\\Users\\Lenovo\\AppData\\Local\\Temp\\ipykernel_16108\\3248361792.py:1: SettingWithCopyWarning: \n",
      "A value is trying to be set on a copy of a slice from a DataFrame\n",
      "\n",
      "See the caveats in the documentation: https://pandas.pydata.org/pandas-docs/stable/user_guide/indexing.html#returning-a-view-versus-a-copy\n",
      "  income_data[income_data < 0] = 0\n"
     ]
    },
    {
     "data": {
      "text/plain": [
       "0       3.093457e+06\n",
       "1       5.545445e+06\n",
       "2       4.401808e+06\n",
       "3       4.606865e+06\n",
       "4       6.956049e+06\n",
       "            ...     \n",
       "1995    2.072546e+06\n",
       "1996    7.456909e+06\n",
       "1997    5.560391e+06\n",
       "1998    3.436759e+06\n",
       "1999    3.343102e+06\n",
       "Name: Income, Length: 2000, dtype: float64"
      ]
     },
     "execution_count": 139,
     "metadata": {},
     "output_type": "execute_result"
    }
   ],
   "source": [
    "# Replace negative income with 0\n",
    "income_data[income_data < 0] = 0\n",
    "income_data"
   ]
  },
  {
   "cell_type": "code",
   "execution_count": 157,
   "metadata": {},
   "outputs": [
    {
     "data": {
      "text/plain": [
       "{'whiskers': [<matplotlib.lines.Line2D at 0x2011346dd60>,\n",
       "  <matplotlib.lines.Line2D at 0x2011346e000>],\n",
       " 'caps': [<matplotlib.lines.Line2D at 0x2011346e1b0>,\n",
       "  <matplotlib.lines.Line2D at 0x2011346e480>],\n",
       " 'boxes': [<matplotlib.patches.PathPatch at 0x20111eb46b0>],\n",
       " 'medians': [<matplotlib.lines.Line2D at 0x2011346e7b0>],\n",
       " 'fliers': [<matplotlib.lines.Line2D at 0x2011346ea80>],\n",
       " 'means': []}"
      ]
     },
     "execution_count": 157,
     "metadata": {},
     "output_type": "execute_result"
    },
    {
     "data": {
      "image/png": "[encoded data removed]",
      "text/plain": [
       "<Figure size 640x480 with 1 Axes>"
      ]
     },
     "metadata": {},
     "output_type": "display_data"
    }
   ],
   "source": [
    "plt.boxplot(income_data, vert=False, patch_artist=True)"
   ]
  },
  {
   "cell_type": "markdown",
   "metadata": {},
   "source": [
    "Disini, income yang negatif sudah di set ke 0. Untuk income yang melebihi Q3 + 1.5IQR, hal tersebut mungkin saja terjadi sehingga tidak diperlukan perubahan untuk outliers yang bernilai > Q3 +1.5IQR."
   ]
  },
  {
   "cell_type": "code",
   "execution_count": 141,
   "metadata": {},
   "outputs": [
    {
     "data": {
      "image/png": "[encoded data removed]",
      "text/plain": [
       "<Figure size 640x480 with 1 Axes>"
      ]
     },
     "metadata": {},
     "output_type": "display_data"
    }
   ],
   "source": [
    "# Stress level\n",
    "stress_level_data = data[\"Stress_Level\"]\n",
    "plt.boxplot(stress_level_data, vert=False, patch_artist=True) \n",
    "plt.show()"
   ]
  },
  {
   "cell_type": "markdown",
   "metadata": {},
   "source": [
    "Disini terlihat bahwa kolom stress level juga memiliki outliers sehingga perlu diteliti lebih lanjut."
   ]
  },
  {
   "cell_type": "code",
   "execution_count": 142,
   "metadata": {},
   "outputs": [
    {
     "data": {
      "image/png": "[encoded data removed]",
      "text/plain": [
       "<Figure size 640x480 with 1 Axes>"
      ]
     },
     "metadata": {},
     "output_type": "display_data"
    }
   ],
   "source": [
    "# Exercise_Hours_Per_Week\n",
    "exercise_hours_per_week_data = data[\"Exercise_Hours_Per_Week\"]\n",
    "plt.boxplot(exercise_hours_per_week_data, vert=False, patch_artist=True) \n",
    "plt.show()"
   ]
  },
  {
   "cell_type": "markdown",
   "metadata": {},
   "source": [
    "Disini terlihat bahwa kolom Exercise Hours Per Week juga memiliki outliers sehingga perlu diteliti lebih lanjut."
   ]
  },
  {
   "cell_type": "code",
   "execution_count": 165,
   "metadata": {},
   "outputs": [
    {
     "data": {
      "text/plain": [
       "48      24.033132\n",
       "180     25.530543\n",
       "452     23.463102\n",
       "479     23.506893\n",
       "644     23.269785\n",
       "893     23.103693\n",
       "1147    23.883280\n",
       "1284    26.816358\n",
       "1677    26.795926\n",
       "1784    23.432592\n",
       "1788    25.146327\n",
       "1853    23.794101\n",
       "Name: Exercise_Hours_Per_Week, dtype: float64"
      ]
     },
     "execution_count": 165,
     "metadata": {},
     "output_type": "execute_result"
    }
   ],
   "source": [
    "# Check outliers\n",
    "outliers_exercise = exercise_hours_per_week_data[(exercise_hours_per_week_data < Q1[\"Exercise_Hours_Per_Week\"] - 1.5 * IQR[\"Exercise_Hours_Per_Week\"]) | (exercise_hours_per_week_data > Q3[\"Exercise_Hours_Per_Week\"] + 1.5 * IQR[\"Exercise_Hours_Per_Week\"])]\n",
    "outliers_exercise"
   ]
  },
  {
   "cell_type": "code",
   "execution_count": 161,
   "metadata": {},
   "outputs": [
    {
     "data": {
      "text/plain": [
       "35     -1.927087\n",
       "53     -0.432964\n",
       "75     -0.309098\n",
       "101    -0.950271\n",
       "162    -3.063739\n",
       "193    -1.552585\n",
       "235    -0.064111\n",
       "258    -0.273152\n",
       "264    -0.392170\n",
       "273    -0.764312\n",
       "276    -0.352699\n",
       "278    -3.632656\n",
       "291    -0.342537\n",
       "328    -2.077250\n",
       "330    -4.499310\n",
       "339    -0.757945\n",
       "366    -1.905777\n",
       "580    -4.247733\n",
       "660    -1.218878\n",
       "742    -0.490524\n",
       "1056   -3.645436\n",
       "1068   -0.950923\n",
       "1143   -1.271801\n",
       "1176   -1.300274\n",
       "1207   -1.442528\n",
       "1211   -0.942582\n",
       "1250   -2.636253\n",
       "1293   -2.501845\n",
       "1319   -0.141838\n",
       "1544   -1.669836\n",
       "1545   -0.379740\n",
       "1599   -3.343693\n",
       "1623   -2.688027\n",
       "1671   -1.207635\n",
       "1699   -0.804646\n",
       "1706   -4.298969\n",
       "1708   -0.325989\n",
       "1760   -1.326430\n",
       "1835   -2.636172\n",
       "1992   -0.954750\n",
       "1993   -2.087057\n",
       "Name: Exercise_Hours_Per_Week, dtype: float64"
      ]
     },
     "execution_count": 161,
     "metadata": {},
     "output_type": "execute_result"
    }
   ],
   "source": [
    "# Check for negative values\n",
    "negatif_exercise = exercise_hours_per_week_data[exercise_hours_per_week_data < 0]\n",
    "negatif_exercise"
   ]
  },
  {
   "cell_type": "code",
   "execution_count": 162,
   "metadata": {},
   "outputs": [
    {
     "name": "stderr",
     "output_type": "stream",
     "text": [
      "C:\\Users\\Lenovo\\AppData\\Local\\Temp\\ipykernel_16108\\2105237482.py:1: SettingWithCopyWarning: \n",
      "A value is trying to be set on a copy of a slice from a DataFrame\n",
      "\n",
      "See the caveats in the documentation: https://pandas.pydata.org/pandas-docs/stable/user_guide/indexing.html#returning-a-view-versus-a-copy\n",
      "  exercise_hours_per_week_data[exercise_hours_per_week_data < 0] = 0\n"
     ]
    }
   ],
   "source": [
    "# Change negative values to 0\n",
    "exercise_hours_per_week_data[exercise_hours_per_week_data < 0] = 0"
   ]
  },
  {
   "cell_type": "code",
   "execution_count": 163,
   "metadata": {},
   "outputs": [
    {
     "data": {
      "text/plain": [
       "{'whiskers': [<matplotlib.lines.Line2D at 0x20113494950>,\n",
       "  <matplotlib.lines.Line2D at 0x201134b2750>],\n",
       " 'caps': [<matplotlib.lines.Line2D at 0x201134b2a80>,\n",
       "  <matplotlib.lines.Line2D at 0x201134b2d80>],\n",
       " 'boxes': [<matplotlib.patches.PathPatch at 0x201116c5520>],\n",
       " 'medians': [<matplotlib.lines.Line2D at 0x201134b2f30>],\n",
       " 'fliers': [<matplotlib.lines.Line2D at 0x201134b31a0>],\n",
       " 'means': []}"
      ]
     },
     "execution_count": 163,
     "metadata": {},
     "output_type": "execute_result"
    },
    {
     "data": {
      "image/png": "[encoded data removed]",
      "text/plain": [
       "<Figure size 640x480 with 1 Axes>"
      ]
     },
     "metadata": {},
     "output_type": "display_data"
    }
   ],
   "source": [
    "plt.boxplot(exercise_hours_per_week_data, vert=False, patch_artist=True)"
   ]
  },
  {
   "cell_type": "markdown",
   "metadata": {},
   "source": [
    "Disini, exercise hour per week yang negatif sudah di set ke 0. Untuk exercise hour per week yang melebihi Q3 + 1.5IQR, hal tersebut mungkin saja terjadi sehingga tidak diperlukan perubahan untuk outliers yang bernilai > Q3 +1.5IQR."
   ]
  },
  {
   "cell_type": "code",
   "execution_count": 143,
   "metadata": {},
   "outputs": [
    {
     "data": {
      "image/png": "[encoded data removed]",
      "text/plain": [
       "<Figure size 640x480 with 1 Axes>"
      ]
     },
     "metadata": {},
     "output_type": "display_data"
    }
   ],
   "source": [
    "# Cholesterol_Level\n",
    "cholesterol_level_data = data[\"Cholesterol_Level\"]\n",
    "plt.boxplot(cholesterol_level_data, vert=False, patch_artist=True) \n",
    "plt.show()"
   ]
  },
  {
   "cell_type": "markdown",
   "metadata": {},
   "source": [
    "Disini terlihat bahwa kolom Cholesterol level juga memiliki outliers sehingga perlu diteliti lebih lanjut."
   ]
  },
  {
   "cell_type": "code",
   "execution_count": 144,
   "metadata": {},
   "outputs": [
    {
     "data": {
      "image/png": "[encoded data removed]",
      "text/plain": [
       "<Figure size 640x480 with 1 Axes>"
      ]
     },
     "metadata": {},
     "output_type": "display_data"
    }
   ],
   "source": [
    "# Weight\n",
    "weight_data = data[\"Weight\"]\n",
    "plt.boxplot(weight_data, vert=False, patch_artist=True) \n",
    "plt.show()"
   ]
  },
  {
   "cell_type": "markdown",
   "metadata": {},
   "source": [
    "Disini terlihat bahwa kolom Weight juga memiliki outliers sehingga perlu diteliti lebih lanjut."
   ]
  },
  {
   "cell_type": "code",
   "execution_count": 145,
   "metadata": {},
   "outputs": [
    {
     "data": {
      "image/png": "[encoded data removed]",
      "text/plain": [
       "<Figure size 640x480 with 1 Axes>"
      ]
     },
     "metadata": {},
     "output_type": "display_data"
    }
   ],
   "source": [
    "# Height\n",
    "height_data = data[\"Height\"]\n",
    "plt.boxplot(height_data, vert=False, patch_artist=True) \n",
    "plt.show()"
   ]
  },
  {
   "cell_type": "markdown",
   "metadata": {},
   "source": [
    "Disini terlihat bahwa kolom Height juga memiliki outliers sehingga perlu diteliti lebih lanjut."
   ]
  },
  {
   "cell_type": "code",
   "execution_count": 146,
   "metadata": {},
   "outputs": [
    {
     "data": {
      "image/png": "[encoded data removed]",
      "text/plain": [
       "<Figure size 640x480 with 1 Axes>"
      ]
     },
     "metadata": {},
     "output_type": "display_data"
    }
   ],
   "source": [
    "# Blood_Pressure\n",
    "blood_pressure_data = data[\"Blood_Pressure\"]\n",
    "plt.boxplot(blood_pressure_data, vert=False, patch_artist=True) \n",
    "plt.show()"
   ]
  },
  {
   "cell_type": "markdown",
   "metadata": {},
   "source": [
    "Disini terlihat bahwa kolom Blood Pressure juga memiliki outliers sehingga perlu diteliti lebih lanjut."
   ]
  },
  {
   "cell_type": "code",
   "execution_count": 169,
   "metadata": {},
   "outputs": [
    {
     "data": {
      "text/plain": [
       "43       90.027285\n",
       "117      85.650116\n",
       "192      91.953005\n",
       "230     150.635116\n",
       "249     148.131915\n",
       "316       0.000000\n",
       "323     148.158032\n",
       "417      92.692620\n",
       "526     149.568502\n",
       "617      10.780000\n",
       "715     149.463928\n",
       "924      88.578819\n",
       "1123    147.048143\n",
       "1223     88.665138\n",
       "1230    152.643476\n",
       "1421     92.479926\n",
       "1507     92.114951\n",
       "1551      0.000000\n",
       "1643     44.450000\n",
       "1696    154.427656\n",
       "1807     92.561036\n",
       "1920    200.950000\n",
       "Name: Blood_Pressure, dtype: float64"
      ]
     },
     "execution_count": 169,
     "metadata": {},
     "output_type": "execute_result"
    }
   ],
   "source": [
    "# Check for outliers\n",
    "outliers_blood_pressure = blood_pressure_data[(blood_pressure_data < Q1[\"Blood_Pressure\"] - 1.5 * IQR[\"Blood_Pressure\"]) | (blood_pressure_data > Q3[\"Blood_Pressure\"] + 1.5 * IQR[\"Blood_Pressure\"])]\n",
    "outliers_blood_pressure"
   ]
  },
  {
   "cell_type": "code",
   "execution_count": 172,
   "metadata": {},
   "outputs": [
    {
     "data": {
      "text/plain": [
       "(array([  2.,   0.,   0.,   0.,   0.,   1.,   0.,   0.,   0.,   0.,   0.,\n",
       "          0.,   0.,   0.,   0.,   0.,   0.,   0.,   0.,   0.,   0.,   0.,\n",
       "          1.,   0.,   0.,   0.,   0.,   0.,   0.,   0.,   0.,   0.,   0.,\n",
       "          0.,   0.,   0.,   0.,   0.,   0.,   0.,   0.,   0.,   1.,   0.,\n",
       "          3.,   2.,   6.,   7.,  13.,  19.,  29.,  51.,  48.,  91.,  79.,\n",
       "        112., 132., 146., 136., 184., 144., 157., 134., 123.,  97.,  91.,\n",
       "         50.,  46.,  43.,  23.,   8.,   8.,   3.,   4.,   3.,   1.,   1.,\n",
       "          0.,   0.,   0.,   0.,   0.,   0.,   0.,   0.,   0.,   0.,   0.,\n",
       "          0.,   0.,   0.,   0.,   0.,   0.,   0.,   0.,   0.,   0.,   0.,\n",
       "          1.]),\n",
       " array([  0.    ,   2.0095,   4.019 ,   6.0285,   8.038 ,  10.0475,\n",
       "         12.057 ,  14.0665,  16.076 ,  18.0855,  20.095 ,  22.1045,\n",
       "         24.114 ,  26.1235,  28.133 ,  30.1425,  32.152 ,  34.1615,\n",
       "         36.171 ,  38.1805,  40.19  ,  42.1995,  44.209 ,  46.2185,\n",
       "         48.228 ,  50.2375,  52.247 ,  54.2565,  56.266 ,  58.2755,\n",
       "         60.285 ,  62.2945,  64.304 ,  66.3135,  68.323 ,  70.3325,\n",
       "         72.342 ,  74.3515,  76.361 ,  78.3705,  80.38  ,  82.3895,\n",
       "         84.399 ,  86.4085,  88.418 ,  90.4275,  92.437 ,  94.4465,\n",
       "         96.456 ,  98.4655, 100.475 , 102.4845, 104.494 , 106.5035,\n",
       "        108.513 , 110.5225, 112.532 , 114.5415, 116.551 , 118.5605,\n",
       "        120.57  , 122.5795, 124.589 , 126.5985, 128.608 , 130.6175,\n",
       "        132.627 , 134.6365, 136.646 , 138.6555, 140.665 , 142.6745,\n",
       "        144.684 , 146.6935, 148.703 , 150.7125, 152.722 , 154.7315,\n",
       "        156.741 , 158.7505, 160.76  , 162.7695, 164.779 , 166.7885,\n",
       "        168.798 , 170.8075, 172.817 , 174.8265, 176.836 , 178.8455,\n",
       "        180.855 , 182.8645, 184.874 , 186.8835, 188.893 , 190.9025,\n",
       "        192.912 , 194.9215, 196.931 , 198.9405, 200.95  ]),\n",
       " <BarContainer object of 100 artists>)"
      ]
     },
     "execution_count": 172,
     "metadata": {},
     "output_type": "execute_result"
    },
    {
     "data": {
      "image/png": "[encoded data removed]",
      "text/plain": [
       "<Figure size 640x480 with 1 Axes>"
      ]
     },
     "metadata": {},
     "output_type": "display_data"
    }
   ],
   "source": [
    "plt.hist(blood_pressure_data, bins=100, rwidth=0.5)"
   ]
  },
  {
   "cell_type": "code",
   "execution_count": 147,
   "metadata": {},
   "outputs": [
    {
     "data": {
      "image/png": "[encoded data removed]",
      "text/plain": [
       "<Figure size 640x480 with 1 Axes>"
      ]
     },
     "metadata": {},
     "output_type": "display_data"
    }
   ],
   "source": [
    "# Gender distribution\n",
    "gender_data = data['Gender']\n",
    "counts, bins, patches = plt.hist(gender_data, bins=2, rwidth=0.85)\n",
    "\n",
    "# Menentukan label untuk setiap bin\n",
    "bin_centers = 0.5 * np.diff(bins) + bins[:-1] # titik tengah bin\n",
    "labels = ['Male', 'Female'] # label untuk setiap bin\n",
    "\n",
    "plt.xticks(bin_centers, labels)  # menetapkan label pada titik tengah bin\n",
    "plt.show()\n",
    "\n"
   ]
  },
  {
   "cell_type": "code",
   "execution_count": 148,
   "metadata": {},
   "outputs": [
    {
     "data": {
      "image/png": "[encoded data removed]",
      "text/plain": [
       "<Figure size 640x480 with 1 Axes>"
      ]
     },
     "metadata": {},
     "output_type": "display_data"
    }
   ],
   "source": [
    "# Education distribution\n",
    "education_data = data['Education']\n",
    "counts, bins, patches = plt.hist(education_data, bins=4, rwidth=0.4)\n",
    "\n",
    "# Menentukan label untuk setiap bin\n",
    "bin_centers = 0.5 * np.diff(bins) + bins[:-1]  # titik tengah bin\n",
    "labels = ['Master\\'s Degree', 'High School', 'PhD', 'Other']  # label untuk setiap bin\n",
    "\n",
    "plt.xticks(bin_centers, labels)  # menetapkan label pada titik tengah bin\n",
    "\n",
    "plt.show()"
   ]
  },
  {
   "cell_type": "code",
   "execution_count": 149,
   "metadata": {},
   "outputs": [
    {
     "data": {
      "text/plain": [
       "(array([121.,  88.,  85., 100., 100., 111., 113., 100.,  96.,  97.,  81.,\n",
       "        103., 108.,  93., 104.,  99., 113.,  96.,  99.,  93.]),\n",
       " array([20.  , 21.95, 23.9 , 25.85, 27.8 , 29.75, 31.7 , 33.65, 35.6 ,\n",
       "        37.55, 39.5 , 41.45, 43.4 , 45.35, 47.3 , 49.25, 51.2 , 53.15,\n",
       "        55.1 , 57.05, 59.  ]),\n",
       " <BarContainer object of 20 artists>)"
      ]
     },
     "execution_count": 149,
     "metadata": {},
     "output_type": "execute_result"
    },
    {
     "data": {
      "image/png": "[encoded data removed]",
      "text/plain": [
       "<Figure size 640x480 with 1 Axes>"
      ]
     },
     "metadata": {},
     "output_type": "display_data"
    }
   ],
   "source": [
    "# Age distribution\n",
    "plt.hist(age_data, bins=20, rwidth=0.5)"
   ]
  },
  {
   "cell_type": "code",
   "execution_count": 150,
   "metadata": {},
   "outputs": [
    {
     "data": {
      "text/plain": [
       "(array([ 37.,  34.,  68.,  78., 153., 164., 214., 248., 253., 207., 171.,\n",
       "        157.,  92.,  54.,  38.,  18.,   9.,   3.,   0.,   2.]),\n",
       " array([       0.    ,   611374.6115,  1222749.223 ,  1834123.8345,\n",
       "         2445498.446 ,  3056873.0575,  3668247.669 ,  4279622.2805,\n",
       "         4890996.892 ,  5502371.5035,  6113746.115 ,  6725120.7265,\n",
       "         7336495.338 ,  7947869.9495,  8559244.561 ,  9170619.1725,\n",
       "         9781993.784 , 10393368.3955, 11004743.007 , 11616117.6185,\n",
       "        12227492.23  ]),\n",
       " <BarContainer object of 20 artists>)"
      ]
     },
     "execution_count": 150,
     "metadata": {},
     "output_type": "execute_result"
    },
    {
     "data": {
      "image/png": "[encoded data removed]",
      "text/plain": [
       "<Figure size 640x480 with 1 Axes>"
      ]
     },
     "metadata": {},
     "output_type": "display_data"
    }
   ],
   "source": [
    "# Income distribution\n",
    "plt.hist(income_data, bins=20, rwidth=0.5)"
   ]
  },
  {
   "cell_type": "code",
   "execution_count": 151,
   "metadata": {},
   "outputs": [
    {
     "data": {
      "text/plain": [
       "(array([  6.,  10.,  19.,  39.,  86., 111., 178., 208., 249., 253., 244.,\n",
       "        211., 159., 104.,  68.,  33.,   9.,  10.,   2.,   1.]),\n",
       " array([2.52805661, 2.83072014, 3.13338366, 3.43604719, 3.73871072,\n",
       "        4.04137425, 4.34403778, 4.6467013 , 4.94936483, 5.25202836,\n",
       "        5.55469189, 5.85735542, 6.16001894, 6.46268247, 6.765346  ,\n",
       "        7.06800953, 7.37067306, 7.67333659, 7.97600011, 8.27866364,\n",
       "        8.58132717]),\n",
       " <BarContainer object of 20 artists>)"
      ]
     },
     "execution_count": 151,
     "metadata": {},
     "output_type": "execute_result"
    },
    {
     "data": {
      "image/png": "[encoded data removed]",
      "text/plain": [
       "<Figure size 640x480 with 1 Axes>"
      ]
     },
     "metadata": {},
     "output_type": "display_data"
    }
   ],
   "source": [
    "# Stress level distribution\n",
    "plt.hist(stress_level_data, bins=20, rwidth=0.5)"
   ]
  },
  {
   "cell_type": "code",
   "execution_count": 152,
   "metadata": {},
   "outputs": [
    {
     "data": {
      "text/plain": [
       "(array([  7.,  11.,  27.,  47.,  83., 136., 167., 209., 254., 257., 234.,\n",
       "        198., 143., 107.,  50.,  26.,  27.,  10.,   4.,   3.]),\n",
       " array([-4.4993105 , -2.93352705, -1.3677436 ,  0.19803985,  1.76382329,\n",
       "         3.32960674,  4.89539019,  6.46117364,  8.02695709,  9.59274054,\n",
       "        11.15852398, 12.72430743, 14.29009088, 15.85587433, 17.42165778,\n",
       "        18.98744123, 20.55322467, 22.11900812, 23.68479157, 25.25057502,\n",
       "        26.81635847]),\n",
       " <BarContainer object of 20 artists>)"
      ]
     },
     "execution_count": 152,
     "metadata": {},
     "output_type": "execute_result"
    },
    {
     "data": {
      "image/png": "[encoded data removed]",
      "text/plain": [
       "<Figure size 640x480 with 1 Axes>"
      ]
     },
     "metadata": {},
     "output_type": "display_data"
    }
   ],
   "source": [
    "# Exercise hours per week distribution\n",
    "plt.hist(exercise_hours_per_week_data, bins=20, rwidth=0.5)"
   ]
  },
  {
   "cell_type": "code",
   "execution_count": 153,
   "metadata": {},
   "outputs": [
    {
     "data": {
      "text/plain": [
       "(array([  3.,   6.,   6.,  26.,  38.,  59., 108., 170., 179., 246., 255.,\n",
       "        251., 220., 164., 107.,  79.,  40.,  30.,   7.,   6.]),\n",
       " array([196.91494771, 197.22731707, 197.53968644, 197.8520558 ,\n",
       "        198.16442517, 198.47679453, 198.78916389, 199.10153326,\n",
       "        199.41390262, 199.72627199, 200.03864135, 200.35101072,\n",
       "        200.66338008, 200.97574945, 201.28811881, 201.60048818,\n",
       "        201.91285754, 202.2252269 , 202.53759627, 202.84996563,\n",
       "        203.162335  ]),\n",
       " <BarContainer object of 20 artists>)"
      ]
     },
     "execution_count": 153,
     "metadata": {},
     "output_type": "execute_result"
    },
    {
     "data": {
      "image/png": "[encoded data removed]",
      "text/plain": [
       "<Figure size 640x480 with 1 Axes>"
      ]
     },
     "metadata": {},
     "output_type": "display_data"
    }
   ],
   "source": [
    "# Cholesterol level distribution\n",
    "plt.hist(cholesterol_level_data, bins=20, rwidth=0.5)"
   ]
  },
  {
   "cell_type": "code",
   "execution_count": 154,
   "metadata": {},
   "outputs": [
    {
     "data": {
      "text/plain": [
       "(array([  1.,   3.,  11.,  18.,  44.,  78., 145., 185., 261., 292., 332.,\n",
       "        228., 196., 105.,  53.,  30.,  13.,   2.,   2.,   1.]),\n",
       " array([ 32.58175761,  36.43314783,  40.28453805,  44.13592828,\n",
       "         47.9873185 ,  51.83870872,  55.69009894,  59.54148916,\n",
       "         63.39287938,  67.2442696 ,  71.09565982,  74.94705004,\n",
       "         78.79844026,  82.64983048,  86.50122071,  90.35261093,\n",
       "         94.20400115,  98.05539137, 101.90678159, 105.75817181,\n",
       "        109.60956203]),\n",
       " <BarContainer object of 20 artists>)"
      ]
     },
     "execution_count": 154,
     "metadata": {},
     "output_type": "execute_result"
    },
    {
     "data": {
      "image/png": "[encoded data removed]",
      "text/plain": [
       "<Figure size 640x480 with 1 Axes>"
      ]
     },
     "metadata": {},
     "output_type": "display_data"
    }
   ],
   "source": [
    "# Weight distribution\n",
    "plt.hist(weight_data, bins=20, rwidth=0.5)"
   ]
  },
  {
   "cell_type": "code",
   "execution_count": 155,
   "metadata": {},
   "outputs": [
    {
     "data": {
      "text/plain": [
       "(array([ 11.,  41.,  88., 187., 251., 295., 277., 248., 192., 146., 113.,\n",
       "         50.,  45.,  24.,  13.,   9.,   6.,   1.,   1.,   2.]),\n",
       " array([149.12459377, 149.36188753, 149.59918129, 149.83647505,\n",
       "        150.07376881, 150.31106257, 150.54835633, 150.78565008,\n",
       "        151.02294384, 151.2602376 , 151.49753136, 151.73482512,\n",
       "        151.97211888, 152.20941264, 152.4467064 , 152.68400015,\n",
       "        152.92129391, 153.15858767, 153.39588143, 153.63317519,\n",
       "        153.87046895]),\n",
       " <BarContainer object of 20 artists>)"
      ]
     },
     "execution_count": 155,
     "metadata": {},
     "output_type": "execute_result"
    },
    {
     "data": {
      "image/png": "[encoded data removed]",
      "text/plain": [
       "<Figure size 640x480 with 1 Axes>"
      ]
     },
     "metadata": {},
     "output_type": "display_data"
    }
   ],
   "source": [
    "# Height distribution\n",
    "plt.hist(height_data, bins=20, rwidth=0.5)"
   ]
  },
  {
   "cell_type": "code",
   "execution_count": 156,
   "metadata": {},
   "outputs": [
    {
     "data": {
      "text/plain": [
       "(array([  2.,   1.,   0.,   0.,   1.,   0.,   0.,   0.,   4.,  47., 298.,\n",
       "        710., 655., 253.,  26.,   2.,   0.,   0.,   0.,   1.]),\n",
       " array([  0.    ,  10.0475,  20.095 ,  30.1425,  40.19  ,  50.2375,\n",
       "         60.285 ,  70.3325,  80.38  ,  90.4275, 100.475 , 110.5225,\n",
       "        120.57  , 130.6175, 140.665 , 150.7125, 160.76  , 170.8075,\n",
       "        180.855 , 190.9025, 200.95  ]),\n",
       " <BarContainer object of 20 artists>)"
      ]
     },
     "execution_count": 156,
     "metadata": {},
     "output_type": "execute_result"
    },
    {
     "data": {
      "image/png": "[encoded data removed]",
      "text/plain": [
       "<Figure size 640x480 with 1 Axes>"
      ]
     },
     "metadata": {},
     "output_type": "display_data"
    }
   ],
   "source": [
    "# Blood pressure distribution\n",
    "plt.hist(blood_pressure_data, bins=20, rwidth=0.8)"
   ]
  }
 ],
 "metadata": {
  "kernelspec": {
   "display_name": "Python 3",
   "language": "python",
   "name": "python3"
  },
  "language_info": {
   "codemirror_mode": {
    "name": "ipython",
    "version": 3
   },
   "file_extension": ".py",
   "mimetype": "text/x-python",
   "name": "python",
   "nbconvert_exporter": "python",
   "pygments_lexer": "ipython3",
   "version": "3.12.2"
  }
 },
 "nbformat": 4,
 "nbformat_minor": 2
}
